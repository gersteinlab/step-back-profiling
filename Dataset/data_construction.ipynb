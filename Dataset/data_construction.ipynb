{
  "cells": [
    {
      "cell_type": "code",
      "execution_count": 1,
      "metadata": {},
      "outputs": [],
      "source": [
        "import time\n",
        "import json\n",
        "import codecs\n",
        "from semanticscholar import SemanticScholar\n",
        "\n",
        "sch = SemanticScholar(api_key=\"mEwrkvDmRc9KFXu76cAAk16KJxHNNUuf9tYaot1g\")"
      ]
    },
    {
      "cell_type": "code",
      "execution_count": 9,
      "metadata": {},
      "outputs": [
        {
          "name": "stdout",
          "output_type": "stream",
          "text": [
            "Failed: 36 - the JSON object must be str, bytes or bytearray, not NoneType\n",
            "Failed: 61 - the JSON object must be str, bytes or bytearray, not NoneType\n",
            "Failed: 83 - the JSON object must be str, bytes or bytearray, not NoneType\n",
            "Failed: 157 - the JSON object must be str, bytes or bytearray, not NoneType\n",
            "Failed: 183 - the JSON object must be str, bytes or bytearray, not NoneType\n",
            "Failed: 184 - the JSON object must be str, bytes or bytearray, not NoneType\n",
            "Failed: 185 - the JSON object must be str, bytes or bytearray, not NoneType\n",
            "Failed: 199 - the JSON object must be str, bytes or bytearray, not NoneType\n",
            "Failed: 206 - the JSON object must be str, bytes or bytearray, not NoneType\n",
            "Failed: 210 - the JSON object must be str, bytes or bytearray, not NoneType\n",
            "Failed: 252 - the JSON object must be str, bytes or bytearray, not NoneType\n",
            "Failed: 253 - the JSON object must be str, bytes or bytearray, not NoneType\n",
            "Failed: 257 - the JSON object must be str, bytes or bytearray, not NoneType\n",
            "Failed: 297 - the JSON object must be str, bytes or bytearray, not NoneType\n",
            "Failed: 300 - the JSON object must be str, bytes or bytearray, not NoneType\n",
            "Failed: 313 - 'NoneType' object is not subscriptable\n",
            "Failed: 394 - the JSON object must be str, bytes or bytearray, not NoneType\n",
            "Failed: 398 - the JSON object must be str, bytes or bytearray, not NoneType\n",
            "Failed: 415 - the JSON object must be str, bytes or bytearray, not NoneType\n",
            "Failed: 425 - the JSON object must be str, bytes or bytearray, not NoneType\n",
            "Failed: 426 - the JSON object must be str, bytes or bytearray, not NoneType\n",
            "Failed: 436 - the JSON object must be str, bytes or bytearray, not NoneType\n",
            "Failed: 446 - the JSON object must be str, bytes or bytearray, not NoneType\n",
            "Failed: 469 - the JSON object must be str, bytes or bytearray, not NoneType\n",
            "Failed: 476 - 'NoneType' object is not subscriptable\n",
            "Failed: 492 - the JSON object must be str, bytes or bytearray, not NoneType\n",
            "Failed: 494 - the JSON object must be str, bytes or bytearray, not NoneType\n",
            "Failed: 495 - the JSON object must be str, bytes or bytearray, not NoneType\n",
            "Failed: 497 - the JSON object must be str, bytes or bytearray, not NoneType\n",
            "Failed: 519 - the JSON object must be str, bytes or bytearray, not NoneType\n",
            "Failed: 524 - the JSON object must be str, bytes or bytearray, not NoneType\n",
            "Failed: 601 - the JSON object must be str, bytes or bytearray, not NoneType\n",
            "Failed: 662 - the JSON object must be str, bytes or bytearray, not NoneType\n",
            "Failed: 690 - the JSON object must be str, bytes or bytearray, not NoneType\n",
            "Failed: 716 - the JSON object must be str, bytes or bytearray, not NoneType\n",
            "Failed: 720 - the JSON object must be str, bytes or bytearray, not NoneType\n",
            "Failed: 728 - 'NoneType' object is not subscriptable\n",
            "Failed: 756 - the JSON object must be str, bytes or bytearray, not NoneType\n",
            "Failed: 790 - the JSON object must be str, bytes or bytearray, not NoneType\n",
            "Failed: 859 - the JSON object must be str, bytes or bytearray, not NoneType\n",
            "Failed: 880 - 'NoneType' object is not subscriptable\n",
            "Failed: 909 - the JSON object must be str, bytes or bytearray, not NoneType\n",
            "Failed: 977 - the JSON object must be str, bytes or bytearray, not NoneType\n",
            "Failed: 1012 - the JSON object must be str, bytes or bytearray, not NoneType\n",
            "Failed: 1018 - the JSON object must be str, bytes or bytearray, not NoneType\n",
            "Failed: 1061 - the JSON object must be str, bytes or bytearray, not NoneType\n",
            "Failed: 1069 - the JSON object must be str, bytes or bytearray, not NoneType\n",
            "Failed: 1070 - the JSON object must be str, bytes or bytearray, not NoneType\n",
            "Failed: 1140 - the JSON object must be str, bytes or bytearray, not NoneType\n",
            "Failed: 1149 - the JSON object must be str, bytes or bytearray, not NoneType\n",
            "Failed: 1158 - the JSON object must be str, bytes or bytearray, not NoneType\n",
            "Failed: 1196 - the JSON object must be str, bytes or bytearray, not NoneType\n",
            "Failed: 1254 - the JSON object must be str, bytes or bytearray, not NoneType\n",
            "Failed: 1286 - 'NoneType' object is not subscriptable\n",
            "Failed: 1349 - the JSON object must be str, bytes or bytearray, not NoneType\n",
            "Failed: 1388 - the JSON object must be str, bytes or bytearray, not NoneType\n",
            "Failed: 1449 - the JSON object must be str, bytes or bytearray, not NoneType\n",
            "Failed: 1453 - the JSON object must be str, bytes or bytearray, not NoneType\n",
            "Failed: 1456 - the JSON object must be str, bytes or bytearray, not NoneType\n",
            "Failed: 1474 - 'NoneType' object is not subscriptable\n",
            "Failed: 1583 - the JSON object must be str, bytes or bytearray, not NoneType\n",
            "Failed: 1684 - the JSON object must be str, bytes or bytearray, not NoneType\n",
            "Failed: 1766 - the JSON object must be str, bytes or bytearray, not NoneType\n",
            "Failed: 1779 - the JSON object must be str, bytes or bytearray, not NoneType\n",
            "Failed: 1781 - the JSON object must be str, bytes or bytearray, not NoneType\n",
            "Failed: 1787 - the JSON object must be str, bytes or bytearray, not NoneType\n",
            "Failed: 1793 - the JSON object must be str, bytes or bytearray, not NoneType\n",
            "Failed: 1822 - the JSON object must be str, bytes or bytearray, not NoneType\n",
            "Failed: 1841 - the JSON object must be str, bytes or bytearray, not NoneType\n",
            "Failed: 1842 - the JSON object must be str, bytes or bytearray, not NoneType\n",
            "Failed: 1861 - the JSON object must be str, bytes or bytearray, not NoneType\n",
            "Failed: 1876 - the JSON object must be str, bytes or bytearray, not NoneType\n",
            "Failed: 1887 - the JSON object must be str, bytes or bytearray, not NoneType\n",
            "Failed: 1897 - the JSON object must be str, bytes or bytearray, not NoneType\n",
            "Failed: 1946 - the JSON object must be str, bytes or bytearray, not NoneType\n",
            "Failed: 1948 - the JSON object must be str, bytes or bytearray, not NoneType\n",
            "Failed: 1958 - the JSON object must be str, bytes or bytearray, not NoneType\n",
            "Failed: 1976 - the JSON object must be str, bytes or bytearray, not NoneType\n",
            "Failed: 1979 - the JSON object must be str, bytes or bytearray, not NoneType\n",
            "Failed: 1980 - the JSON object must be str, bytes or bytearray, not NoneType\n",
            "Failed: 1986 - the JSON object must be str, bytes or bytearray, not NoneType\n",
            "Failed: 2024 - the JSON object must be str, bytes or bytearray, not NoneType\n",
            "Failed: 2066 - the JSON object must be str, bytes or bytearray, not NoneType\n",
            "Failed: 2067 - the JSON object must be str, bytes or bytearray, not NoneType\n",
            "Failed: 2068 - the JSON object must be str, bytes or bytearray, not NoneType\n",
            "Failed: 2099 - the JSON object must be str, bytes or bytearray, not NoneType\n",
            "Failed: 2109 - the JSON object must be str, bytes or bytearray, not NoneType\n",
            "Failed: 2131 - the JSON object must be str, bytes or bytearray, not NoneType\n",
            "Failed: 2185 - the JSON object must be str, bytes or bytearray, not NoneType\n",
            "Failed: 2186 - the JSON object must be str, bytes or bytearray, not NoneType\n",
            "Failed: 2255 - the JSON object must be str, bytes or bytearray, not NoneType\n",
            "Failed: 2259 - 'NoneType' object is not subscriptable\n",
            "Failed: 2277 - the JSON object must be str, bytes or bytearray, not NoneType\n",
            "Failed: 2338 - '<=' not supported between instances of 'int' and 'str'\n",
            "Failed: 2343 - the JSON object must be str, bytes or bytearray, not NoneType\n",
            "Failed: 2346 - the JSON object must be str, bytes or bytearray, not NoneType\n",
            "Failed: 2376 - the JSON object must be str, bytes or bytearray, not NoneType\n",
            "Failed: 2383 - the JSON object must be str, bytes or bytearray, not NoneType\n",
            "Failed: 2404 - the JSON object must be str, bytes or bytearray, not NoneType\n",
            "Failed: 2416 - the JSON object must be str, bytes or bytearray, not NoneType\n",
            "Failed: 2467 - the JSON object must be str, bytes or bytearray, not NoneType\n",
            "Failed: 2475 - the JSON object must be str, bytes or bytearray, not NoneType\n",
            "Failed: 2497 - the JSON object must be str, bytes or bytearray, not NoneType\n",
            "Failed: 2498 - '<=' not supported between instances of 'int' and 'str'\n",
            "Failed: 2503 - the JSON object must be str, bytes or bytearray, not NoneType\n",
            "Failed: 2538 - the JSON object must be str, bytes or bytearray, not NoneType\n",
            "Failed: 2600 - the JSON object must be str, bytes or bytearray, not NoneType\n",
            "Failed: 2626 - the JSON object must be str, bytes or bytearray, not NoneType\n",
            "Failed: 2675 - the JSON object must be str, bytes or bytearray, not NoneType\n",
            "Failed: 2684 - the JSON object must be str, bytes or bytearray, not NoneType\n",
            "Failed: 2813 - the JSON object must be str, bytes or bytearray, not NoneType\n",
            "Failed: 2900 - the JSON object must be str, bytes or bytearray, not NoneType\n",
            "Failed: 2902 - the JSON object must be str, bytes or bytearray, not NoneType\n",
            "Failed: 2904 - the JSON object must be str, bytes or bytearray, not NoneType\n",
            "Failed: 2905 - the JSON object must be str, bytes or bytearray, not NoneType\n",
            "Failed: 2906 - the JSON object must be str, bytes or bytearray, not NoneType\n",
            "Failed: 2907 - the JSON object must be str, bytes or bytearray, not NoneType\n",
            "Failed: 2908 - the JSON object must be str, bytes or bytearray, not NoneType\n",
            "Failed: 2909 - the JSON object must be str, bytes or bytearray, not NoneType\n",
            "Failed: 2936 - the JSON object must be str, bytes or bytearray, not NoneType\n",
            "Failed: 2976 - the JSON object must be str, bytes or bytearray, not NoneType\n",
            "Failed: 2981 - the JSON object must be str, bytes or bytearray, not NoneType\n",
            "Failed: 3015 - the JSON object must be str, bytes or bytearray, not NoneType\n",
            "Failed: 3053 - the JSON object must be str, bytes or bytearray, not NoneType\n",
            "Failed: 3055 - 'NoneType' object is not subscriptable\n",
            "Failed: 3056 - the JSON object must be str, bytes or bytearray, not NoneType\n",
            "Failed: 3101 - the JSON object must be str, bytes or bytearray, not NoneType\n",
            "Failed: 3222 - the JSON object must be str, bytes or bytearray, not NoneType\n",
            "Failed: 3242 - the JSON object must be str, bytes or bytearray, not NoneType\n",
            "Failed: 3387 - the JSON object must be str, bytes or bytearray, not NoneType\n",
            "Failed: 3388 - the JSON object must be str, bytes or bytearray, not NoneType\n",
            "Failed: 3431 - the JSON object must be str, bytes or bytearray, not NoneType\n",
            "Failed: 3483 - the JSON object must be str, bytes or bytearray, not NoneType\n",
            "Failed: 3495 - the JSON object must be str, bytes or bytearray, not NoneType\n",
            "Failed: 3508 - the JSON object must be str, bytes or bytearray, not NoneType\n",
            "Failed: 3519 - the JSON object must be str, bytes or bytearray, not NoneType\n",
            "Failed: 3528 - the JSON object must be str, bytes or bytearray, not NoneType\n",
            "Failed: 3565 - the JSON object must be str, bytes or bytearray, not NoneType\n",
            "Failed: 3639 - the JSON object must be str, bytes or bytearray, not NoneType\n",
            "Failed: 3657 - the JSON object must be str, bytes or bytearray, not NoneType\n",
            "Failed: 3668 - the JSON object must be str, bytes or bytearray, not NoneType\n",
            "Failed: 3669 - the JSON object must be str, bytes or bytearray, not NoneType\n",
            "Failed: 3676 - '<=' not supported between instances of 'int' and 'str'\n",
            "Failed: 3694 - the JSON object must be str, bytes or bytearray, not NoneType\n",
            "Failed: 3697 - the JSON object must be str, bytes or bytearray, not NoneType\n",
            "Failed: 3733 - the JSON object must be str, bytes or bytearray, not NoneType\n",
            "Failed: 3758 - the JSON object must be str, bytes or bytearray, not NoneType\n",
            "Failed: 3778 - 'NoneType' object is not subscriptable\n",
            "Failed: 3786 - the JSON object must be str, bytes or bytearray, not NoneType\n",
            "Failed: 3788 - the JSON object must be str, bytes or bytearray, not NoneType\n",
            "Failed: 3809 - the JSON object must be str, bytes or bytearray, not NoneType\n",
            "Failed: 3828 - the JSON object must be str, bytes or bytearray, not NoneType\n",
            "Failed: 3838 - the JSON object must be str, bytes or bytearray, not NoneType\n",
            "Failed: 3849 - the JSON object must be str, bytes or bytearray, not NoneType\n",
            "Failed: 3853 - the JSON object must be str, bytes or bytearray, not NoneType\n",
            "Failed: 3859 - the JSON object must be str, bytes or bytearray, not NoneType\n",
            "Failed: 3869 - the JSON object must be str, bytes or bytearray, not NoneType\n",
            "Failed: 3870 - the JSON object must be str, bytes or bytearray, not NoneType\n",
            "Failed: 3874 - the JSON object must be str, bytes or bytearray, not NoneType\n",
            "Failed: 3878 - the JSON object must be str, bytes or bytearray, not NoneType\n",
            "Failed: 3891 - the JSON object must be str, bytes or bytearray, not NoneType\n",
            "Failed: 3921 - the JSON object must be str, bytes or bytearray, not NoneType\n",
            "Failed: 3923 - the JSON object must be str, bytes or bytearray, not NoneType\n",
            "Failed: 3927 - the JSON object must be str, bytes or bytearray, not NoneType\n",
            "Failed: 3929 - the JSON object must be str, bytes or bytearray, not NoneType\n",
            "Failed: 3936 - the JSON object must be str, bytes or bytearray, not NoneType\n"
          ]
        }
      ],
      "source": [
        "def get_introduction(line_json):\n",
        "    section_headers = json.loads(line_json[\"content\"][\"annotations\"][\"sectionheader\"])\n",
        "    start_index = next((i[\"start\"] for i in section_headers if \"attributes\" in i), 0)\n",
        "    end_index = next((i[\"end\"] for i in section_headers if \"attributes\" in i and i[\"start\"] > start_index), 0)\n",
        "    \n",
        "    paragraphs = json.loads(line_json[\"content\"][\"annotations\"][\"paragraph\"])\n",
        "    corpus = line_json[\"content\"][\"text\"]\n",
        "    \n",
        "    introduction_para = [corpus[i[\"start\"]:i[\"end\"]] for i in paragraphs if start_index <= i[\"start\"] <= end_index]\n",
        "    return \"\\n\".join(introduction_para)\n",
        "\n",
        "id_to_introduction = {}\n",
        "with codecs.open(\"../ScientificWritingDataset/s2orc_4000.json\", 'r', encoding='utf-16') as fdata:\n",
        "    for count, line in enumerate(fdata, start=1):\n",
        "        try:\n",
        "            line_json = json.loads(line)\n",
        "            introduction = get_introduction(line_json)\n",
        "            id_to_introduction[line_json[\"externalids\"][\"doi\"]] = introduction\n",
        "        except Exception as e:\n",
        "            print(f\"Failed: {count} - {e}\")\n",
        "\n",
        "paper_id_list = list(id_to_introduction.keys())"
      ]
    },
    {
      "cell_type": "code",
      "execution_count": 12,
      "metadata": {},
      "outputs": [
        {
          "name": "stderr",
          "output_type": "stream",
          "text": [
            "Processing paper batches:   0%|          | 2/857 [00:31<3:04:00, 12.91s/it]"
          ]
        },
        {
          "name": "stdout",
          "output_type": "stream",
          "text": [
            "Failed: 10.1186/s13075-018-1539-6 - argument of type 'NoneType' is not iterable\n"
          ]
        },
        {
          "name": "stderr",
          "output_type": "stream",
          "text": [
            "Processing paper batches:   1%|          | 9/857 [00:31<19:29,  1.38s/it]  "
          ]
        },
        {
          "name": "stdout",
          "output_type": "stream",
          "text": [
            "Failed: 10.48550/arxiv.2212.04858 - argument of type 'NoneType' is not iterable\n"
          ]
        },
        {
          "name": "stderr",
          "output_type": "stream",
          "text": [
            "Processing paper batches:   1%|▏         | 12/857 [00:31<11:15,  1.25it/s]"
          ]
        },
        {
          "name": "stdout",
          "output_type": "stream",
          "text": [
            "Failed: 10.18553/jmcp.2016.22.10.1167 - argument of type 'NoneType' is not iterable"
          ]
        },
        {
          "name": "stderr",
          "output_type": "stream",
          "text": [
            "Processing paper batches:   2%|▏         | 15/857 [00:31<07:19,  1.92it/s]"
          ]
        },
        {
          "name": "stdout",
          "output_type": "stream",
          "text": [
            "\n",
            "Failed: 10.3390/biom13030519 - argument of type 'NoneType' is not iterableFailed: 10.48550/arxiv.2304.04395 - argument of type 'NoneType' is not iterable\n",
            "\n"
          ]
        },
        {
          "name": "stderr",
          "output_type": "stream",
          "text": [
            "Processing paper batches:   3%|▎         | 27/857 [00:32<02:22,  5.81it/s]"
          ]
        },
        {
          "name": "stdout",
          "output_type": "stream",
          "text": [
            "Failed: 10.1186/s12891-023-06783-2 - argument of type 'NoneType' is not iterable"
          ]
        },
        {
          "name": "stderr",
          "output_type": "stream",
          "text": [
            "Processing paper batches:   4%|▎         | 32/857 [00:32<01:46,  7.72it/s]"
          ]
        },
        {
          "name": "stdout",
          "output_type": "stream",
          "text": [
            "Failed: 10.1109/tkde.2022.3218994 - argument of type 'NoneType' is not iterable\n",
            "\n",
            "Failed: 10.26434/chemrxiv.11749854.v1 - argument of type 'NoneType' is not iterable"
          ]
        },
        {
          "name": "stderr",
          "output_type": "stream",
          "text": [
            "Processing paper batches:   5%|▍         | 39/857 [00:32<01:12, 11.29it/s]"
          ]
        },
        {
          "name": "stdout",
          "output_type": "stream",
          "text": [
            "\n",
            "Failed: 10.1038/s41567-022-01852-0 - argument of type 'NoneType' is not iterable\n"
          ]
        },
        {
          "name": "stderr",
          "output_type": "stream",
          "text": [
            "Processing paper batches:   5%|▌         | 44/857 [00:32<01:06, 12.28it/s]"
          ]
        },
        {
          "name": "stdout",
          "output_type": "stream",
          "text": [
            "Failed: 10.3390/metabo13070871 - argument of type 'NoneType' is not iterable"
          ]
        },
        {
          "name": "stderr",
          "output_type": "stream",
          "text": [
            "Processing paper batches:   6%|▌         | 48/857 [01:03<25:28,  1.89s/it]"
          ]
        },
        {
          "name": "stdout",
          "output_type": "stream",
          "text": [
            "\n",
            "Failed: 10.1186/1475-925x-4-60 - argument of type 'NoneType' is not iterableFailed: 10.7759/cureus.41926 - argument of type 'NoneType' is not iterable"
          ]
        },
        {
          "name": "stderr",
          "output_type": "stream",
          "text": [
            "Processing paper batches:   6%|▌         | 53/857 [01:03<17:52,  1.33s/it]"
          ]
        },
        {
          "name": "stdout",
          "output_type": "stream",
          "text": [
            "\n",
            "\n",
            "Failed: 10.1177/03000605221086457 - argument of type 'NoneType' is not iterable\n"
          ]
        },
        {
          "name": "stderr",
          "output_type": "stream",
          "text": [
            "Processing paper batches:   7%|▋         | 64/857 [01:03<09:10,  1.44it/s]"
          ]
        },
        {
          "name": "stdout",
          "output_type": "stream",
          "text": [
            "Failed: 10.1038/s41467-020-17454-4 - argument of type 'NoneType' is not iterable\n",
            "Failed: 10.14740/jmc3982 - argument of type 'NoneType' is not iterable"
          ]
        },
        {
          "name": "stderr",
          "output_type": "stream",
          "text": [
            "Processing paper batches:   8%|▊         | 70/857 [01:03<06:43,  1.95it/s]"
          ]
        },
        {
          "name": "stdout",
          "output_type": "stream",
          "text": [
            "Failed: 10.2218/ijdc.v6i2.201 - argument of type 'NoneType' is not iterable\n",
            "\n"
          ]
        },
        {
          "name": "stderr",
          "output_type": "stream",
          "text": [
            "Processing paper batches:   9%|▉         | 76/857 [01:03<04:51,  2.68it/s]"
          ]
        },
        {
          "name": "stdout",
          "output_type": "stream",
          "text": [
            "Failed: 10.1186/1471-2164-14-490 - argument of type 'NoneType' is not iterable\n"
          ]
        },
        {
          "name": "stderr",
          "output_type": "stream",
          "text": [
            "Processing paper batches:  10%|▉         | 85/857 [01:04<03:03,  4.21it/s]"
          ]
        },
        {
          "name": "stdout",
          "output_type": "stream",
          "text": [
            "Failed: 10.5433/1980-511x.2023v18n1p250 - argument of type 'NoneType' is not iterable\n",
            "Failed: 10.48550/arxiv.2208.00150 - argument of type 'NoneType' is not iterable"
          ]
        },
        {
          "name": "stderr",
          "output_type": "stream",
          "text": [
            "Processing paper batches:  11%|█         | 91/857 [01:34<19:18,  1.51s/it]"
          ]
        },
        {
          "name": "stdout",
          "output_type": "stream",
          "text": [
            "\n"
          ]
        },
        {
          "name": "stderr",
          "output_type": "stream",
          "text": [
            "Processing paper batches:  11%|█         | 93/857 [01:34<17:11,  1.35s/it]"
          ]
        },
        {
          "name": "stdout",
          "output_type": "stream",
          "text": [
            "Failed: 10.1186/1477-5751-8-12 - argument of type 'NoneType' is not iterable\n",
            "Failed: 10.2478/jos-2021-0038 - argument of type 'NoneType' is not iterable\n",
            "Failed: 10.48550/arxiv.2308.08556 - argument of type 'NoneType' is not iterable\n"
          ]
        },
        {
          "name": "stderr",
          "output_type": "stream",
          "text": [
            "Processing paper batches:  12%|█▏        | 99/857 [01:35<11:53,  1.06it/s]"
          ]
        },
        {
          "name": "stdout",
          "output_type": "stream",
          "text": [
            "Failed: 10.1016/j.molbiopara.2015.06.001 - argument of type 'NoneType' is not iterable\n"
          ]
        },
        {
          "name": "stderr",
          "output_type": "stream",
          "text": [
            "Processing paper batches:  13%|█▎        | 115/857 [02:04<22:04,  1.78s/it]"
          ]
        },
        {
          "name": "stdout",
          "output_type": "stream",
          "text": [
            "Failed: 10.5402/2012/468706 - argument of type 'NoneType' is not iterable\n",
            "Failed: 10.2147/dddt.s7667 - argument of type 'NoneType' is not iterable\n"
          ]
        },
        {
          "name": "stderr",
          "output_type": "stream",
          "text": [
            "Processing paper batches:  14%|█▍        | 123/857 [02:05<11:42,  1.04it/s]"
          ]
        },
        {
          "name": "stdout",
          "output_type": "stream",
          "text": [
            "Failed: 10.1086/512115 - argument of type 'NoneType' is not iterable\n"
          ]
        },
        {
          "name": "stderr",
          "output_type": "stream",
          "text": [
            "Processing paper batches:  16%|█▌        | 133/857 [02:05<05:15,  2.29it/s]"
          ]
        },
        {
          "name": "stdout",
          "output_type": "stream",
          "text": [
            "Failed: 10.59817/cjes.v10i.96 - argument of type 'NoneType' is not iterable\n",
            "Failed: 10.1073/pnas.2208083119 - argument of type 'NoneType' is not iterableFailed: 10.34133/cbsystems.0051 - argument of type 'NoneType' is not iterable"
          ]
        },
        {
          "name": "stderr",
          "output_type": "stream",
          "text": [
            "Processing paper batches:  16%|█▋        | 141/857 [02:05<03:05,  3.85it/s]"
          ]
        },
        {
          "name": "stdout",
          "output_type": "stream",
          "text": [
            "Failed: 10.1007/s11248-009-9343-3 - argument of type 'NoneType' is not iterable\n",
            "Failed: 10.1073/pnas.1520033113 - argument of type 'NoneType' is not iterable\n",
            "\n"
          ]
        },
        {
          "name": "stderr",
          "output_type": "stream",
          "text": [
            "Processing paper batches:  17%|█▋        | 146/857 [02:05<02:18,  5.13it/s]"
          ]
        },
        {
          "name": "stdout",
          "output_type": "stream",
          "text": [
            "Failed: 10.1093/nar/gkq1336 - argument of type 'NoneType' is not iterableFailed: 10.48550/arxiv.2304.00615 - argument of type 'NoneType' is not iterable\n",
            "\n",
            "\n",
            "Failed: 10.1186/2041-9139-4-5 - argument of type 'NoneType' is not iterable\n"
          ]
        },
        {
          "name": "stderr",
          "output_type": "stream",
          "text": [
            "Processing paper batches:  19%|█▉        | 161/857 [02:36<17:53,  1.54s/it]"
          ]
        },
        {
          "name": "stdout",
          "output_type": "stream",
          "text": [
            "Failed: 10.1177/0165551509346786 - argument of type 'NoneType' is not iterable\n"
          ]
        },
        {
          "name": "stderr",
          "output_type": "stream",
          "text": [
            "Processing paper batches:  20%|█▉        | 170/857 [02:37<06:30,  1.76it/s]"
          ]
        },
        {
          "name": "stdout",
          "output_type": "stream",
          "text": [
            "Failed: 10.48550/arxiv.2306.01668 - argument of type 'NoneType' is not iterableFailed: 10.18653/v1/2022.emnlp-demos.36 - No valid paper ids given\n",
            "\n",
            "Failed: 10.1371/journal.pone.0148699 - argument of type 'NoneType' is not iterable\n"
          ]
        },
        {
          "name": "stderr",
          "output_type": "stream",
          "text": [
            "Processing paper batches:  21%|██        | 178/857 [03:06<24:52,  2.20s/it]"
          ]
        },
        {
          "name": "stdout",
          "output_type": "stream",
          "text": [
            "Failed: 10.7759/cureus.34072 - argument of type 'NoneType' is not iterable\n"
          ]
        },
        {
          "name": "stderr",
          "output_type": "stream",
          "text": [
            "Processing paper batches:  21%|██        | 180/857 [03:06<18:14,  1.62s/it]"
          ]
        },
        {
          "name": "stdout",
          "output_type": "stream",
          "text": [
            "Failed: 10.3390/ijms18020248 - argument of type 'NoneType' is not iterableFailed: 10.1007/s11063-017-9628-0 - argument of type 'NoneType' is not iterable\n"
          ]
        },
        {
          "name": "stderr",
          "output_type": "stream",
          "text": [
            "Processing paper batches:  21%|██        | 182/857 [03:06<13:30,  1.20s/it]"
          ]
        },
        {
          "name": "stdout",
          "output_type": "stream",
          "text": [
            "\n",
            "Failed: 10.5772/27097 - argument of type 'NoneType' is not iterable\n"
          ]
        },
        {
          "name": "stderr",
          "output_type": "stream",
          "text": [
            "Processing paper batches:  21%|██▏       | 183/857 [03:07<11:52,  1.06s/it]"
          ]
        },
        {
          "name": "stdout",
          "output_type": "stream",
          "text": [
            "Failed: 10.25646/6904 - argument of type 'NoneType' is not iterable"
          ]
        },
        {
          "name": "stderr",
          "output_type": "stream",
          "text": [
            "Processing paper batches:  23%|██▎       | 197/857 [03:07<02:51,  3.85it/s]"
          ]
        },
        {
          "name": "stdout",
          "output_type": "stream",
          "text": [
            "\n",
            "Failed: 10.1186/1745-6215-12-56 - argument of type 'NoneType' is not iterable\n"
          ]
        },
        {
          "name": "stderr",
          "output_type": "stream",
          "text": [
            "Processing paper batches:  24%|██▍       | 207/857 [03:07<01:38,  6.63it/s]"
          ]
        },
        {
          "name": "stdout",
          "output_type": "stream",
          "text": [
            "Failed: 10.4240/wjgs.v15.i7.1317 - argument of type 'NoneType' is not iterable\n"
          ]
        },
        {
          "name": "stderr",
          "output_type": "stream",
          "text": [
            "Processing paper batches:  25%|██▍       | 210/857 [03:37<21:57,  2.04s/it]"
          ]
        },
        {
          "name": "stdout",
          "output_type": "stream",
          "text": [
            "Failed: 10.2147/cia.s48447 - argument of type 'NoneType' is not iterable"
          ]
        },
        {
          "name": "stderr",
          "output_type": "stream",
          "text": [
            "Processing paper batches:  25%|██▍       | 212/857 [03:37<17:30,  1.63s/it]"
          ]
        },
        {
          "name": "stdout",
          "output_type": "stream",
          "text": [
            "Failed: 10.1126/science.abq2844 - argument of type 'NoneType' is not iterable\n",
            "Failed: 10.1016/j.jad.2023.06.054 - argument of type 'NoneType' is not iterable"
          ]
        },
        {
          "name": "stderr",
          "output_type": "stream",
          "text": [
            "Processing paper batches:  25%|██▌       | 216/857 [03:37<11:05,  1.04s/it]"
          ]
        },
        {
          "name": "stdout",
          "output_type": "stream",
          "text": [
            "\n",
            "\n"
          ]
        },
        {
          "name": "stderr",
          "output_type": "stream",
          "text": [
            "Processing paper batches:  26%|██▋       | 225/857 [03:38<05:02,  2.09it/s]"
          ]
        },
        {
          "name": "stdout",
          "output_type": "stream",
          "text": [
            "Failed: 10.1038/s41598-023-40470-5 - argument of type 'NoneType' is not iterable\n"
          ]
        },
        {
          "name": "stderr",
          "output_type": "stream",
          "text": [
            "Processing paper batches:  27%|██▋       | 233/857 [03:38<02:55,  3.56it/s]"
          ]
        },
        {
          "name": "stdout",
          "output_type": "stream",
          "text": [
            "Failed: 10.3390/ijms17050643 - argument of type 'NoneType' is not iterable"
          ]
        },
        {
          "name": "stderr",
          "output_type": "stream",
          "text": [
            "Processing paper batches:  28%|██▊       | 236/857 [03:38<02:22,  4.36it/s]"
          ]
        },
        {
          "name": "stdout",
          "output_type": "stream",
          "text": [
            "Failed: 10.1109/icra48891.2023.10161027 - argument of type 'NoneType' is not iterableFailed: 10.48550/arxiv.2205.08611 - argument of type 'NoneType' is not iterable\n",
            "\n",
            "\n"
          ]
        },
        {
          "name": "stderr",
          "output_type": "stream",
          "text": [
            "Processing paper batches:  28%|██▊       | 239/857 [03:38<01:54,  5.42it/s]"
          ]
        },
        {
          "name": "stdout",
          "output_type": "stream",
          "text": [
            "Failed: 10.1126/sciadv.1601721 - argument of type 'NoneType' is not iterable\n"
          ]
        },
        {
          "name": "stderr",
          "output_type": "stream",
          "text": [
            "Processing paper batches:  29%|██▊       | 245/857 [04:08<21:54,  2.15s/it]"
          ]
        },
        {
          "name": "stdout",
          "output_type": "stream",
          "text": [
            "Failed: 10.1038/ncomms15290 - argument of type 'NoneType' is not iterable"
          ]
        },
        {
          "name": "stderr",
          "output_type": "stream",
          "text": [
            "Processing paper batches:  29%|██▉       | 247/857 [04:08<18:26,  1.81s/it]"
          ]
        },
        {
          "name": "stdout",
          "output_type": "stream",
          "text": [
            "\n",
            "Failed: 10.48550/arxiv.2306.03812 - argument of type 'NoneType' is not iterable"
          ]
        },
        {
          "name": "stderr",
          "output_type": "stream",
          "text": [
            "Processing paper batches:  29%|██▉       | 252/857 [04:08<11:39,  1.16s/it]"
          ]
        },
        {
          "name": "stdout",
          "output_type": "stream",
          "text": [
            "\n"
          ]
        },
        {
          "name": "stderr",
          "output_type": "stream",
          "text": [
            "Processing paper batches:  30%|███       | 259/857 [04:09<06:41,  1.49it/s]"
          ]
        },
        {
          "name": "stdout",
          "output_type": "stream",
          "text": [
            "Failed: 10.1136/jmg.2009.067314 - argument of type 'NoneType' is not iterable\n",
            "Failed: 10.7759/cureus.34133 - argument of type 'NoneType' is not iterableFailed: 10.1016/j.jss.2023.111628 - argument of type 'NoneType' is not iterableFailed: 10.2147/idr.s63621 - argument of type 'NoneType' is not iterableFailed: 10.1186/1471-2431-5-4 - argument of type 'NoneType' is not iterable"
          ]
        },
        {
          "name": "stderr",
          "output_type": "stream",
          "text": [
            "Processing paper batches:  31%|███       | 263/857 [04:09<05:08,  1.93it/s]"
          ]
        },
        {
          "name": "stdout",
          "output_type": "stream",
          "text": [
            "\n",
            "\n",
            "\n",
            "\n"
          ]
        },
        {
          "name": "stderr",
          "output_type": "stream",
          "text": [
            "Processing paper batches:  32%|███▏      | 278/857 [04:09<02:11,  4.41it/s]"
          ]
        },
        {
          "name": "stdout",
          "output_type": "stream",
          "text": [
            "Failed: 10.1038/136747c0 - argument of type 'NoneType' is not iterable\n"
          ]
        },
        {
          "name": "stderr",
          "output_type": "stream",
          "text": [
            "Processing paper batches:  33%|███▎      | 283/857 [04:39<13:58,  1.46s/it]"
          ]
        },
        {
          "name": "stdout",
          "output_type": "stream",
          "text": [
            "Failed: 10.1186/s12987-023-00461-0 - argument of type 'NoneType' is not iterable\n"
          ]
        },
        {
          "name": "stderr",
          "output_type": "stream",
          "text": [
            "Processing paper batches:  34%|███▍      | 291/857 [04:40<07:38,  1.23it/s]"
          ]
        },
        {
          "name": "stdout",
          "output_type": "stream",
          "text": [
            "Failed: 10.1016/s0002-9610(38)91141-9 - argument of type 'NoneType' is not iterable"
          ]
        },
        {
          "name": "stderr",
          "output_type": "stream",
          "text": [
            "Processing paper batches:  34%|███▍      | 295/857 [04:40<05:42,  1.64it/s]"
          ]
        },
        {
          "name": "stdout",
          "output_type": "stream",
          "text": [
            "Failed: 10.1149/199607.0001pv - argument of type 'NoneType' is not iterable\n",
            "\n"
          ]
        },
        {
          "name": "stderr",
          "output_type": "stream",
          "text": [
            "Processing paper batches:  35%|███▌      | 301/857 [04:40<03:27,  2.68it/s]"
          ]
        },
        {
          "name": "stdout",
          "output_type": "stream",
          "text": [
            "Failed: 10.1016/j.joclim.2022.100148 - argument of type 'NoneType' is not iterable\n"
          ]
        },
        {
          "name": "stderr",
          "output_type": "stream",
          "text": [
            "Processing paper batches:  36%|███▌      | 306/857 [05:09<27:24,  2.98s/it]"
          ]
        },
        {
          "name": "stdout",
          "output_type": "stream",
          "text": [
            "Failed: 10.3847/1538-4357/ab7f2b - argument of type 'NoneType' is not iterable\n"
          ]
        },
        {
          "name": "stderr",
          "output_type": "stream",
          "text": [
            "Processing paper batches:  36%|███▌      | 308/857 [05:10<20:17,  2.22s/it]"
          ]
        },
        {
          "name": "stdout",
          "output_type": "stream",
          "text": [
            "Failed: 10.1016/j.nicl.2019.101975 - argument of type 'NoneType' is not iterable"
          ]
        },
        {
          "name": "stderr",
          "output_type": "stream",
          "text": [
            "Processing paper batches:  36%|███▋      | 311/857 [05:10<12:45,  1.40s/it]"
          ]
        },
        {
          "name": "stdout",
          "output_type": "stream",
          "text": [
            "\n",
            "Failed: 10.1107/s1600536810040146 - argument of type 'NoneType' is not iterable\n"
          ]
        },
        {
          "name": "stderr",
          "output_type": "stream",
          "text": [
            "Processing paper batches:  37%|███▋      | 313/857 [05:10<09:33,  1.05s/it]"
          ]
        },
        {
          "name": "stdout",
          "output_type": "stream",
          "text": [
            "Failed: 10.1371/journal.pbio.0030004 - argument of type 'NoneType' is not iterableFailed: 10.1007/s00276-023-03140-9 - argument of type 'NoneType' is not iterable"
          ]
        },
        {
          "name": "stderr",
          "output_type": "stream",
          "text": [
            "Processing paper batches:  37%|███▋      | 316/857 [05:10<06:12,  1.45it/s]"
          ]
        },
        {
          "name": "stdout",
          "output_type": "stream",
          "text": [
            "Failed: 10.48550/arxiv.2308.06091 - argument of type 'NoneType' is not iterable\n",
            "\n",
            "\n",
            "Failed: 10.1097/icb.0000000000001257 - argument of type 'NoneType' is not iterableFailed: 10.29011/25747754.101295 - argument of type 'NoneType' is not iterable\n"
          ]
        },
        {
          "name": "stderr",
          "output_type": "stream",
          "text": [
            "Processing paper batches:  37%|███▋      | 320/857 [05:11<03:53,  2.30it/s]"
          ]
        },
        {
          "name": "stdout",
          "output_type": "stream",
          "text": [
            "Failed: 10.1136/bmj.k3581 - argument of type 'NoneType' is not iterable\n",
            "\n"
          ]
        },
        {
          "name": "stderr",
          "output_type": "stream",
          "text": [
            "Processing paper batches:  39%|███▉      | 336/857 [05:11<01:10,  7.38it/s]"
          ]
        },
        {
          "name": "stdout",
          "output_type": "stream",
          "text": [
            "Failed: 10.1080/03009730903177357 - argument of type 'NoneType' is not iterable\n"
          ]
        },
        {
          "name": "stderr",
          "output_type": "stream",
          "text": [
            "Processing paper batches:  40%|███▉      | 342/857 [05:11<01:03,  8.16it/s]"
          ]
        },
        {
          "name": "stdout",
          "output_type": "stream",
          "text": [
            "Failed: 10.18653/v1/2023.findings-acl.800 - argument of type 'NoneType' is not iterable\n"
          ]
        },
        {
          "name": "stderr",
          "output_type": "stream",
          "text": [
            "Processing paper batches:  40%|████      | 343/857 [05:41<16:31,  1.93s/it]"
          ]
        },
        {
          "name": "stdout",
          "output_type": "stream",
          "text": [
            "Failed: 10.1097/01.hs9.0000848948.50002.24 - argument of type 'NoneType' is not iterable\n"
          ]
        },
        {
          "name": "stderr",
          "output_type": "stream",
          "text": [
            "Processing paper batches:  41%|████      | 350/857 [05:41<09:25,  1.12s/it]"
          ]
        },
        {
          "name": "stdout",
          "output_type": "stream",
          "text": [
            "Failed: 10.1186/1740-2557-5-6 - argument of type 'NoneType' is not iterableFailed: 10.1097/md.0000000000021430 - argument of type 'NoneType' is not iterable\n"
          ]
        },
        {
          "name": "stderr",
          "output_type": "stream",
          "text": [
            "Processing paper batches:  41%|████▏     | 354/857 [05:41<06:44,  1.24it/s]"
          ]
        },
        {
          "name": "stdout",
          "output_type": "stream",
          "text": [
            "\n",
            "\n",
            "Failed: 10.3390/medicina59071301 - argument of type 'NoneType' is not iterableFailed: 10.22323/1.007.0033 - argument of type 'NoneType' is not iterable"
          ]
        },
        {
          "name": "stderr",
          "output_type": "stream",
          "text": [
            "Processing paper batches:  42%|████▏     | 358/857 [05:41<04:49,  1.72it/s]"
          ]
        },
        {
          "name": "stdout",
          "output_type": "stream",
          "text": [
            "\n",
            "Failed: 10.1021/acs.est.3c01891 - argument of type 'NoneType' is not iterable\n"
          ]
        },
        {
          "name": "stderr",
          "output_type": "stream",
          "text": [
            "Processing paper batches:  43%|████▎     | 368/857 [06:12<17:57,  2.20s/it]"
          ]
        },
        {
          "name": "stdout",
          "output_type": "stream",
          "text": [
            "Failed: 10.1016/j.tafmec.2023.104009 - argument of type 'NoneType' is not iterable\n",
            "Failed: 10.3389/fmed.2023.1114571 - argument of type 'NoneType' is not iterable\n"
          ]
        },
        {
          "name": "stderr",
          "output_type": "stream",
          "text": [
            "Processing paper batches:  45%|████▌     | 388/857 [06:12<03:51,  2.03it/s]"
          ]
        },
        {
          "name": "stdout",
          "output_type": "stream",
          "text": [
            "Failed: 10.1051/shsconf/202316901063 - argument of type 'NoneType' is not iterableFailed: 10.1371/journal.pone.0108383 - argument of type 'NoneType' is not iterable\n",
            "\n"
          ]
        },
        {
          "name": "stderr",
          "output_type": "stream",
          "text": [
            "Processing paper batches:  46%|████▌     | 395/857 [06:12<02:43,  2.82it/s]"
          ]
        },
        {
          "name": "stdout",
          "output_type": "stream",
          "text": [
            "Failed: 10.1016/j.recesp.2021.01.010 - argument of type 'NoneType' is not iterableFailed: 10.1145/3410220.3460102 - argument of type 'NoneType' is not iterableFailed: 10.48550/arxiv.2206.01961 - argument of type 'NoneType' is not iterable\n",
            "\n",
            "\n"
          ]
        },
        {
          "name": "stderr",
          "output_type": "stream",
          "text": [
            "Processing paper batches:  47%|████▋     | 405/857 [06:12<01:43,  4.36it/s]"
          ]
        },
        {
          "name": "stdout",
          "output_type": "stream",
          "text": [
            "Failed: 10.48550/arxiv.2305.16905 - argument of type 'NoneType' is not iterable\n"
          ]
        },
        {
          "name": "stderr",
          "output_type": "stream",
          "text": [
            "Processing paper batches:  48%|████▊     | 415/857 [06:43<08:05,  1.10s/it]"
          ]
        },
        {
          "name": "stdout",
          "output_type": "stream",
          "text": [
            "Failed: 10.1080/10618600.2023.2210184 - argument of type 'NoneType' is not iterableFailed: 10.1109/cvpr52729.2023.00494 - argument of type 'NoneType' is not iterable\n"
          ]
        },
        {
          "name": "stderr",
          "output_type": "stream",
          "text": [
            "Processing paper batches:  49%|████▉     | 422/857 [06:43<05:36,  1.29it/s]"
          ]
        },
        {
          "name": "stdout",
          "output_type": "stream",
          "text": [
            "\n",
            "Failed: 10.21437/interspeech.2020-2031 - argument of type 'NoneType' is not iterableFailed: 10.3390/pathogens12050657 - argument of type 'NoneType' is not iterable\n",
            "\n",
            "Failed: 10.48550/arxiv.2308.02134 - argument of type 'NoneType' is not iterable\n"
          ]
        },
        {
          "name": "stderr",
          "output_type": "stream",
          "text": [
            "Processing paper batches:  50%|████▉     | 428/857 [06:44<04:07,  1.74it/s]"
          ]
        },
        {
          "name": "stdout",
          "output_type": "stream",
          "text": [
            "Failed: 10.1145/3614408.3614415 - argument of type 'NoneType' is not iterable"
          ]
        },
        {
          "name": "stderr",
          "output_type": "stream",
          "text": [
            "Processing paper batches:  51%|█████     | 433/857 [07:13<13:13,  1.87s/it]"
          ]
        },
        {
          "name": "stdout",
          "output_type": "stream",
          "text": [
            "\n"
          ]
        },
        {
          "name": "stderr",
          "output_type": "stream",
          "text": [
            "Processing paper batches:  51%|█████     | 439/857 [07:13<08:37,  1.24s/it]"
          ]
        },
        {
          "name": "stdout",
          "output_type": "stream",
          "text": [
            "Failed: 10.1186/1756-9966-28-85 - argument of type 'NoneType' is not iterable\n",
            "Failed: 10.1140/epjc/s10052-017-4674-3 - argument of type 'NoneType' is not iterable"
          ]
        },
        {
          "name": "stderr",
          "output_type": "stream",
          "text": [
            "Processing paper batches:  52%|█████▏    | 442/857 [07:13<06:45,  1.02it/s]"
          ]
        },
        {
          "name": "stdout",
          "output_type": "stream",
          "text": [
            "\n",
            "Failed: 10.1109/asonam.2016.7752438 - argument of type 'NoneType' is not iterable\n"
          ]
        },
        {
          "name": "stderr",
          "output_type": "stream",
          "text": [
            "Processing paper batches:  52%|█████▏    | 447/857 [07:14<04:28,  1.53it/s]"
          ]
        },
        {
          "name": "stdout",
          "output_type": "stream",
          "text": [
            "Failed: 10.34172/ijmpes.2021.16 - argument of type 'NoneType' is not iterable"
          ]
        },
        {
          "name": "stderr",
          "output_type": "stream",
          "text": [
            "Processing paper batches:  53%|█████▎    | 451/857 [07:14<03:15,  2.07it/s]"
          ]
        },
        {
          "name": "stdout",
          "output_type": "stream",
          "text": [
            "\n"
          ]
        },
        {
          "name": "stderr",
          "output_type": "stream",
          "text": [
            "Processing paper batches:  53%|█████▎    | 457/857 [07:14<02:03,  3.25it/s]"
          ]
        },
        {
          "name": "stdout",
          "output_type": "stream",
          "text": [
            "Failed: 10.1101/2023.06.13.544814 - argument of type 'NoneType' is not iterable\n"
          ]
        },
        {
          "name": "stderr",
          "output_type": "stream",
          "text": [
            "Processing paper batches:  54%|█████▍    | 467/857 [07:15<01:13,  5.32it/s]"
          ]
        },
        {
          "name": "stdout",
          "output_type": "stream",
          "text": [
            "Failed: 10.1215/00127094-2009-015 - argument of type 'NoneType' is not iterable\n"
          ]
        },
        {
          "name": "stderr",
          "output_type": "stream",
          "text": [
            "Processing paper batches:  55%|█████▌    | 472/857 [07:44<10:28,  1.63s/it]"
          ]
        },
        {
          "name": "stdout",
          "output_type": "stream",
          "text": [
            "Failed: 10.48550/arxiv.2308.02248 - argument of type 'NoneType' is not iterable\n",
            "Failed: 10.21203/rs.2.16542/v1 - argument of type 'NoneType' is not iterable\n",
            "Failed: 10.1111/j.1600-0870.2008.00346.x - argument of type 'NoneType' is not iterable\n"
          ]
        },
        {
          "name": "stderr",
          "output_type": "stream",
          "text": [
            "Processing paper batches:  57%|█████▋    | 485/857 [07:45<03:05,  2.01it/s]"
          ]
        },
        {
          "name": "stdout",
          "output_type": "stream",
          "text": [
            "Failed: 10.1109/rtss46320.2019.00049 - argument of type 'NoneType' is not iterableFailed: 10.48550/arxiv.2303.04781 - argument of type 'NoneType' is not iterable\n",
            "\n"
          ]
        },
        {
          "name": "stderr",
          "output_type": "stream",
          "text": [
            "Processing paper batches:  59%|█████▊    | 502/857 [07:45<00:59,  6.00it/s]"
          ]
        },
        {
          "name": "stdout",
          "output_type": "stream",
          "text": [
            "Failed: 10.3389/fmicb.2023.1161969 - argument of type 'NoneType' is not iterable\n"
          ]
        },
        {
          "name": "stderr",
          "output_type": "stream",
          "text": [
            "Processing paper batches:  60%|█████▉    | 513/857 [08:16<05:36,  1.02it/s]"
          ]
        },
        {
          "name": "stdout",
          "output_type": "stream",
          "text": [
            "Failed: 10.3390/md21010006 - argument of type 'NoneType' is not iterable\n"
          ]
        },
        {
          "name": "stderr",
          "output_type": "stream",
          "text": [
            "Processing paper batches:  60%|██████    | 516/857 [08:16<04:08,  1.37it/s]"
          ]
        },
        {
          "name": "stdout",
          "output_type": "stream",
          "text": [
            "Failed: 10.1016/j.jaac.2022.09.034 - argument of type 'NoneType' is not iterable\n"
          ]
        },
        {
          "name": "stderr",
          "output_type": "stream",
          "text": [
            "Processing paper batches:  61%|██████▏   | 527/857 [08:45<13:11,  2.40s/it]"
          ]
        },
        {
          "name": "stdout",
          "output_type": "stream",
          "text": [
            "Failed: 10.1160/th17-02-0138 - argument of type 'NoneType' is not iterable"
          ]
        },
        {
          "name": "stderr",
          "output_type": "stream",
          "text": [
            "Processing paper batches:  62%|██████▏   | 528/857 [08:46<12:03,  2.20s/it]"
          ]
        },
        {
          "name": "stdout",
          "output_type": "stream",
          "text": [
            "\n"
          ]
        },
        {
          "name": "stderr",
          "output_type": "stream",
          "text": [
            "Processing paper batches:  62%|██████▏   | 531/857 [08:46<08:44,  1.61s/it]"
          ]
        },
        {
          "name": "stdout",
          "output_type": "stream",
          "text": [
            "Failed: 10.1186/1477-7827-8-24 - argument of type 'NoneType' is not iterable"
          ]
        },
        {
          "name": "stderr",
          "output_type": "stream",
          "text": [
            "Processing paper batches:  63%|██████▎   | 536/857 [08:46<05:13,  1.03it/s]"
          ]
        },
        {
          "name": "stdout",
          "output_type": "stream",
          "text": [
            "\n",
            "Failed: 10.48550/arxiv.2210.13339 - argument of type 'NoneType' is not iterableFailed: 10.1016/j.physd.2012.09.007 - argument of type 'NoneType' is not iterable"
          ]
        },
        {
          "name": "stderr",
          "output_type": "stream",
          "text": [
            "Processing paper batches:  63%|██████▎   | 541/857 [08:46<03:19,  1.58it/s]"
          ]
        },
        {
          "name": "stdout",
          "output_type": "stream",
          "text": [
            "\n",
            "\n"
          ]
        },
        {
          "name": "stderr",
          "output_type": "stream",
          "text": [
            "Processing paper batches:  64%|██████▍   | 547/857 [08:47<02:02,  2.53it/s]"
          ]
        },
        {
          "name": "stdout",
          "output_type": "stream",
          "text": [
            "Failed: 10.24036/00154kons2019 - argument of type 'NoneType' is not iterableFailed: 10.1109/cvpr46437.2021.01495 - argument of type 'NoneType' is not iterableFailed: 10.48550/arxiv.2305.06702 - argument of type 'NoneType' is not iterable\n",
            "Failed: 10.1007/s11467-023-1298-y - argument of type 'NoneType' is not iterable"
          ]
        },
        {
          "name": "stderr",
          "output_type": "stream",
          "text": [
            "Processing paper batches:  65%|██████▍   | 555/857 [08:47<01:10,  4.28it/s]"
          ]
        },
        {
          "name": "stdout",
          "output_type": "stream",
          "text": [
            "\n",
            "\n",
            "\n"
          ]
        },
        {
          "name": "stderr",
          "output_type": "stream",
          "text": [
            "Processing paper batches:  66%|██████▌   | 564/857 [09:17<09:01,  1.85s/it]"
          ]
        },
        {
          "name": "stdout",
          "output_type": "stream",
          "text": [
            "Failed: 10.3389/fimmu.2022.1055958 - argument of type 'NoneType' is not iterable\n"
          ]
        },
        {
          "name": "stderr",
          "output_type": "stream",
          "text": [
            "Processing paper batches:  68%|██████▊   | 585/857 [09:17<01:46,  2.56it/s]"
          ]
        },
        {
          "name": "stdout",
          "output_type": "stream",
          "text": [
            "Failed: 10.1590/abd1806-4841.20142222 - argument of type 'NoneType' is not iterableFailed: 10.3390/ijms24043713 - argument of type 'NoneType' is not iterable\n",
            "Failed: 10.48550/arxiv.2303.15869 - argument of type 'NoneType' is not iterable"
          ]
        },
        {
          "name": "stderr",
          "output_type": "stream",
          "text": [
            "Processing paper batches:  70%|██████▉   | 596/857 [09:18<00:59,  4.42it/s]"
          ]
        },
        {
          "name": "stdout",
          "output_type": "stream",
          "text": [
            "\n"
          ]
        },
        {
          "name": "stderr",
          "output_type": "stream",
          "text": [
            "Processing paper batches:  70%|███████   | 604/857 [09:18<00:40,  6.21it/s]"
          ]
        },
        {
          "name": "stdout",
          "output_type": "stream",
          "text": [
            "\n",
            "Failed: 10.1016/j.physletb.2011.02.030 - argument of type 'NoneType' is not iterable\n"
          ]
        },
        {
          "name": "stderr",
          "output_type": "stream",
          "text": [
            "Processing paper batches:  71%|███████   | 609/857 [09:48<05:59,  1.45s/it]"
          ]
        },
        {
          "name": "stdout",
          "output_type": "stream",
          "text": [
            "Failed: 10.24963/ijcai.2019/440 - argument of type 'NoneType' is not iterable\n"
          ]
        },
        {
          "name": "stderr",
          "output_type": "stream",
          "text": [
            "Processing paper batches:  72%|███████▏  | 617/857 [09:49<03:38,  1.10it/s]"
          ]
        },
        {
          "name": "stdout",
          "output_type": "stream",
          "text": [
            "Failed: 10.21711/231766362023/rmc537 - argument of type 'NoneType' is not iterable\n"
          ]
        },
        {
          "name": "stderr",
          "output_type": "stream",
          "text": [
            "Processing paper batches:  72%|███████▏  | 621/857 [09:49<02:49,  1.39it/s]"
          ]
        },
        {
          "name": "stdout",
          "output_type": "stream",
          "text": [
            "Failed: 10.1083/jcb.200412115 - argument of type 'NoneType' is not iterable\n"
          ]
        },
        {
          "name": "stderr",
          "output_type": "stream",
          "text": [
            "Processing paper batches:  75%|███████▌  | 644/857 [10:19<01:43,  2.06it/s]"
          ]
        },
        {
          "name": "stdout",
          "output_type": "stream",
          "text": [
            "Failed: 10.1103/physreve.98.033101 - argument of type 'NoneType' is not iterable\n"
          ]
        },
        {
          "name": "stderr",
          "output_type": "stream",
          "text": [
            "Processing paper batches:  76%|███████▌  | 648/857 [10:19<01:13,  2.85it/s]"
          ]
        },
        {
          "name": "stdout",
          "output_type": "stream",
          "text": [
            "Failed: 10.1091/mbc.e20-08-0532 - argument of type 'NoneType' is not iterable"
          ]
        },
        {
          "name": "stderr",
          "output_type": "stream",
          "text": [
            "Processing paper batches:  77%|███████▋  | 656/857 [10:19<00:39,  5.07it/s]"
          ]
        },
        {
          "name": "stdout",
          "output_type": "stream",
          "text": [
            "\n"
          ]
        },
        {
          "name": "stderr",
          "output_type": "stream",
          "text": [
            "Processing paper batches:  77%|███████▋  | 661/857 [10:20<00:32,  6.08it/s]"
          ]
        },
        {
          "name": "stdout",
          "output_type": "stream",
          "text": [
            "Failed: 10.1109/tnsm.2019.2931878 - argument of type 'NoneType' is not iterableFailed: 10.15294/eej.v10i1.33952 - argument of type 'NoneType' is not iterable\n",
            "\n"
          ]
        },
        {
          "name": "stderr",
          "output_type": "stream",
          "text": [
            "Processing paper batches:  77%|███████▋  | 662/857 [10:50<07:54,  2.43s/it]"
          ]
        },
        {
          "name": "stdout",
          "output_type": "stream",
          "text": [
            "Failed: 10.1590/2317-1782/20232022007en - argument of type 'NoneType' is not iterable\n"
          ]
        },
        {
          "name": "stderr",
          "output_type": "stream",
          "text": [
            "Processing paper batches:  80%|███████▉  | 684/857 [10:51<01:11,  2.40it/s]"
          ]
        },
        {
          "name": "stdout",
          "output_type": "stream",
          "text": [
            "Failed: 10.48550/arxiv.2207.12137 - argument of type 'NoneType' is not iterable"
          ]
        },
        {
          "name": "stderr",
          "output_type": "stream",
          "text": [
            "Processing paper batches:  80%|████████  | 687/857 [10:51<00:55,  3.05it/s]"
          ]
        },
        {
          "name": "stdout",
          "output_type": "stream",
          "text": [
            "\n",
            "Failed: 10.48550/arxiv.2302.03222 - argument of type 'NoneType' is not iterable\n"
          ]
        },
        {
          "name": "stderr",
          "output_type": "stream",
          "text": [
            "Processing paper batches:  82%|████████▏ | 702/857 [11:21<03:43,  1.44s/it]"
          ]
        },
        {
          "name": "stdout",
          "output_type": "stream",
          "text": [
            "Failed: 10.48550/arxiv.2308.02199 - argument of type 'NoneType' is not iterable\n"
          ]
        },
        {
          "name": "stderr",
          "output_type": "stream",
          "text": [
            "Processing paper batches:  82%|████████▏ | 707/857 [11:21<02:13,  1.12it/s]"
          ]
        },
        {
          "name": "stdout",
          "output_type": "stream",
          "text": [
            "Failed: 10.1186/1472-6920-4-28 - argument of type 'NoneType' is not iterable\n"
          ]
        },
        {
          "name": "stderr",
          "output_type": "stream",
          "text": [
            "Processing paper batches:  83%|████████▎ | 710/857 [11:21<01:39,  1.47it/s]"
          ]
        },
        {
          "name": "stdout",
          "output_type": "stream",
          "text": [
            "Failed: 10.17219/acem/112600 - argument of type 'NoneType' is not iterable\n"
          ]
        },
        {
          "name": "stderr",
          "output_type": "stream",
          "text": [
            "Processing paper batches:  84%|████████▍ | 718/857 [11:22<00:46,  2.99it/s]"
          ]
        },
        {
          "name": "stdout",
          "output_type": "stream",
          "text": [
            "Failed: 10.1186/s40066-021-00301-0 - argument of type 'NoneType' is not iterable\n"
          ]
        },
        {
          "name": "stderr",
          "output_type": "stream",
          "text": [
            "Processing paper batches:  84%|████████▍ | 721/857 [11:22<00:36,  3.69it/s]"
          ]
        },
        {
          "name": "stdout",
          "output_type": "stream",
          "text": [
            "Failed: 10.1103/physreve.108.024604 - argument of type 'NoneType' is not iterable\n"
          ]
        },
        {
          "name": "stderr",
          "output_type": "stream",
          "text": [
            "Processing paper batches:  86%|████████▌ | 733/857 [11:51<02:56,  1.43s/it]"
          ]
        },
        {
          "name": "stdout",
          "output_type": "stream",
          "text": [
            "Failed: 10.1101/2022.11.14.516490 - argument of type 'NoneType' is not iterable\n",
            "Failed: 10.1038/s41598-018-29794-9 - argument of type 'NoneType' is not iterable"
          ]
        },
        {
          "name": "stderr",
          "output_type": "stream",
          "text": [
            "Processing paper batches:  86%|████████▌ | 738/857 [11:52<01:34,  1.26it/s]"
          ]
        },
        {
          "name": "stdout",
          "output_type": "stream",
          "text": [
            "\n"
          ]
        },
        {
          "name": "stderr",
          "output_type": "stream",
          "text": [
            "Processing paper batches:  86%|████████▋ | 741/857 [11:52<01:04,  1.79it/s]"
          ]
        },
        {
          "name": "stdout",
          "output_type": "stream",
          "text": [
            "Failed: 10.1103/physrevresearch.3.023241 - argument of type 'NoneType' is not iterable"
          ]
        },
        {
          "name": "stderr",
          "output_type": "stream",
          "text": [
            "Processing paper batches:  87%|████████▋ | 744/857 [11:52<00:46,  2.42it/s]"
          ]
        },
        {
          "name": "stdout",
          "output_type": "stream",
          "text": [
            "\n"
          ]
        },
        {
          "name": "stderr",
          "output_type": "stream",
          "text": [
            "Processing paper batches:  87%|████████▋ | 748/857 [11:52<00:29,  3.66it/s]"
          ]
        },
        {
          "name": "stdout",
          "output_type": "stream",
          "text": [
            "Failed: 10.1136/pgmj.2009.089987 - argument of type 'NoneType' is not iterable\n"
          ]
        },
        {
          "name": "stderr",
          "output_type": "stream",
          "text": [
            "Processing paper batches:  88%|████████▊ | 757/857 [12:22<02:11,  1.32s/it]"
          ]
        },
        {
          "name": "stdout",
          "output_type": "stream",
          "text": [
            "Failed: 10.1038/srep22467 - argument of type 'NoneType' is not iterable\n"
          ]
        },
        {
          "name": "stderr",
          "output_type": "stream",
          "text": [
            "Processing paper batches:  89%|████████▊ | 759/857 [12:22<01:38,  1.01s/it]"
          ]
        },
        {
          "name": "stdout",
          "output_type": "stream",
          "text": [
            "Failed: 10.1038/sj.bjc.6690651 - argument of type 'NoneType' is not iterableFailed: 10.18653/v1/2023.findings-acl.465 - argument of type 'NoneType' is not iterable"
          ]
        },
        {
          "name": "stderr",
          "output_type": "stream",
          "text": [
            "Processing paper batches:  89%|████████▉ | 764/857 [12:23<00:50,  1.85it/s]"
          ]
        },
        {
          "name": "stdout",
          "output_type": "stream",
          "text": [
            "\n",
            "\n",
            "Failed: 10.1523/eneuro.0084-15.2016 - argument of type 'NoneType' is not iterableFailed: 10.1016/j.disc.2018.06.012 - argument of type 'NoneType' is not iterable"
          ]
        },
        {
          "name": "stderr",
          "output_type": "stream",
          "text": [
            "Processing paper batches:  90%|████████▉ | 770/857 [12:23<00:26,  3.26it/s]"
          ]
        },
        {
          "name": "stdout",
          "output_type": "stream",
          "text": [
            "\n",
            "Failed: 10.1080/13102818.2014.991638 - argument of type 'NoneType' is not iterable\n",
            "\n",
            "Failed: 10.18553/jmcp.2013.19.s9.1 - argument of type 'NoneType' is not iterable"
          ]
        },
        {
          "name": "stderr",
          "output_type": "stream",
          "text": [
            "Processing paper batches:  91%|█████████ | 776/857 [12:23<00:16,  5.06it/s]"
          ]
        },
        {
          "name": "stdout",
          "output_type": "stream",
          "text": [
            "\n"
          ]
        },
        {
          "name": "stderr",
          "output_type": "stream",
          "text": [
            "Processing paper batches:  91%|█████████ | 782/857 [12:23<00:10,  7.36it/s]"
          ]
        },
        {
          "name": "stdout",
          "output_type": "stream",
          "text": [
            "Failed: 10.3390/ani13020241 - argument of type 'NoneType' is not iterable\n",
            "Failed: 10.1107/s160053680803136x - argument of type 'NoneType' is not iterable\n"
          ]
        },
        {
          "name": "stderr",
          "output_type": "stream",
          "text": [
            "Processing paper batches:  92%|█████████▏| 788/857 [12:53<02:39,  2.31s/it]"
          ]
        },
        {
          "name": "stdout",
          "output_type": "stream",
          "text": [
            "Failed: 10.4103/iju.iju_190_22 - argument of type 'NoneType' is not iterable\n"
          ]
        },
        {
          "name": "stderr",
          "output_type": "stream",
          "text": [
            "Processing paper batches:  92%|█████████▏| 791/857 [12:53<01:46,  1.62s/it]"
          ]
        },
        {
          "name": "stdout",
          "output_type": "stream",
          "text": [
            "Failed: 10.1186/s12871-023-02091-3 - argument of type 'NoneType' is not iterable\n"
          ]
        },
        {
          "name": "stderr",
          "output_type": "stream",
          "text": [
            "Processing paper batches:  93%|█████████▎| 794/857 [12:53<01:11,  1.13s/it]"
          ]
        },
        {
          "name": "stdout",
          "output_type": "stream",
          "text": [
            "Failed: 10.1007/s00466-019-01801-4 - argument of type 'NoneType' is not iterable\n",
            "Failed: 10.48550/arxiv.2211.01494 - argument of type 'NoneType' is not iterable"
          ]
        },
        {
          "name": "stderr",
          "output_type": "stream",
          "text": [
            "Processing paper batches:  93%|█████████▎| 797/857 [12:53<00:47,  1.25it/s]"
          ]
        },
        {
          "name": "stdout",
          "output_type": "stream",
          "text": [
            "\n",
            "Failed: 10.1161/circulationaha.122.060852 - argument of type 'NoneType' is not iterable"
          ]
        },
        {
          "name": "stderr",
          "output_type": "stream",
          "text": [
            "Processing paper batches:  94%|█████████▍| 804/857 [12:54<00:21,  2.48it/s]"
          ]
        },
        {
          "name": "stdout",
          "output_type": "stream",
          "text": [
            "\n",
            "Failed: 10.1186/s40529-016-0140-z - argument of type 'NoneType' is not iterableFailed: 10.1001/jama.1889.02400800035019 - argument of type 'NoneType' is not iterable\n",
            "Failed: 10.1080/03610918.2015.1076470 - argument of type 'NoneType' is not iterable\n"
          ]
        },
        {
          "name": "stderr",
          "output_type": "stream",
          "text": [
            "Processing paper batches:  95%|█████████▍| 813/857 [12:54<00:09,  4.63it/s]"
          ]
        },
        {
          "name": "stdout",
          "output_type": "stream",
          "text": [
            "\n",
            "Failed: 10.1103/physreva.102.052219 - argument of type 'NoneType' is not iterableFailed: 10.1051/aacus/2022052 - argument of type 'NoneType' is not iterable\n"
          ]
        },
        {
          "name": "stderr",
          "output_type": "stream",
          "text": [
            "Processing paper batches:  96%|█████████▌| 821/857 [12:54<00:05,  7.14it/s]"
          ]
        },
        {
          "name": "stdout",
          "output_type": "stream",
          "text": [
            "\n",
            "Failed: 10.1371/journal.pone.0283662 - argument of type 'NoneType' is not iterableFailed: 10.1137/20m1326635 - argument of type 'NoneType' is not iterable\n",
            "\n"
          ]
        },
        {
          "name": "stderr",
          "output_type": "stream",
          "text": [
            "Processing paper batches:  97%|█████████▋| 829/857 [12:54<00:02,  9.81it/s]"
          ]
        },
        {
          "name": "stdout",
          "output_type": "stream",
          "text": [
            "Failed: 10.1186/1472-6947-13-130 - argument of type 'NoneType' is not iterable\n",
            "Failed: 10.18632/oncotarget.16108 - argument of type 'NoneType' is not iterable\n"
          ]
        },
        {
          "name": "stderr",
          "output_type": "stream",
          "text": [
            "Processing paper batches:  98%|█████████▊| 837/857 [13:26<00:24,  1.23s/it]"
          ]
        },
        {
          "name": "stdout",
          "output_type": "stream",
          "text": [
            "Failed: 10.32891/jps.v5i3.1392 - argument of type 'NoneType' is not iterable\n"
          ]
        },
        {
          "name": "stderr",
          "output_type": "stream",
          "text": [
            "Processing paper batches:  99%|█████████▉| 847/857 [13:55<00:12,  1.30s/it]"
          ]
        },
        {
          "name": "stdout",
          "output_type": "stream",
          "text": [
            "Failed: 10.1186/1479-0556-5-12 - argument of type 'NoneType' is not iterable\n",
            "Failed: 10.1007/s11151-022-09854-1 - argument of type 'NoneType' is not iterable\n"
          ]
        },
        {
          "name": "stderr",
          "output_type": "stream",
          "text": [
            "Processing paper batches:  99%|█████████▉| 851/857 [13:55<00:04,  1.29it/s]"
          ]
        },
        {
          "name": "stdout",
          "output_type": "stream",
          "text": [
            "Failed: 10.1088/0264-9381/23/24/012 - argument of type 'NoneType' is not iterable\n"
          ]
        },
        {
          "name": "stderr",
          "output_type": "stream",
          "text": [
            "Processing paper batches: 100%|█████████▉| 854/857 [13:56<00:01,  1.80it/s]"
          ]
        },
        {
          "name": "stdout",
          "output_type": "stream",
          "text": [
            "Failed: 10.3390/ijerph20043193 - argument of type 'NoneType' is not iterable\n"
          ]
        },
        {
          "name": "stderr",
          "output_type": "stream",
          "text": [
            "Processing paper batches: 100%|█████████▉| 856/857 [13:56<00:00,  2.22it/s]"
          ]
        },
        {
          "name": "stdout",
          "output_type": "stream",
          "text": [
            "Failed: 10.1016/j.ijscr.2015.05.006 - \n"
          ]
        },
        {
          "name": "stderr",
          "output_type": "stream",
          "text": [
            "Processing paper batches: 100%|██████████| 857/857 [14:26<00:00,  1.01s/it]\n"
          ]
        }
      ],
      "source": [
        "import multiprocessing\n",
        "from functools import partial\n",
        "from tqdm import tqdm\n",
        "\n",
        "def process_paper_batch(paper_id_batch, id_to_introduction, sch):\n",
        "    paper_json = {}\n",
        "    try:\n",
        "        results = sch.get_papers(paper_id_batch)\n",
        "        for j, paper in enumerate(results):\n",
        "            paper_json[paper[\"paperId\"]] = {\n",
        "                \"paper_id\": paper[\"paperId\"],\n",
        "                \"title\": paper[\"title\"],\n",
        "                \"abstract\": paper[\"abstract\"],\n",
        "                \"introduction\": id_to_introduction[paper_id_batch[j]],\n",
        "                \"fields_of_study\": paper[\"fieldsOfStudy\"],\n",
        "                \"publication_date\": paper[\"publicationDate\"],\n",
        "                \"year\": paper[\"year\"],\n",
        "                \"authors\": paper[\"authors\"]\n",
        "            }\n",
        "    except Exception as e:\n",
        "        print(f\"Failed: {paper_id_batch[0]} - {e}\")\n",
        "    return paper_json\n",
        "\n",
        "def process_author_batch(author_id_batch, author_dict, sch):\n",
        "    author_json = {}\n",
        "    try:\n",
        "        results = sch.get_authors(author_id_batch)\n",
        "        for author in results:\n",
        "            author_json[author.authorId] = {\n",
        "                \"id\": author.authorId,\n",
        "                \"name\": author_dict[author.authorId],\n",
        "                \"papers\": [\n",
        "                    {\n",
        "                        \"title\": paper.title,\n",
        "                        \"abstract\": paper.abstract,\n",
        "                        \"year\": paper.year,\n",
        "                        \"fields_of_study\": paper.fieldsOfStudy\n",
        "                    }\n",
        "                    for paper in author.papers if paper.abstract is not None\n",
        "                ],\n",
        "                \"paper_count\": author[\"paperCount\"],\n",
        "                \"citation_count\": author[\"citationCount\"],\n",
        "                \"h_index\": author[\"hIndex\"],\n",
        "                \"homepage\": author[\"homepage\"]\n",
        "            }\n",
        "    except Exception as e:\n",
        "        print(f\"Failed: {author_id_batch[0]} - {e}\")\n",
        "    return author_json\n",
        "\n",
        "pool = multiprocessing.Pool()\n",
        "batch_size = 4\n",
        "\n",
        "paper_batches = [paper_id_list[i:i+batch_size] for i in range(0, len(paper_id_list), batch_size)]\n",
        "process_paper_batch_partial = partial(process_paper_batch, id_to_introduction=id_to_introduction, sch=sch)\n",
        "\n",
        "paper_results = []\n",
        "with tqdm(total=len(paper_batches), desc=\"Processing paper batches\") as pbar:\n",
        "    for result in pool.imap_unordered(process_paper_batch_partial, paper_batches):\n",
        "        paper_results.append(result)\n",
        "        pbar.update(1)\n",
        "\n",
        "paper_json = {}\n",
        "for result in paper_results:\n",
        "    paper_json.update(result)\n",
        "\n",
        "\n",
        "import json\n",
        "import random\n",
        "\n",
        "papers = list(paper_json.values())\n",
        "\n",
        "random.seed(42)\n",
        "random.shuffle(papers)\n",
        "\n",
        "test_papers = papers[:500]\n",
        "val_papers = papers[500:1000]\n",
        "train_papers = papers[1000:]\n"
      ]
    },
    {
      "cell_type": "code",
      "execution_count": 13,
      "metadata": {},
      "outputs": [
        {
          "name": "stderr",
          "output_type": "stream",
          "text": [
            "Processing author batches: 100%|██████████| 4116/4116 [05:00<00:00, 13.69it/s]\n"
          ]
        },
        {
          "name": "stdout",
          "output_type": "stream",
          "text": [
            "Failed: 150343713 - argument of type 'NoneType' is not iterable\n",
            "Failed: 2149487473 - argument of type 'NoneType' is not iterable\n",
            "Failed: 1887019 - Network error communicating with endpointFailed: 152132860 - Network error communicating with endpointFailed: 2150239105 - Network error communicating with endpoint\n",
            "\n",
            "\n",
            "Failed: 1421847403 - Network error communicating with endpoint\n",
            "Failed: 6935326 - Network error communicating with endpointFailed: 152220338 - Network error communicating with endpoint\n",
            "\n",
            "Failed: 144927906 - Network error communicating with endpointFailed: 1392526593 - Network error communicating with endpointFailed: 2216343356 - Network error communicating with endpoint\n",
            "\n",
            "Failed: 152138072 - Network error communicating with endpoint\n",
            "\n",
            "Failed: 2158007852 - Network error communicating with endpoint\n",
            "Failed: 2424349 - Network error communicating with endpoint\n",
            "Failed: 1380784749 - Network error communicating with endpointFailed: 2095560 - Network error communicating with endpoint\n",
            "\n",
            "Failed: 5423662 - Network error communicating with endpointFailed: 5018276 - Network error communicating with endpoint\n",
            "Failed: 36702065 - Network error communicating with endpoint\n",
            "\n",
            "Failed: 6159391 - Network error communicating with endpoint\n",
            "Failed: 1405893043 - Network error communicating with endpoint\n",
            "Failed: 2265373518 - Network error communicating with endpoint\n",
            "Failed: 84540644 - Endpoint request timed out\n",
            "Failed: 2108606310 - argument of type 'NoneType' is not iterableFailed: 152222829 - Endpoint request timed out\n",
            "\n",
            "Failed: 4337738 - Response would exceed maximum size. Please retry with 2 or fewer ids\n",
            "Failed: 2244184 - Network error communicating with endpointFailed: 2264620183 - Network error communicating with endpoint\n",
            "\n",
            "Failed: 25593506 - Internal Server Error\n",
            "Failed: 144020485 - Network error communicating with endpoint\n",
            "Failed: 101079387 - Network error communicating with endpointFailed: 50855831 - Network error communicating with endpoint\n",
            "\n",
            "Failed: 31444430 - Endpoint request timed out\n",
            "Failed: 1388897952 - Endpoint request timed out\n",
            "Failed: 1382866763 - Endpoint request timed out\n",
            "Failed: 152597406 - Endpoint request timed outFailed: 1757852 - Endpoint request timed out\n",
            "Failed: 51501198 - Network error communicating with endpointFailed: 152932532 - Network error communicating with endpoint\n",
            "Failed: 4982024 - Network error communicating with endpoint\n",
            "\n",
            "\n",
            "Failed: 46522969 - Network error communicating with endpoint\n",
            "Failed: 5122386 - Endpoint request timed outFailed: 92434807 - Endpoint request timed out\n",
            "\n",
            "Failed: 145790141 - Endpoint request timed out\n",
            "Failed: 144577258 - Endpoint request timed out\n",
            "Failed: 1403477022 - Network error communicating with endpointFailed: 3680186 - Network error communicating with endpointFailed: 48337746 - Network error communicating with endpoint\n",
            "Failed: 8295418 - Network error communicating with endpointFailed: 2231986030 - Network error communicating with endpointFailed: 2156114257 - Network error communicating with endpoint\n",
            "\n",
            "\n",
            "Failed: 47961079 - Network error communicating with endpoint\n",
            "\n",
            "\n",
            "Failed: 5348201 - Network error communicating with endpoint\n",
            "Failed: 153003340 - Network error communicating with endpointFailed: 2075524986 - Network error communicating with endpoint\n",
            "\n",
            "Failed: 104076624 - Network error communicating with endpointFailed: 30049258 - Network error communicating with endpointFailed: 2150796972 - Network error communicating with endpoint\n",
            "Failed: 15783989 - Network error communicating with endpoint\n",
            "\n",
            "Failed: 1859941 - Network error communicating with endpoint\n",
            "\n",
            "Failed: 1398088448 - Network error communicating with endpointFailed: 6648394 - Network error communicating with endpoint\n",
            "Failed: 6213305 - Network error communicating with endpoint\n",
            "\n",
            "Failed: 8164686 - Network error communicating with endpoint\n",
            "Failed: 6163062 - Network error communicating with endpointFailed: 2169940848 - Network error communicating with endpoint\n",
            "\n",
            "Failed: 92420366 - Network error communicating with endpointFailed: 30101872 - Network error communicating with endpoint\n",
            "\n",
            "Failed: 103160938 - Network error communicating with endpointFailed: 52032104 - Network error communicating with endpoint\n",
            "\n",
            "Failed: 2109246403 - Network error communicating with endpoint\n",
            "Failed: 71192166 - Network error communicating with endpointFailed: 98404582 - Network error communicating with endpoint\n",
            "\n",
            "Failed: 1409769418 - Network error communicating with endpoint\n",
            "Failed: 21178037 - Network error communicating with endpoint\n",
            "Failed: 49079811 - Network error communicating with endpoint\n",
            "Failed: 144899343 - Network error communicating with endpoint\n",
            "Failed: 102492290 - Network error communicating with endpointFailed: 144856056 - Network error communicating with endpoint\n",
            "\n",
            "Failed: 152152042 - Network error communicating with endpointFailed: 90026434 - Network error communicating with endpoint\n",
            "\n",
            "Failed: 47995896 - Network error communicating with endpoint\n",
            "Failed: 104370441 - Network error communicating with endpointFailed: 4692159 - Network error communicating with endpoint\n",
            "\n",
            "Failed: 153275849 - Network error communicating with endpoint\n",
            "Failed: 2169939674 - Network error communicating with endpoint\n",
            "Failed: 1714125 - Network error communicating with endpoint\n",
            "Failed: 2730455 - Network error communicating with endpoint\n",
            "Failed: 145919302 - Network error communicating with endpoint\n",
            "Failed: 91150806 - Network error communicating with endpoint\n",
            "Failed: 92929866 - Network error communicating with endpoint\n",
            "Failed: 2109382500 - Network error communicating with endpoint\n",
            "Failed: 4216005 - Network error communicating with endpointFailed: 115792663 - Network error communicating with endpoint\n",
            "\n",
            "Failed: 83637894 - Network error communicating with endpoint\n",
            "Failed: 2177224090 - Network error communicating with endpoint\n",
            "Failed: 102835239 - Network error communicating with endpoint\n",
            "Failed: 1696270 - Network error communicating with endpoint\n",
            "Failed: 121942664 - Network error communicating with endpoint\n",
            "Failed: 144494117 - Network error communicating with endpoint\n",
            "Failed: 144970857 - Network error communicating with endpoint\n",
            "Failed: 5811294 - Network error communicating with endpoint\n",
            "Failed: 96143317 - Network error communicating with endpointFailed: 5518387 - Network error communicating with endpoint\n",
            "\n",
            "Failed: 100684871 - Network error communicating with endpoint\n",
            "Failed: 50824232 - Network error communicating with endpointFailed: 69993144 - Network error communicating with endpoint\n",
            "\n",
            "Failed: 123503176 - Endpoint request timed outFailed: 2226869359 - Endpoint request timed out\n",
            "\n",
            "Failed: 1382005256 - Endpoint request timed outFailed: 49758361 - Network error communicating with endpointFailed: 2169939991 - Endpoint request timed outFailed: 2574279 - Network error communicating with endpoint\n",
            "Failed: 102818580 - Network error communicating with endpoint\n",
            "Failed: 35147361 - Endpoint request timed outFailed: 1379555730 - Network error communicating with endpoint\n",
            "\n",
            "\n",
            "\n",
            "Failed: 2108107241 - Network error communicating with endpointFailed: 2302278 - Endpoint request timed out\n",
            "\n",
            "\n",
            "Failed: 96476169 - Network error communicating with endpointFailed: 144738696 - Network error communicating with endpoint\n",
            "Failed: 152435996 - Endpoint request timed outFailed: 98867913 - Endpoint request timed outFailed: 73991716 - Endpoint request timed out\n",
            "\n",
            "Failed: 143849779 - Endpoint request timed out\n",
            "\n",
            "\n",
            "Failed: 4050175 - Endpoint request timed outFailed: 8916234 - Endpoint request timed out\n",
            "\n",
            "Failed: 1411026086 - Endpoint request timed outFailed: 80005004 - Endpoint request timed out\n",
            "\n",
            "Failed: 2169785541 - Endpoint request timed out\n",
            "Failed: 4529923 - Network error communicating with endpoint\n",
            "Failed: 50883821 - Network error communicating with endpoint\n",
            "Failed: 3795916 - Network error communicating with endpoint\n",
            "Failed: 2169939678 - Endpoint request timed out\n",
            "Failed: 152424219 - Endpoint request timed out\n",
            "Failed: 2369128 - Endpoint request timed out\n",
            "Failed: 2169940921 - Endpoint request timed out\n",
            "Failed: 2110316066 - Network error communicating with endpointFailed: 29984409 - Network error communicating with endpointFailed: 92157857 - Network error communicating with endpoint\n",
            "\n",
            "\n",
            "Failed: 49795354 - Network error communicating with endpoint\n",
            "Failed: 102426883 - Network error communicating with endpoint\n",
            "Failed: 71872075 - Endpoint request timed out\n",
            "Failed: 50858898 - Network error communicating with endpoint\n",
            "Failed: 153056521 - Endpoint request timed out\n",
            "Failed: 145627997 - Endpoint request timed out\n",
            "Failed: 6534528 - Endpoint request timed out\n",
            "Failed: 1381264836 - Network error communicating with endpointFailed: 1390580320 - Endpoint request timed out\n",
            "\n",
            "Failed: 5670370 - Endpoint request timed out\n",
            "Failed: 3610758 - Endpoint request timed outFailed: 145183166 - Endpoint request timed out\n",
            "\n",
            "Failed: 2061628830 - Network error communicating with endpoint\n",
            "Failed: 152314974 - Network error communicating with endpointFailed: 5030062 - Endpoint request timed out\n",
            "\n",
            "Failed: 5201110 - Network error communicating with endpoint\n",
            "Failed: 1391087030 - Endpoint request timed out\n",
            "Failed: 72911052 - Endpoint request timed out\n",
            "Failed: 38708956 - Network error communicating with endpoint\n",
            "Failed: 145059003 - Response would exceed maximum size. Please retry with 0 or fewer ids\n",
            "Failed: 46276037 - Response would exceed maximum size. Please retry with 0 or fewer ids\n",
            "Failed: 2264557069 - Endpoint request timed out\n",
            "Failed: 144255121 - Endpoint request timed out\n",
            "Failed: 4209238 - Network error communicating with endpointFailed: 145941649 - Endpoint request timed out\n",
            "Failed: 1389392262 - Network error communicating with endpointFailed: 2132399540 - Network error communicating with endpoint\n",
            "\n",
            "\n",
            "Failed: 1389703219 - Network error communicating with endpoint\n",
            "Failed: 70299137 - Endpoint request timed out\n",
            "Failed: 47739513 - Response would exceed maximum size. Please retry with 0 or fewer ids\n",
            "Failed: 49293742 - Endpoint request timed out\n",
            "Failed: 144224981 - Endpoint request timed out\n",
            "Failed: 152193637 - Endpoint request timed out\n",
            "Failed: 152947881 - Endpoint request timed out\n",
            "Failed: 2256626471 - Endpoint request timed out\n",
            "Failed: 144013076 - Endpoint request timed out\n",
            "Failed: 153214161 - Endpoint request timed out\n",
            "Failed: 6831040 - Endpoint request timed out\n",
            "Failed: 72624920 - Response would exceed maximum size. Please retry with 0 or fewer ids\n",
            "Failed: 152203565 - Endpoint request timed out\n",
            "Failed: 102997208 - Endpoint request timed out\n",
            "Failed: 70236638 - Endpoint request timed out\n",
            "Failed: 91391628 - Endpoint request timed out\n",
            "Failed: 1396010464 - Endpoint request timed outFailed: 2249549450 - Endpoint request timed outFailed: 145013775 - Endpoint request timed out\n",
            "Failed: 1810784 - Endpoint request timed outFailed: 152353684 - Endpoint request timed out\n",
            "\n",
            "Failed: 96786872 - Endpoint request timed out\n",
            "Failed: 152481950 - Endpoint request timed out\n",
            "\n",
            "\n",
            "Failed: 1390576110 - Endpoint request timed out\n",
            "Failed: 81870046 - Endpoint request timed out\n",
            "Failed: 152218323 - Internal Server Error\n",
            "Failed: 152772438 - Internal Server Error\n",
            "Failed: 152133750 - Network error communicating with endpoint\n",
            "Failed: 113243100 - Network error communicating with endpointFailed: 46862852 - Network error communicating with endpoint\n",
            "Failed: 91253002 - Network error communicating with endpoint\n",
            "\n",
            "Failed: 100896538 - Internal Server Error\n",
            "Failed: 104317636 - Internal Server Error\n",
            "Failed: 84650873 - Network error communicating with endpointFailed: 40488452 - Network error communicating with endpointFailed: 144021890 - Network error communicating with endpoint\n",
            "\n",
            "Failed: 3959354 - Network error communicating with endpoint\n",
            "\n",
            "Failed: 2255524320 - Internal Server Error\n",
            "Failed: 123319429 - Internal Server Error\n",
            "Failed: 144243989 - Network error communicating with endpoint\n",
            "Failed: 1422303062 - Endpoint request timed out\n",
            "Failed: 83004566 - Network error communicating with endpoint\n",
            "Failed: 143856255 - Network error communicating with endpoint\n",
            "Failed: 144299385 - Network error communicating with endpoint\n",
            "Failed: 70624406 - Network error communicating with endpoint\n",
            "Failed: 95311429 - Network error communicating with endpoint\n",
            "Failed: 123849554 - Network error communicating with endpoint\n",
            "Failed: 104361108 - Network error communicating with endpoint\n",
            "Failed: 145417239 - Network error communicating with endpointFailed: 95614607 - Network error communicating with endpoint\n",
            "\n",
            "Failed: 145334691 - Network error communicating with endpointFailed: 96640448 - Network error communicating with endpointFailed: 116039341 - Network error communicating with endpoint\n",
            "\n",
            "\n",
            "Failed: 2113436444 - Endpoint request timed out\n",
            "Failed: 4650622 - Endpoint request timed out\n",
            "Failed: 2565518 - Endpoint request timed out\n",
            "Failed: 152108255 - Network error communicating with endpointFailed: 38966045 - Network error communicating with endpointFailed: 152494319 - Network error communicating with endpointFailed: 103112969 - Network error communicating with endpointFailed: 152157437 - Network error communicating with endpointFailed: 153222711 - Network error communicating with endpoint\n",
            "\n",
            "\n",
            "\n",
            "\n",
            "\n",
            "Failed: 34602457 - Network error communicating with endpoint\n",
            "Failed: 88976857 - Network error communicating with endpoint\n",
            "Failed: 32447976 - Network error communicating with endpoint\n",
            "Failed: 2157411248 - Network error communicating with endpoint\n",
            "Failed: 48172160 - Network error communicating with endpoint\n",
            "Failed: 46734435 - Network error communicating with endpoint\n",
            "Failed: 51132090 - Network error communicating with endpoint\n",
            "Failed: 144696699 - Endpoint request timed out\n",
            "Failed: 2400222 - Endpoint request timed out\n",
            "Failed: 79570246 - Endpoint request timed out\n",
            "Failed: 96166565 - Endpoint request timed outFailed: 97642319 - Endpoint request timed out\n",
            "\n",
            "Failed: 145039715 - Endpoint request timed outFailed: 48493821 - Endpoint request timed outFailed: 145723657 - Endpoint request timed outFailed: 1388868936 - Network error communicating with endpoint\n",
            "\n",
            "\n",
            "\n",
            "Failed: 119931252 - Endpoint request timed out\n",
            "Failed: 5075845 - Network error communicating with endpointFailed: 152498714 - Endpoint request timed out\n",
            "Failed: 89174927 - Endpoint request timed out\n",
            "\n",
            "Failed: 145246389 - Endpoint request timed out\n",
            "Failed: 3636439 - Endpoint request timed out\n",
            "Failed: 69910679 - Endpoint request timed out\n",
            "Failed: 87417035 - Network error communicating with endpoint\n",
            "Failed: 102552206 - Network error communicating with endpoint\n",
            "Failed: 151591836 - Network error communicating with endpointFailed: 21032201 - Endpoint request timed out\n",
            "Failed: 94630571 - Endpoint request timed out\n",
            "\n",
            "Failed: 2305284 - Endpoint request timed out\n",
            "Failed: 145477749 - Network error communicating with endpoint\n",
            "Failed: 153590434 - Endpoint request timed out\n",
            "Failed: 1390631596 - Endpoint request timed out\n",
            "Failed: 1681976 - Endpoint request timed out\n",
            "Failed: 1382860701 - Endpoint request timed out\n",
            "Failed: 103948267 - Network error communicating with endpoint\n",
            "Failed: 144977865 - Network error communicating with endpoint\n",
            "Failed: 69863115 - Network error communicating with endpoint\n",
            "Failed: 152429289 - Network error communicating with endpoint\n",
            "Failed: 41220749 - Network error communicating with endpointFailed: 49316740 - Network error communicating with endpoint\n",
            "Failed: 31896653 - Network error communicating with endpointFailed: 152482997 - Network error communicating with endpoint\n",
            "Failed: 2175710613 - Network error communicating with endpoint\n",
            "\n",
            "\n",
            "Failed: 40068789 - Network error communicating with endpoint\n",
            "Failed: 144985843 - Endpoint request timed outFailed: 101871965 - Network error communicating with endpointFailed: 145092818 - Network error communicating with endpoint\n",
            "\n",
            "\n",
            "Failed: 98670426 - Endpoint request timed out\n",
            "Failed: 2117074299 - Endpoint request timed out\n",
            "Failed: 2149931658 - Network error communicating with endpoint\n",
            "Failed: 93239574 - Network error communicating with endpointFailed: 1866844 - Network error communicating with endpoint\n",
            "\n",
            "Failed: 4302377 - Network error communicating with endpoint\n",
            "Failed: 119758305 - Network error communicating with endpoint\n",
            "Failed: 3139529 - Network error communicating with endpoint\n",
            "Failed: 97871387 - Network error communicating with endpoint\n",
            "Failed: 5158074 - Network error communicating with endpointFailed: 4977435 - Endpoint request timed out\n",
            "\n",
            "Failed: 96977740 - Endpoint request timed outFailed: 104221274 - Endpoint request timed out\n",
            "\n",
            "Failed: 143899630 - Network error communicating with endpoint\n",
            "Failed: 49141627 - Network error communicating with endpoint\n",
            "Failed: 4458107 - Network error communicating with endpoint\n",
            "Failed: 143894707 - Response would exceed maximum size. Please retry with 2 or fewer ids\n",
            "Failed: 1390604732 - Network error communicating with endpoint\n",
            "Failed: 50852208 - Network error communicating with endpoint\n",
            "Failed: 152503008 - Endpoint request timed out\n",
            "Failed: 144123181 - Endpoint request timed out\n",
            "Failed: 102614102 - Endpoint request timed out\n",
            "Failed: 39477688 - Endpoint request timed outFailed: 96397517 - Endpoint request timed out\n",
            "\n",
            "Failed: 31150545 - Endpoint request timed out\n",
            "Failed: 41203336 - Endpoint request timed outFailed: 152336990 - Endpoint request timed out\n",
            "Failed: 24060472 - Endpoint request timed out\n",
            "\n",
            "Failed: 145480506 - Network error communicating with endpointFailed: 2255211859 - Network error communicating with endpoint\n",
            "Failed: 2356602 - Network error communicating with endpoint\n",
            "\n",
            "Failed: 82653379 - Endpoint request timed out\n",
            "Failed: 94637734 - Endpoint request timed outFailed: 4596177 - Response would exceed maximum size. Please retry with 3 or fewer ids\n",
            "\n",
            "Failed: 1383831072 - Endpoint request timed out\n",
            "Failed: 32155529 - Endpoint request timed outFailed: 20829328 - Endpoint request timed out\n",
            "\n",
            "Failed: 66382735 - Endpoint request timed outFailed: 152199231 - Endpoint request timed out\n",
            "\n",
            "Failed: 35262656 - Endpoint request timed out\n",
            "Failed: 47858223 - Endpoint request timed out\n",
            "Failed: 152142353 - Endpoint request timed out\n",
            "Failed: 100589923 - Endpoint request timed out\n",
            "Failed: 1815031 - Endpoint request timed out\n",
            "Failed: 25625364 - Endpoint request timed out\n",
            "Failed: 153796300 - Endpoint request timed outFailed: 152487235 - Endpoint request timed out\n",
            "\n",
            "Failed: 10668281 - Endpoint request timed outFailed: 114647727 - Endpoint request timed out\n",
            "Failed: 48339925 - Endpoint request timed out\n",
            "\n",
            "Failed: 96028852 - Endpoint request timed out\n",
            "Failed: 92442946 - Endpoint request timed out\n",
            "Failed: 36957182 - Endpoint request timed out\n",
            "Failed: 3967645 - Endpoint request timed out\n",
            "Failed: 113416501 - Endpoint request timed out\n",
            "Failed: 144240153 - Endpoint request timed out\n",
            "Failed: 5647197 - Endpoint request timed out\n",
            "Failed: 4496809 - Endpoint request timed out\n",
            "Failed: 46896444 - Endpoint request timed out\n",
            "Failed: 39960094 - Endpoint request timed out\n",
            "Failed: 15087037 - Network error communicating with endpoint\n",
            "Failed: 34876793 - Network error communicating with endpoint\n",
            "Failed: 2287594086 - Response would exceed maximum size. Please retry with 3 or fewer ids\n",
            "Failed: 32433556 - Response would exceed maximum size. Please retry with 2 or fewer ids\n",
            "Failed: 2263097396 - Endpoint request timed out\n",
            "Failed: 77799810 - Endpoint request timed out\n",
            "Failed: 103001416 - Endpoint request timed out\n",
            "Failed: 2140679792 - Endpoint request timed out\n",
            "Failed: 93531696 - Endpoint request timed out\n",
            "Failed: 2006203985 - Endpoint request timed outFailed: 144921586 - Endpoint request timed out\n",
            "\n",
            "Failed: 144079025 - Endpoint request timed out\n",
            "Failed: 2233577484 - argument of type 'NoneType' is not iterable\n",
            "Failed: 79492533 - Endpoint request timed out\n",
            "Failed: 2157749670 - Endpoint request timed out\n",
            "Failed: 2144763696 - Endpoint request timed out\n",
            "Failed: 151502119 - Endpoint request timed out\n",
            "Failed: 47092879 - Response would exceed maximum size. Please retry with 2 or fewer ids\n",
            "Failed: 145365790 - Response would exceed maximum size. Please retry with 1 or fewer ids\n",
            "Failed: 2271565 - Response would exceed maximum size. Please retry with 3 or fewer ids\n",
            "Failed: 47066255 - Response would exceed maximum size. Please retry with 1 or fewer ids\n",
            "Failed: 2267487458 - argument of type 'NoneType' is not iterable\n",
            "Failed: 5775440 - Response would exceed maximum size. Please retry with 3 or fewer ids\n",
            "Failed: 2264580437 - Response would exceed maximum size. Please retry with 1 or fewer ids\n",
            "Failed: 2106769690 - Network error communicating with endpointFailed: 9077699 - Network error communicating with endpointFailed: 152480176 - Network error communicating with endpoint\n",
            "\n",
            "Failed: 1740293 - Endpoint request timed out\n",
            "\n",
            "Failed: 15734822 - Network error communicating with endpointFailed: 1719226 - Network error communicating with endpoint\n",
            "\n",
            "Failed: 41192764 - Network error communicating with endpoint\n",
            "Failed: 2263859106 - Endpoint request timed out\n",
            "Failed: 114894358 - Endpoint request timed out\n",
            "Failed: 11636720 - Endpoint request timed out\n",
            "Failed: 30671596 - Endpoint request timed outFailed: 102299461 - Endpoint request timed out\n",
            "\n",
            "Failed: 152426329 - Endpoint request timed out\n",
            "Failed: 48644331 - Endpoint request timed outFailed: 2246445048 - Endpoint request timed out\n",
            "\n",
            "Failed: 4002197 - Endpoint request timed outFailed: 145775023 - Endpoint request timed out\n",
            "\n",
            "Failed: 41189899 - Endpoint request timed outFailed: 2246193939 - Endpoint request timed out\n",
            "Failed: 103264943 - Endpoint request timed out\n",
            "\n",
            "Failed: 145788874 - Endpoint request timed out\n",
            "Failed: 2279656215 - argument of type 'NoneType' is not iterable\n",
            "Failed: 6774045 - Response would exceed maximum size. Please retry with 3 or fewer ids\n",
            "Failed: 2092722700 - argument of type 'NoneType' is not iterable\n",
            "Failed: 2056348988 - Endpoint request timed out\n",
            "Failed: 79941675 - Endpoint request timed out\n",
            "Failed: 1398041630 - argument of type 'NoneType' is not iterable\n",
            "Failed: 15765719 - Endpoint request timed out\n",
            "Failed: 103639739 - Network error communicating with endpoint\n",
            "Failed: 1716911 - Endpoint request timed out\n",
            "Failed: 2590296 - Response would exceed maximum size. Please retry with 3 or fewer ids\n",
            "Failed: 3920277 - Network error communicating with endpointFailed: 46664096 - Network error communicating with endpoint\n",
            "\n",
            "Failed: 143937740 - Response would exceed maximum size. Please retry with 3 or fewer ids\n",
            "Failed: 2467543 - Response would exceed maximum size. Please retry with 1 or fewer ids\n",
            "Failed: 1709121 - Response would exceed maximum size. Please retry with 3 or fewer ids\n",
            "Failed: 5566148 - Endpoint request timed out\n",
            "Failed: 145417571 - Endpoint request timed out\n",
            "Failed: 2060547304 - Network error communicating with endpoint\n",
            "Failed: 2155689583 - Response would exceed maximum size. Please retry with 2 or fewer ids\n",
            "Failed: 101612644 - Response would exceed maximum size. Please retry with 2 or fewer ids\n",
            "Failed: 13935012 - Endpoint request timed out\n",
            "Failed: 119105464 - Response would exceed maximum size. Please retry with 1 or fewer ids\n",
            "Failed: 96679984 - Response would exceed maximum size. Please retry with 3 or fewer ids\n",
            "Failed: 152178080 - Endpoint request timed out\n"
          ]
        },
        {
          "name": "stdout",
          "output_type": "stream",
          "text": [
            "Number of papers: 2744\n",
            "Average authors per paper: 6.051749271137027\n",
            "Number of unique authors: 16461\n"
          ]
        }
      ],
      "source": [
        "author_dict = {}\n",
        "author_count = sum(len(paper[\"authors\"]) for paper in paper_json.values())\n",
        "for paper in paper_json.values():\n",
        "    for author in paper[\"authors\"]:\n",
        "        author_dict[author[\"authorId\"]] = author[\"name\"]\n",
        "\n",
        "author_batches = [list(author_dict.keys())[i:i+batch_size] for i in range(0, len(author_dict), batch_size)]\n",
        "process_author_batch_partial = partial(process_author_batch, author_dict=author_dict, sch=sch)\n",
        "\n",
        "author_results = []\n",
        "with tqdm(total=len(author_batches), desc=\"Processing author batches\") as pbar:\n",
        "    for result in pool.imap_unordered(process_author_batch_partial, author_batches):\n",
        "        author_results.append(result)\n",
        "        pbar.update(1)\n",
        "\n",
        "pool.close()\n",
        "pool.join()\n",
        "\n",
        "author_json = {}\n",
        "for result in author_results:\n",
        "    author_json.update(result)"
      ]
    },
    {
      "cell_type": "code",
      "execution_count": 14,
      "metadata": {},
      "outputs": [
        {
          "name": "stdout",
          "output_type": "stream",
          "text": [
            "Number of papers: 2744\n",
            "Average authors per paper: 6.051749271137027\n",
            "Number of unique authors: 16461\n",
            "Average number of papers per author: 53.471269787807344\n"
          ]
        }
      ],
      "source": [
        "print(f\"Number of papers: {len(paper_json)}\")\n",
        "print(f\"Average authors per paper: {author_count/len(paper_json)}\")\n",
        "print(f\"Number of unique authors: {len(author_dict)}\")\n",
        "print(f\"Average number of papers per author: {sum(len(author['papers']) for author in author_json.values())/len(author_json)}\")"
      ]
    },
    {
      "cell_type": "code",
      "execution_count": 16,
      "metadata": {},
      "outputs": [
        {
          "name": "stdout",
          "output_type": "stream",
          "text": [
            "Title Length (Train): 97.06995412844037\n"
          ]
        },
        {
          "ename": "TypeError",
          "evalue": "object of type 'int' has no len()",
          "output_type": "error",
          "traceback": [
            "\u001b[0;31m---------------------------------------------------------------------------\u001b[0m",
            "\u001b[0;31mTypeError\u001b[0m                                 Traceback (most recent call last)",
            "Cell \u001b[0;32mIn[16], line 2\u001b[0m\n\u001b[1;32m      1\u001b[0m \u001b[38;5;28mprint\u001b[39m(\u001b[38;5;124mf\u001b[39m\u001b[38;5;124m\"\u001b[39m\u001b[38;5;124mTitle Length (Train): \u001b[39m\u001b[38;5;132;01m{\u001b[39;00m\u001b[38;5;28msum\u001b[39m(\u001b[38;5;28mlen\u001b[39m(paper[\u001b[38;5;124m'\u001b[39m\u001b[38;5;124mtitle\u001b[39m\u001b[38;5;124m'\u001b[39m])\u001b[38;5;250m \u001b[39m\u001b[38;5;28;01mfor\u001b[39;00m\u001b[38;5;250m \u001b[39mpaper\u001b[38;5;250m \u001b[39m\u001b[38;5;129;01min\u001b[39;00m\u001b[38;5;250m \u001b[39mtrain_papers)\u001b[38;5;241m/\u001b[39m\u001b[38;5;28mlen\u001b[39m(train_papers)\u001b[38;5;132;01m}\u001b[39;00m\u001b[38;5;124m\"\u001b[39m)\n\u001b[0;32m----> 2\u001b[0m \u001b[38;5;28mprint\u001b[39m(\u001b[38;5;124mf\u001b[39m\u001b[38;5;124m\"\u001b[39m\u001b[38;5;124mAbstract Length (Train): \u001b[39m\u001b[38;5;132;01m{\u001b[39;00m\u001b[38;5;28;43msum\u001b[39;49m\u001b[43m(\u001b[49m\u001b[38;5;28;43mlen\u001b[39;49m\u001b[43m(\u001b[49m\u001b[43mpaper\u001b[49m\u001b[43m[\u001b[49m\u001b[38;5;124;43m'\u001b[39;49m\u001b[38;5;124;43mabstract\u001b[39;49m\u001b[38;5;124;43m'\u001b[39;49m\u001b[43m]\u001b[49m\u001b[38;5;250;43m \u001b[39;49m\u001b[38;5;28;43;01mif\u001b[39;49;00m\u001b[38;5;250;43m \u001b[39;49m\u001b[43mpaper\u001b[49m\u001b[43m[\u001b[49m\u001b[38;5;124;43m'\u001b[39;49m\u001b[38;5;124;43mabstract\u001b[39;49m\u001b[38;5;124;43m'\u001b[39;49m\u001b[43m]\u001b[49m\u001b[38;5;250;43m \u001b[39;49m\u001b[38;5;28;43;01melse\u001b[39;49;00m\u001b[38;5;250;43m \u001b[39;49m\u001b[38;5;241;43m0\u001b[39;49m\u001b[43m)\u001b[49m\u001b[38;5;250;43m \u001b[39;49m\u001b[38;5;28;43;01mfor\u001b[39;49;00m\u001b[38;5;250;43m \u001b[39;49m\u001b[43mpaper\u001b[49m\u001b[38;5;250;43m \u001b[39;49m\u001b[38;5;129;43;01min\u001b[39;49;00m\u001b[38;5;250;43m \u001b[39;49m\u001b[43mtrain_papers\u001b[49m\u001b[43m)\u001b[49m\u001b[38;5;241m/\u001b[39m\u001b[38;5;28mlen\u001b[39m(train_papers)\u001b[38;5;132;01m}\u001b[39;00m\u001b[38;5;124m\"\u001b[39m)\n\u001b[1;32m      4\u001b[0m \u001b[38;5;28mprint\u001b[39m(\u001b[38;5;124mf\u001b[39m\u001b[38;5;124m\"\u001b[39m\u001b[38;5;124mTitle Length (Val): \u001b[39m\u001b[38;5;132;01m{\u001b[39;00m\u001b[38;5;28msum\u001b[39m(\u001b[38;5;28mlen\u001b[39m(paper[\u001b[38;5;124m'\u001b[39m\u001b[38;5;124mtitle\u001b[39m\u001b[38;5;124m'\u001b[39m])\u001b[38;5;250m \u001b[39m\u001b[38;5;28;01mfor\u001b[39;00m\u001b[38;5;250m \u001b[39mpaper\u001b[38;5;250m \u001b[39m\u001b[38;5;129;01min\u001b[39;00m\u001b[38;5;250m \u001b[39mval_papers)\u001b[38;5;241m/\u001b[39m\u001b[38;5;28mlen\u001b[39m(val_papers)\u001b[38;5;132;01m}\u001b[39;00m\u001b[38;5;124m\"\u001b[39m)\n\u001b[1;32m      5\u001b[0m \u001b[38;5;28mprint\u001b[39m(\u001b[38;5;124mf\u001b[39m\u001b[38;5;124m\"\u001b[39m\u001b[38;5;124mAbstract Length (Val): \u001b[39m\u001b[38;5;132;01m{\u001b[39;00m\u001b[38;5;28msum\u001b[39m(\u001b[38;5;28mlen\u001b[39m(paper[\u001b[38;5;124m'\u001b[39m\u001b[38;5;124mabstract\u001b[39m\u001b[38;5;124m'\u001b[39m]\u001b[38;5;250m \u001b[39m\u001b[38;5;28;01mif\u001b[39;00m\u001b[38;5;250m \u001b[39mpaper[\u001b[38;5;124m'\u001b[39m\u001b[38;5;124mabstract\u001b[39m\u001b[38;5;124m'\u001b[39m]\u001b[38;5;250m \u001b[39m\u001b[38;5;28;01melse\u001b[39;00m\u001b[38;5;250m \u001b[39m\u001b[38;5;241m0\u001b[39m)\u001b[38;5;250m \u001b[39m\u001b[38;5;28;01mfor\u001b[39;00m\u001b[38;5;250m \u001b[39mpaper\u001b[38;5;250m \u001b[39m\u001b[38;5;129;01min\u001b[39;00m\u001b[38;5;250m \u001b[39mval_papers)\u001b[38;5;241m/\u001b[39m\u001b[38;5;28mlen\u001b[39m(val_papers)\u001b[38;5;132;01m}\u001b[39;00m\u001b[38;5;124m\"\u001b[39m)\n",
            "Cell \u001b[0;32mIn[16], line 2\u001b[0m, in \u001b[0;36m<genexpr>\u001b[0;34m(.0)\u001b[0m\n\u001b[1;32m      1\u001b[0m \u001b[38;5;28mprint\u001b[39m(\u001b[38;5;124mf\u001b[39m\u001b[38;5;124m\"\u001b[39m\u001b[38;5;124mTitle Length (Train): \u001b[39m\u001b[38;5;132;01m{\u001b[39;00m\u001b[38;5;28msum\u001b[39m(\u001b[38;5;28mlen\u001b[39m(paper[\u001b[38;5;124m'\u001b[39m\u001b[38;5;124mtitle\u001b[39m\u001b[38;5;124m'\u001b[39m])\u001b[38;5;250m \u001b[39m\u001b[38;5;28;01mfor\u001b[39;00m\u001b[38;5;250m \u001b[39mpaper\u001b[38;5;250m \u001b[39m\u001b[38;5;129;01min\u001b[39;00m\u001b[38;5;250m \u001b[39mtrain_papers)\u001b[38;5;241m/\u001b[39m\u001b[38;5;28mlen\u001b[39m(train_papers)\u001b[38;5;132;01m}\u001b[39;00m\u001b[38;5;124m\"\u001b[39m)\n\u001b[0;32m----> 2\u001b[0m \u001b[38;5;28mprint\u001b[39m(\u001b[38;5;124mf\u001b[39m\u001b[38;5;124m\"\u001b[39m\u001b[38;5;124mAbstract Length (Train): \u001b[39m\u001b[38;5;132;01m{\u001b[39;00m\u001b[38;5;28msum\u001b[39m(\u001b[38;5;28;43mlen\u001b[39;49m\u001b[43m(\u001b[49m\u001b[43mpaper\u001b[49m\u001b[43m[\u001b[49m\u001b[38;5;124;43m'\u001b[39;49m\u001b[38;5;124;43mabstract\u001b[39;49m\u001b[38;5;124;43m'\u001b[39;49m\u001b[43m]\u001b[49m\u001b[38;5;250;43m \u001b[39;49m\u001b[38;5;28;43;01mif\u001b[39;49;00m\u001b[38;5;250;43m \u001b[39;49m\u001b[43mpaper\u001b[49m\u001b[43m[\u001b[49m\u001b[38;5;124;43m'\u001b[39;49m\u001b[38;5;124;43mabstract\u001b[39;49m\u001b[38;5;124;43m'\u001b[39;49m\u001b[43m]\u001b[49m\u001b[38;5;250;43m \u001b[39;49m\u001b[38;5;28;43;01melse\u001b[39;49;00m\u001b[38;5;250;43m \u001b[39;49m\u001b[38;5;241;43m0\u001b[39;49m\u001b[43m)\u001b[49m\u001b[38;5;250m \u001b[39m\u001b[38;5;28;01mfor\u001b[39;00m\u001b[38;5;250m \u001b[39mpaper\u001b[38;5;250m \u001b[39m\u001b[38;5;129;01min\u001b[39;00m\u001b[38;5;250m \u001b[39mtrain_papers)\u001b[38;5;241m/\u001b[39m\u001b[38;5;28mlen\u001b[39m(train_papers)\u001b[38;5;132;01m}\u001b[39;00m\u001b[38;5;124m\"\u001b[39m)\n\u001b[1;32m      4\u001b[0m \u001b[38;5;28mprint\u001b[39m(\u001b[38;5;124mf\u001b[39m\u001b[38;5;124m\"\u001b[39m\u001b[38;5;124mTitle Length (Val): \u001b[39m\u001b[38;5;132;01m{\u001b[39;00m\u001b[38;5;28msum\u001b[39m(\u001b[38;5;28mlen\u001b[39m(paper[\u001b[38;5;124m'\u001b[39m\u001b[38;5;124mtitle\u001b[39m\u001b[38;5;124m'\u001b[39m])\u001b[38;5;250m \u001b[39m\u001b[38;5;28;01mfor\u001b[39;00m\u001b[38;5;250m \u001b[39mpaper\u001b[38;5;250m \u001b[39m\u001b[38;5;129;01min\u001b[39;00m\u001b[38;5;250m \u001b[39mval_papers)\u001b[38;5;241m/\u001b[39m\u001b[38;5;28mlen\u001b[39m(val_papers)\u001b[38;5;132;01m}\u001b[39;00m\u001b[38;5;124m\"\u001b[39m)\n\u001b[1;32m      5\u001b[0m \u001b[38;5;28mprint\u001b[39m(\u001b[38;5;124mf\u001b[39m\u001b[38;5;124m\"\u001b[39m\u001b[38;5;124mAbstract Length (Val): \u001b[39m\u001b[38;5;132;01m{\u001b[39;00m\u001b[38;5;28msum\u001b[39m(\u001b[38;5;28mlen\u001b[39m(paper[\u001b[38;5;124m'\u001b[39m\u001b[38;5;124mabstract\u001b[39m\u001b[38;5;124m'\u001b[39m]\u001b[38;5;250m \u001b[39m\u001b[38;5;28;01mif\u001b[39;00m\u001b[38;5;250m \u001b[39mpaper[\u001b[38;5;124m'\u001b[39m\u001b[38;5;124mabstract\u001b[39m\u001b[38;5;124m'\u001b[39m]\u001b[38;5;250m \u001b[39m\u001b[38;5;28;01melse\u001b[39;00m\u001b[38;5;250m \u001b[39m\u001b[38;5;241m0\u001b[39m)\u001b[38;5;250m \u001b[39m\u001b[38;5;28;01mfor\u001b[39;00m\u001b[38;5;250m \u001b[39mpaper\u001b[38;5;250m \u001b[39m\u001b[38;5;129;01min\u001b[39;00m\u001b[38;5;250m \u001b[39mval_papers)\u001b[38;5;241m/\u001b[39m\u001b[38;5;28mlen\u001b[39m(val_papers)\u001b[38;5;132;01m}\u001b[39;00m\u001b[38;5;124m\"\u001b[39m)\n",
            "\u001b[0;31mTypeError\u001b[0m: object of type 'int' has no len()"
          ]
        }
      ],
      "source": [
        "print(f\"Title Length (Train): {sum(len(paper['title']) for paper in train_papers)/len(train_papers)}\")\n",
        "print(f\"Abstract Length (Train): {sum(len(paper['abstract'] if paper['abstract'] else '') for paper in train_papers)/len(train_papers)}\")\n",
        "\n",
        "print(f\"Title Length (Val): {sum(len(paper['title']) for paper in val_papers)/len(val_papers)}\")\n",
        "print(f\"Abstract Length (Val): {sum(len(paper['abstract'] if paper['abstract'] else '') for paper in val_papers)/len(val_papers)}\")\n",
        "\n",
        "print(f\"Title Length (Test): {sum(len(paper['title']) for paper in test_papers)/len(test_papers)}\")\n",
        "print(f\"Abstract Length (Test): {sum(len(paper['abstract'] if paper['abstract'] else '') for paper in test_papers)/len(test_papers)}\")"
      ]
    },
    {
      "cell_type": "code",
      "execution_count": null,
      "metadata": {},
      "outputs": [],
      "source": []
    },
    {
      "cell_type": "code",
      "execution_count": 15,
      "metadata": {
        "gather": {
          "logged": 1694327766516
        },
        "jupyter": {
          "outputs_hidden": false,
          "source_hidden": false
        },
        "nteract": {
          "transient": {
            "deleting": false
          }
        }
      },
      "outputs": [
        {
          "name": "stdout",
          "output_type": "stream",
          "text": [
            "3535\n",
            "82\n",
            "605\n"
          ]
        }
      ],
      "source": [
        "author_dict = {}\n",
        "author_json_filtered = {}\n",
        "for i in author_json:\n",
        "    if len(author_json[i][\"papers\"])>0:\n",
        "        author_dict[i] = author_json[i] \n",
        "        author_json_filtered[i]= author_json[i] \n",
        "        # print(author_json[i])\n",
        "        \n",
        "        # break\n",
        "\n",
        "\n",
        "paperJsonFiltered = {}\n",
        "author_dict_missing = {}\n",
        "for i in paperJsonSampled:\n",
        "    flag = True\n",
        "    for author in paperJsonSampled[i][\"authors\"]:\n",
        "        if author[\"authorId\"] not in author_dict:\n",
        "            flag= False\n",
        "            author_dict_missing[author[\"authorId\"]] = author[\"name\"]\n",
        "    if flag:\n",
        "        paperJsonFiltered[i] = paperJsonSampled[i]\n",
        "print(len(author_json_filtered))\n",
        "print(len(author_dict_missing))\n",
        "print(len(paperJsonFiltered))\n",
        "\n",
        "with open('data_set_v2.1/author_json.json', 'w', encoding='utf-8') as f:\n",
        "    json.dump(author_json_filtered, f, indent=4)\n",
        "with open('data_set_v2.1/paper_json.json', 'w', encoding='utf-8') as f:\n",
        "    json.dump(paperJsonFiltered, f, indent=4)"
      ]
    },
    {
      "cell_type": "code",
      "execution_count": 17,
      "metadata": {
        "gather": {
          "logged": 1694330264111
        },
        "jupyter": {
          "outputs_hidden": false,
          "source_hidden": false
        },
        "nteract": {
          "transient": {
            "deleting": false
          }
        }
      },
      "outputs": [
        {
          "name": "stdout",
          "output_type": "stream",
          "text": [
            "605\n",
            "3535\n",
            "100 536\n"
          ]
        }
      ],
      "source": [
        "import json\n",
        "with open('data_set_v2.1/paper_json.json', 'r',encoding='utf-8') as f:\n",
        "    paperJson = json.load(f)\n",
        "print(len(paperJson))\n",
        "with open('data_set_v2.1/author_json.json', 'r',encoding='utf-8') as f:\n",
        "    authorJson = json.load(f)\n",
        "print(len(authorJson))\n",
        "\n",
        "paperDictId = {i:paperJson[i][\"year\"] for i in paperJson}\n",
        "paperDictIdSorted = {k: v for k, v in sorted(paperDictId.items(), key=lambda item: item[1], reverse=True)}\n",
        "count = 0\n",
        "\n",
        "paperJsonSampled = {}\n",
        "authorJsonSampled = {}\n",
        "for i in paperDictIdSorted:\n",
        "    if count < 100:\n",
        "        count = count + 1\n",
        "        paperJsonSampled[i] = paperJson[i]\n",
        "        for author in paperJsonSampled[i][\"authors\"]:\n",
        "            authorJsonSampled[author[\"authorId\"]] = authorJson[author[\"authorId\"]]\n",
        "        # print(paperDictIdSorted[i])\n",
        "print(len(paperJsonSampled),len(authorJsonSampled))\n",
        "\n",
        "with open('data_set_v2.1/author_json_sampled_100.json', 'w', encoding='utf-8') as f:\n",
        "    json.dump(authorJsonSampled, f, indent=4)\n",
        "with open('data_set_v2.1/paper_json_sampled_100.json', 'w', encoding='utf-8') as f:\n",
        "    json.dump(paperJsonSampled, f, indent=4)"
      ]
    },
    {
      "cell_type": "code",
      "execution_count": null,
      "metadata": {
        "jupyter": {
          "outputs_hidden": false,
          "source_hidden": false
        },
        "nteract": {
          "transient": {
            "deleting": false
          }
        }
      },
      "outputs": [],
      "source": []
    }
  ],
  "metadata": {
    "kernel_info": {
      "name": "python38-azureml"
    },
    "kernelspec": {
      "display_name": "bioagent",
      "language": "python",
      "name": "python3"
    },
    "language_info": {
      "codemirror_mode": {
        "name": "ipython",
        "version": 3
      },
      "file_extension": ".py",
      "mimetype": "text/x-python",
      "name": "python",
      "nbconvert_exporter": "python",
      "pygments_lexer": "ipython3",
      "version": "3.11.7"
    },
    "microsoft": {
      "host": {
        "AzureML": {
          "notebookHasBeenCompleted": true
        }
      },
      "ms_spell_check": {
        "ms_spell_check_language": "en"
      }
    },
    "nteract": {
      "version": "nteract-front-end@1.0.0"
    }
  },
  "nbformat": 4,
  "nbformat_minor": 2
}
