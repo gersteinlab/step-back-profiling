{
  "cells": [
    {
      "cell_type": "code",
      "source": [
        "# reference data gathering \n",
        "\n",
        "import csv\n",
        "import json\n",
        "import pandas as pd\n",
        "import re\n",
        "import logging\n",
        "import os\n",
        "import random\n",
        "import sys\n",
        "from heapq import nlargest\n",
        "import openai\n",
        "import torch\n",
        "from tenacity import retry, stop_after_attempt, wait_exponential\n",
        "import pandas as pd\n",
        "\n",
        "\n",
        "with open('../../data_set_v1.0/author_json.json', 'r',encoding='utf-8') as f:\n",
        "    authors = json.load(f)\n",
        "print(len(authors))\n",
        "\n",
        "with open('../../data_set_v1.0/paper_json.json', 'r',encoding='utf-8') as f:\n",
        "    papers = json.load(f)\n",
        "print(len(papers))\n",
        "# sampled papers to 500 \n",
        "count = 0\n",
        "max_paper = 500\n",
        "author_paper_count = []\n",
        "paper_author_count = []\n",
        "papers_sampled = {}\n",
        "authors_sampled = {}\n",
        "for i in papers:\n",
        "    if count < 500:\n",
        "        flag = True\n",
        "        for author in papers[i][\"authors\"]:\n",
        "            if len(authors[author][\"papers\"])<5:\n",
        "                flag = False\n",
        "        if flag and len(papers[i][\"authors\"]) > 1:\n",
        "            paper_author_count.append(len(papers[i][\"authors\"]))\n",
        "            papers_sampled[i] = papers[i]\n",
        "            papers_sampled[i][\"author_history\"] = {}\n",
        "            \n",
        "            for author in papers[i][\"authors\"]:\n",
        "                papers_sampled[i][\"author_history\"][author] = {}\n",
        "                papers_sampled[i][\"author_history\"][author][\"authors_history_text\"] = [papers[i][\"abstract\"]]\n",
        "                papers_sampled[i][\"author_history\"][author][\"authors_history_dict\"] = [{\"Abstract\":\"\",\"Title\":\"\"}]\n",
        "                paper_count_tmp = 0\n",
        "                for paper_tmp in authors[author][\"papers\"]:\n",
        "                    if paper_count_tmp < max_paper and paper_tmp[\"title\"] != papers[i][\"title\"]:\n",
        "                        papers_sampled[i][\"author_history\"][author][\"authors_history_text\"].append(\"Abstract: \"+paper_tmp[\"abstract\"]+\"\\nTitle: \"+paper_tmp[\"title\"])\n",
        "                        papers_sampled[i][\"author_history\"][author][\"authors_history_dict\"].append({\"Abstract\":paper_tmp[\"abstract\"],\"Title\":paper_tmp[\"title\"]})\n",
        "                        paper_count_tmp = paper_count_tmp + 1\n",
        "                author_paper_count.append(len(authors[author][\"papers\"]))\n",
        "                authors_sampled[author] = authors[author]\n",
        "            count = count + 1\n",
        "print(\"papers count after sampled: \",len(papers_sampled))\n",
        "print(\"authors count after sampled: \",len(authors_sampled))\n"
      ],
      "outputs": [
        {
          "output_type": "stream",
          "name": "stdout",
          "text": "7931\n3275\npapers count after sampled:  500\nauthors count after sampled:  1080\n"
        }
      ],
      "execution_count": 1,
      "metadata": {
        "gather": {
          "logged": 1697278572332
        }
      }
    },
    {
      "cell_type": "code",
      "source": [
        "# Statistics \n",
        "for i in papers_sampled:\n",
        "    for j in papers_sampled[i]:\n",
        "        print(j)\n",
        "    break\n",
        "# author_cnt = [len(papers_sampled[i][\"abstract\"]) for i in papers_sampled]\n",
        "# print(sum(author_cnt)/len(author_cnt))"
      ],
      "outputs": [
        {
          "output_type": "stream",
          "name": "stdout",
          "text": "paperId\ntitle\nabstract\nyear\nauthors\nauthor_history\n"
        }
      ],
      "execution_count": 3,
      "metadata": {
        "jupyter": {
          "source_hidden": false,
          "outputs_hidden": false
        },
        "nteract": {
          "transient": {
            "deleting": false
          }
        },
        "gather": {
          "logged": 1697198822559
        }
      }
    },
    {
      "cell_type": "code",
      "source": [
        "#!/usr/bin/env python3\n",
        "\n",
        "\n",
        "import argparse\n",
        "import csv\n",
        "import os\n",
        "from requests import Session\n",
        "from typing import Generator, TypeVar\n",
        "import requests\n",
        "\n",
        "S2_API_KEY = \"mEwrkvDmRc9KFXu76cAAk16KJxHNNUuf9tYaot1g\"\n",
        "\n",
        "\n",
        "def get_paper_batch( ids, fields):\n",
        "    params = {\n",
        "        'fields': fields\n",
        "    }\n",
        "    headers = {\n",
        "        'X-API-KEY': S2_API_KEY,\n",
        "    }\n",
        "    body = {\n",
        "        'ids': ids,\n",
        "    }\n",
        "\n",
        "    # https://api.semanticscholar.org/api-docs/graph#tag/Paper-Data/operation/post_graph_get_papers\n",
        "    with requests.post('https://api.semanticscholar.org/graph/v1/paper/batch',\n",
        "                       params=params,\n",
        "                       headers=headers,\n",
        "                       json=body\n",
        "                       ) as response:\n",
        "        return response.content\n",
        "paper2pdfs = {}\n",
        "paperIds = [i for i in papers_sampled]\n",
        "paper2pdfs = get_paper_batch(paperIds,[\"openAccessPdf\"])\n",
        "paper2pdfs = json.loads(paper2pdfs)\n",
        "\n",
        "# print(len(paper2pdfs))\n",
        "id2pdfs = {}\n",
        "for paper in paper2pdfs:\n",
        "    # print(paper)\n",
        "    if paper is not None and \"openAccessPdf\" in paper:\n",
        "        if paper[\"openAccessPdf\"] is not None:\n",
        "            id2pdfs[paper[\"paperId\"]] = paper[\"openAccessPdf\"]\n",
        "    \n",
        "len(id2pdfs)"
      ],
      "outputs": [
        {
          "output_type": "execute_result",
          "execution_count": 2,
          "data": {
            "text/plain": "163"
          },
          "metadata": {}
        }
      ],
      "execution_count": 2,
      "metadata": {
        "jupyter": {
          "source_hidden": false,
          "outputs_hidden": false
        },
        "nteract": {
          "transient": {
            "deleting": false
          }
        },
        "gather": {
          "logged": 1697278639116
        }
      }
    },
    {
      "cell_type": "code",
      "source": [
        "import requests\n",
        "requests.timeout = 20\n",
        "count = 0\n",
        "for i in id2pdfs:\n",
        "    if \"url\" in id2pdfs[i]:\n",
        "        try:\n",
        "            url = id2pdfs[i][\"url\"]\n",
        "            # url = \"https://link.springer.com/content/pdf/bfm:978-3-031-02549-5/1\"\n",
        "            myfile = requests.get(url, allow_redirects=True)\n",
        "            filename = i +\".pdf\"\n",
        "            open(filename, 'wb').write(myfile.content)\n",
        "            print(str(count)+\" done!\")\n",
        "            count = count + 1\n",
        "        except Exception as e:\n",
        "            continue\n",
        "    # break"
      ],
      "outputs": [
        {
          "output_type": "stream",
          "name": "stdout",
          "text": "0 done!\n1 done!\n2 done!\n3 done!\n4 done!\n5 done!\n6 done!\n7 done!\n8 done!\n9 done!\n10 done!\n11 done!\n12 done!\n13 done!\n14 done!\n15 done!\n16 done!\n17 done!\n18 done!\n19 done!\n20 done!\n21 done!\n22 done!\n23 done!\n24 done!\n25 done!\n26 done!\n27 done!\n28 done!\n29 done!\n30 done!\n31 done!\n32 done!\n33 done!\n34 done!\n35 done!\n36 done!\n37 done!\n38 done!\n39 done!\n40 done!\n41 done!\n42 done!\n43 done!\n44 done!\n45 done!\n46 done!\n47 done!\n48 done!\n49 done!\n50 done!\n51 done!\n52 done!\n53 done!\n54 done!\n55 done!\n56 done!\n57 done!\n58 done!\n59 done!\n60 done!\n61 done!\n62 done!\n63 done!\n64 done!\n65 done!\n66 done!\n67 done!\n68 done!\n69 done!\n70 done!\n71 done!\n72 done!\n73 done!\n74 done!\n75 done!\n76 done!\n77 done!\n78 done!\n79 done!\n80 done!\n81 done!\n82 done!\n83 done!\n84 done!\n85 done!\n86 done!\n87 done!\n88 done!\n89 done!\n90 done!\n91 done!\n92 done!\n93 done!\n94 done!\n95 done!\n96 done!\n97 done!\n98 done!\n99 done!\n100 done!\n101 done!\n102 done!\n103 done!\n104 done!\n105 done!\n106 done!\n107 done!\n108 done!\n109 done!\n110 done!\n111 done!\n112 done!\n113 done!\n114 done!\n115 done!\n116 done!\n117 done!\n118 done!\n119 done!\n120 done!\n121 done!\n122 done!\n123 done!\n124 done!\n125 done!\n126 done!\n127 done!\n128 done!\n129 done!\n130 done!\n131 done!\n132 done!\n133 done!\n134 done!\n135 done!\n136 done!\n137 done!\n138 done!\n139 done!\n140 done!\n141 done!\n142 done!\n143 done!\n144 done!\n145 done!\n146 done!\n147 done!\n148 done!\n149 done!\n150 done!\n151 done!\n152 done!\n153 done!\n154 done!\n155 done!\n156 done!\n"
        }
      ],
      "execution_count": 40,
      "metadata": {
        "jupyter": {
          "source_hidden": false,
          "outputs_hidden": false
        },
        "nteract": {
          "transient": {
            "deleting": false
          }
        },
        "gather": {
          "logged": 1697203991220
        }
      }
    },
    {
      "cell_type": "code",
      "source": [
        "import os\n",
        "for i in id2pdfs:\n",
        "    if \"url\" in id2pdfs[i]:\n",
        "        os.system('/anaconda/envs/doc2json/bin/python ../../../s2orc-doc2json/doc2json/grobid2json/process_pdf.py -i '+i+'.pdf -t temp_dir/ -o ./paperJson/')\n"
      ],
      "outputs": [
        {
          "output_type": "stream",
          "name": "stdout",
          "text": "runtime: 0.686 seconds \ndone.\nruntime: 0.247 seconds \ndone.\nruntime: 0.166 seconds \ndone.\nruntime: 0.426 seconds \ndone.\nruntime: 0.38 seconds \ndone.\n2f9a1286e7af4ab7706ad8cfcc8c8742a1964939.pdf\nruntime: 3.332 seconds \ndone.\nruntime: 0.199 seconds \ndone.\ne708fe09fcbcebba443db826c6f0d6c839137cb0.pdf\nProcessing failed with error 500\nruntime: 0.238 seconds \ndone.\nruntime: 0.194 seconds \ndone.\nruntime: 0.478 seconds \ndone.\nruntime: 0.358 seconds \ndone.\n1c5b80259a8b8b4d4f286a86ab2d5ea983ee0db5.pdf\nProcessing failed with error 500\nruntime: 0.212 seconds \ndone.\nruntime: 0.153 seconds \ndone.\nruntime: 0.209 seconds \ndone.\nruntime: 0.243 seconds \ndone.\nruntime: 0.25 seconds \ndone.\nruntime: 0.168 seconds \ndone.\nruntime: 0.121 seconds \ndone.\nruntime: 0.278 seconds \ndone.\n286c57dd231dcac718f556f76ece89db7571d380.pdf\nProcessing failed with error 500\n6b9f883c89e0c350d4cc9c0d5aa39c75afe252ae.pdf\nruntime: 3.057 seconds \ndone.\nd5094bfeff961a09318c9506395e1f877686b85a.pdf\nProcessing failed with error 500\n659e20a2fd027b76a0f1220355566dcad2ccfd80.pdf\nruntime: 2.058 seconds \ndone.\n81f7ffc65443439b920b21310c5e43f986b22b3c.pdf\nruntime: 2.111 seconds \ndone.\nb920e13052f67c965c54b8814d484d0064b775c9.pdf\nruntime: 2.596 seconds \ndone.\n964cf983df773bcf91584f4199298304dc8ecdb9.pdf\nruntime: 2.051 seconds \ndone.\n52c55a2e59f407fb3d5236487512f5a17a5a3167.pdf\nruntime: 2.516 seconds \ndone.\ncc8512ef12dbc37951a46ad8bdfa45921497c494.pdf\nruntime: 4.469 seconds \ndone.\n40f5cafb4033f952930bd05bff2559eae3f367da.pdf\nruntime: 4.034 seconds \ndone.\nc1f4a4f7fd5698dc9222d2c24475792ce0fbc7e2.pdf\nruntime: 4.43 seconds \ndone.\nc78aaf754824512067504937056baea03feb9733.pdf\nProcessing failed with error 500\n775a9c722262c7b656876a5fef20f4577afd8981.pdf\nruntime: 4.276 seconds \ndone.\nb2723f0da6f6219a823f573ecb92868da3b40b20.pdf\nruntime: 2.106 seconds \ndone.\n04a7feffbd5c7aa54deadccce2f27fd60f70e5ac.pdf\nruntime: 2.939 seconds \ndone.\n868250675efde930fdf8afb1599eec085f7ac24f.pdf\nruntime: 2.978 seconds \ndone.\nd2b973e58738e2c0db9ce8c37918f45c4c7d22a0.pdf\nProcessing failed with error 500\n59ba4e0af2b5ae4a2f6c8b8028895c06717efeff.pdf\nruntime: 1.53 seconds \ndone.\n732d43a6b4f3a2bb41aa3f7099d76642e80fc39a.pdf\nruntime: 3.746 seconds \ndone.\n73491acc9af95a6c6293466b348c835ef20ca409.pdf\nruntime: 2.742 seconds \ndone.\n131e1227019217cf18006734218b2211380985f1.pdf\nruntime: 2.347 seconds \ndone.\nae7befa5d556421951c7ca70a43bc5ba561aa566.pdf\nruntime: 3.079 seconds \ndone.\n3ad467fe13ffa8ee705d62d8228a2c254a96f5bd.pdf\nruntime: 3.082 seconds \ndone.\n78b9951563cb4c790e95edda3bcc506c2ec24650.pdf\nProcessing failed with error 500\n8021461c52a1d56285d9fe5e1b92ceb16b7a829b.pdf\nruntime: 1.943 seconds \ndone.\n7dda00edbbbf06f9ae3791ce10cdd6a37224c98b.pdf\nruntime: 2.864 seconds \ndone.\n69334689324bf136f73ed2040568a8f97637a177.pdf\nProcessing failed with error 500\n23546122f8ca4e8cfb988563ee46cf4fce681140.pdf\nruntime: 2.858 seconds \ndone.\n5bc613aab725f482b056f55e533cd4f2e7c516cc.pdf\nruntime: 1.842 seconds \ndone.\n8f7ca1f0caadcefcca5d774b654d603bc75aa13e.pdf\nruntime: 9.956 seconds \ndone.\n460156ec0505cd073df49c4c4c2fc56643555292.pdf\nProcessing failed with error 500\nd2f5c2b2b3e51c041c073fd4bcae0e938b9aff73.pdf\nruntime: 1.714 seconds \ndone.\n7bc66121b85df0788061f35ee2f0b67a54b2e55a.pdf\nruntime: 4.84 seconds \ndone.\na8ad484a0930796487704f376bab7983f337ad0d.pdf\nruntime: 6.55 seconds \ndone.\nde2aa1b58c49e78fd2b5758ccd67540d65947582.pdf\nruntime: 4.037 seconds \ndone.\n73bb47d973d2c8aca4f697c83a99af0e9edba68f.pdf\nruntime: 1.896 seconds \ndone.\neb30f5c4aa2ea502da74b446f0a160185e64bc07.pdf\nruntime: 2.61 seconds \ndone.\n3c7d65be55c964f68bc4bb7858be93a18bf9f0ed.pdf\nruntime: 2.138 seconds \ndone.\n2ad69f4ab0661f1efbcb3909ac9c7127e6f14628.pdf\nruntime: 2.463 seconds \ndone.\ne6dbee9312d0890c23eacac11121edb3fdd60da0.pdf\nruntime: 1.786 seconds \ndone.\ne41fcaa8fc09e4a538f0ffcb9ce96f33c9e9e809.pdf\nruntime: 2.802 seconds \ndone.\ndd3b1ba809b1bd1f3ef803a188b5a93f807039ac.pdf\nruntime: 1.893 seconds \ndone.\n442aebfd48a5cd0293071cf08f907f6726915ff4.pdf\nruntime: 1.8 seconds \ndone.\nab191342bc7b42be6c07760f3dded05a6ae21292.pdf\nruntime: 2.463 seconds \ndone.\n4da9a7c3cf8440315e09ddf5f2acc6e303c4d3d0.pdf\nProcessing failed with error 500\nf39a8308f2b8fbe90e31e1d6f7a57324884fe4af.pdf\nProcessing failed with error 500\neb0cb015adf8d450580c4a6e6fc6a678d748d8b1.pdf\nruntime: 2.945 seconds \ndone.\n8158c079f1d2b71f615c7fd2078cbaacc3902340.pdf\nruntime: 2.888 seconds \ndone.\n5692e63b4a2947f777cc1c3eb2a0369e774eac99.pdf\nruntime: 7.059 seconds \ndone.\n42016163c616ceb8d412e4fcd2bb6815fdb598d4.pdf\nruntime: 1.942 seconds \ndone.\n9a35ca4729f9eb94ee8fed79cb38718c3ea6dd29.pdf\nruntime: 20.793 seconds \ndone.\n82bb3cab18bbe980275c9e04059ac8c8068d77bf.pdf\nruntime: 3.174 seconds \ndone.\n3d67d4b8e9620ab6470b0190eedbec03fe6297ae.pdf\nruntime: 2.464 seconds \ndone.\n33ec7eb2168e37e3007d1059aa96b9a63254b4da.pdf\nProcessing failed with error 500\n45bae78163d6af3230d15eeb7642ac0074e008b6.pdf\nruntime: 2.471 seconds \ndone.\nfa0c6bbc866332db226e4bcc7b0b6ca1fcd9a0d7.pdf\nruntime: 2.833 seconds \ndone.\n7b5f909e1ab4d076116d11e1e7754b3c12471db8.pdf\nruntime: 2.075 seconds \ndone.\nde1207e09d1df9e14b291a92a76cf997272a0529.pdf\nruntime: 2.678 seconds \ndone.\n405dd454e81c9aa3d95ac805259cda79378470dc.pdf\nruntime: 3.173 seconds \ndone.\ne408fdce4a1043d2bea5338a9acc70eb7c2fd35a.pdf\nProcessing failed with error 500\nb98fa27217b6f905819ec071bf4f027597d8b3af.pdf\nruntime: 2.391 seconds \ndone.\n1b0adcf3ad6532fc913fab4879fbbbaf5aaa0fb3.pdf\nruntime: 7.977 seconds \ndone.\n3ffb087b6c88346a98e3f34d42915bc2bcc08b64.pdf\nruntime: 9.354 seconds \ndone.\n960ba564e9e598d864dff38d2f3d0bad1b319ead.pdf\nruntime: 7.609 seconds \ndone.\n35decd3753849cddca45c4b4c0f441b22e75f6bb.pdf\nruntime: 3.362 seconds \ndone.\n868b5d2b5b4cca1a52e93219201a42016df5f21c.pdf\nruntime: 1.568 seconds \ndone.\n2243a9d77d351f318ea93a6638879238ba2c8d21.pdf\nruntime: 3.645 seconds \ndone.\ne2d55453c901bc5b26ae24b80d14a9a88c35f71f.pdf\nruntime: 2.843 seconds \ndone.\n3970a1052925bcb1c2cfe893cac0dd227d322b7d.pdf\nruntime: 2.277 seconds \ndone.\n8657184f73c4427a179876a03a80e4c12513308a.pdf\nruntime: 3.658 seconds \ndone.\n52b8b10154f1934a68e289c93914024b7703b78a.pdf\nProcessing failed with error 500\na1c2e859afeaed8d10a147ff1d0ccf1584f78db6.pdf\nruntime: 2.498 seconds \ndone.\n11680e6c2dd126a833dd08063cd2f5c6dca70b48.pdf\nruntime: 2.349 seconds \ndone.\n594d687eaa2fd7c6cde2c4353906aba3d37f2043.pdf\nruntime: 1.545 seconds \ndone.\nd47bca3f9f8c86506ba842533990c2d6f2b91658.pdf\nruntime: 2.534 seconds \ndone.\na76980883f586ec862288271a9d759558c574ab6.pdf\nruntime: 4.551 seconds \ndone.\n3312c86b0b84260cfa14d7e611842ef44c705079.pdf\nruntime: 1.592 seconds \ndone.\n20b61bd4e9227e8ad69c356d18ec9f877d486a92.pdf\nruntime: 2.792 seconds \ndone.\n0d80050b042506bad4e916d74f3535df7f6ec63d.pdf\nProcessing failed with error 500\n499d11a3929db6d5b9aa1324c40bd6970d0c39e8.pdf\nProcessing failed with error 500\n68c3dd34100f83be95b1aaa5290007938a5e1b70.pdf\nruntime: 1.983 seconds \ndone.\nc7d18e102abdb267b231951b485894beec50d633.pdf\nruntime: 6.224 seconds \ndone.\nfeabe0fbb48f740e2251f6173a0949caac81a0c0.pdf\nruntime: 2.142 seconds \ndone.\nff89fbcde6bf3faf0b01c0e5c2a65a5c21db1153.pdf\nruntime: 4.665 seconds \ndone.\n0935dd683f8d6c7b1fde4a245c862595672117a6.pdf\nruntime: 3.05 seconds \ndone.\n5cc338054979c15fb6f66bf267f0fca8d70b0f04.pdf\nruntime: 2.414 seconds \ndone.\n"
        },
        {
          "output_type": "stream",
          "name": "stderr",
          "text": "Traceback (most recent call last):\n  File \"../../../s2orc-doc2json/doc2json/grobid2json/process_pdf.py\", line 100, in <module>\n    process_pdf_file(input_path, temp_path, output_path)\n  File \"../../../s2orc-doc2json/doc2json/grobid2json/process_pdf.py\", line 71, in process_pdf_file\n    assert os.path.exists(tei_file)\nAssertionError\nTraceback (most recent call last):\n  File \"../../../s2orc-doc2json/doc2json/grobid2json/process_pdf.py\", line 100, in <module>\n    process_pdf_file(input_path, temp_path, output_path)\n  File \"../../../s2orc-doc2json/doc2json/grobid2json/process_pdf.py\", line 60, in process_pdf_file\n    raise FileNotFoundError(f\"{input_file} doesn't exist\")\nFileNotFoundError: 7bcfe45fbdccbfc4667540b3c54b4aff398d140c.pdf doesn't exist\nTraceback (most recent call last):\n  File \"../../../s2orc-doc2json/doc2json/grobid2json/process_pdf.py\", line 100, in <module>\n    process_pdf_file(input_path, temp_path, output_path)\n  File \"../../../s2orc-doc2json/doc2json/grobid2json/process_pdf.py\", line 71, in process_pdf_file\n    assert os.path.exists(tei_file)\nAssertionError\nTraceback (most recent call last):\n  File \"../../../s2orc-doc2json/doc2json/grobid2json/process_pdf.py\", line 100, in <module>\n    process_pdf_file(input_path, temp_path, output_path)\n  File \"../../../s2orc-doc2json/doc2json/grobid2json/process_pdf.py\", line 71, in process_pdf_file\n    assert os.path.exists(tei_file)\nAssertionError\nTraceback (most recent call last):\n  File \"../../../s2orc-doc2json/doc2json/grobid2json/process_pdf.py\", line 100, in <module>\n    process_pdf_file(input_path, temp_path, output_path)\n  File \"../../../s2orc-doc2json/doc2json/grobid2json/process_pdf.py\", line 60, in process_pdf_file\n    raise FileNotFoundError(f\"{input_file} doesn't exist\")\nFileNotFoundError: 74ea36e76ae8a208336d3cf79ce1482245264363.pdf doesn't exist\nTraceback (most recent call last):\n  File \"../../../s2orc-doc2json/doc2json/grobid2json/process_pdf.py\", line 100, in <module>\n    process_pdf_file(input_path, temp_path, output_path)\n  File \"../../../s2orc-doc2json/doc2json/grobid2json/process_pdf.py\", line 71, in process_pdf_file\n    assert os.path.exists(tei_file)\nAssertionError\nTraceback (most recent call last):\n  File \"../../../s2orc-doc2json/doc2json/grobid2json/process_pdf.py\", line 100, in <module>\n    process_pdf_file(input_path, temp_path, output_path)\n  File \"../../../s2orc-doc2json/doc2json/grobid2json/process_pdf.py\", line 71, in process_pdf_file\n    assert os.path.exists(tei_file)\nAssertionError\nTraceback (most recent call last):\n  File \"../../../s2orc-doc2json/doc2json/grobid2json/process_pdf.py\", line 100, in <module>\n    process_pdf_file(input_path, temp_path, output_path)\n  File \"../../../s2orc-doc2json/doc2json/grobid2json/process_pdf.py\", line 71, in process_pdf_file\n    assert os.path.exists(tei_file)\nAssertionError\nTraceback (most recent call last):\n  File \"../../../s2orc-doc2json/doc2json/grobid2json/process_pdf.py\", line 100, in <module>\n    process_pdf_file(input_path, temp_path, output_path)\n  File \"../../../s2orc-doc2json/doc2json/grobid2json/process_pdf.py\", line 60, in process_pdf_file\n    raise FileNotFoundError(f\"{input_file} doesn't exist\")\nFileNotFoundError: 370a5f4b305540f35821d2179c384f95f5a63eee.pdf doesn't exist\nTraceback (most recent call last):\n  File \"../../../s2orc-doc2json/doc2json/grobid2json/process_pdf.py\", line 100, in <module>\n    process_pdf_file(input_path, temp_path, output_path)\n  File \"../../../s2orc-doc2json/doc2json/grobid2json/process_pdf.py\", line 71, in process_pdf_file\n    assert os.path.exists(tei_file)\nAssertionError\nTraceback (most recent call last):\n  File \"../../../s2orc-doc2json/doc2json/grobid2json/process_pdf.py\", line 100, in <module>\n    process_pdf_file(input_path, temp_path, output_path)\n  File \"../../../s2orc-doc2json/doc2json/grobid2json/process_pdf.py\", line 71, in process_pdf_file\n    assert os.path.exists(tei_file)\nAssertionError\nTraceback (most recent call last):\n  File \"../../../s2orc-doc2json/doc2json/grobid2json/process_pdf.py\", line 100, in <module>\n    process_pdf_file(input_path, temp_path, output_path)\n  File \"../../../s2orc-doc2json/doc2json/grobid2json/process_pdf.py\", line 71, in process_pdf_file\n    assert os.path.exists(tei_file)\nAssertionError\nTraceback (most recent call last):\n  File \"../../../s2orc-doc2json/doc2json/grobid2json/process_pdf.py\", line 100, in <module>\n    process_pdf_file(input_path, temp_path, output_path)\n  File \"../../../s2orc-doc2json/doc2json/grobid2json/process_pdf.py\", line 71, in process_pdf_file\n    assert os.path.exists(tei_file)\nAssertionError\nTraceback (most recent call last):\n  File \"../../../s2orc-doc2json/doc2json/grobid2json/process_pdf.py\", line 100, in <module>\n    process_pdf_file(input_path, temp_path, output_path)\n  File \"../../../s2orc-doc2json/doc2json/grobid2json/process_pdf.py\", line 71, in process_pdf_file\n    assert os.path.exists(tei_file)\nAssertionError\nTraceback (most recent call last):\n  File \"../../../s2orc-doc2json/doc2json/grobid2json/process_pdf.py\", line 100, in <module>\n    process_pdf_file(input_path, temp_path, output_path)\n  File \"../../../s2orc-doc2json/doc2json/grobid2json/process_pdf.py\", line 71, in process_pdf_file\n    assert os.path.exists(tei_file)\nAssertionError\nTraceback (most recent call last):\n  File \"../../../s2orc-doc2json/doc2json/grobid2json/process_pdf.py\", line 100, in <module>\n    process_pdf_file(input_path, temp_path, output_path)\n  File \"../../../s2orc-doc2json/doc2json/grobid2json/process_pdf.py\", line 71, in process_pdf_file\n    assert os.path.exists(tei_file)\nAssertionError\nTraceback (most recent call last):\n  File \"../../../s2orc-doc2json/doc2json/grobid2json/process_pdf.py\", line 100, in <module>\n    process_pdf_file(input_path, temp_path, output_path)\n  File \"../../../s2orc-doc2json/doc2json/grobid2json/process_pdf.py\", line 60, in process_pdf_file\n    raise FileNotFoundError(f\"{input_file} doesn't exist\")\nFileNotFoundError: d32a787e619022eafad74581a40075075f02b38b.pdf doesn't exist\nTraceback (most recent call last):\n  File \"../../../s2orc-doc2json/doc2json/grobid2json/process_pdf.py\", line 100, in <module>\n    process_pdf_file(input_path, temp_path, output_path)\n  File \"../../../s2orc-doc2json/doc2json/grobid2json/process_pdf.py\", line 71, in process_pdf_file\n    assert os.path.exists(tei_file)\nAssertionError\nTraceback (most recent call last):\n  File \"../../../s2orc-doc2json/doc2json/grobid2json/process_pdf.py\", line 100, in <module>\n    process_pdf_file(input_path, temp_path, output_path)\n  File \"../../../s2orc-doc2json/doc2json/grobid2json/process_pdf.py\", line 60, in process_pdf_file\n    raise FileNotFoundError(f\"{input_file} doesn't exist\")\nFileNotFoundError: 5823c18622d4f16ec6b859487ff86cbf447856aa.pdf doesn't exist\nTraceback (most recent call last):\n  File \"../../../s2orc-doc2json/doc2json/grobid2json/process_pdf.py\", line 100, in <module>\n    process_pdf_file(input_path, temp_path, output_path)\n  File \"../../../s2orc-doc2json/doc2json/grobid2json/process_pdf.py\", line 71, in process_pdf_file\n    assert os.path.exists(tei_file)\nAssertionError\nTraceback (most recent call last):\n  File \"../../../s2orc-doc2json/doc2json/grobid2json/process_pdf.py\", line 100, in <module>\n    process_pdf_file(input_path, temp_path, output_path)\n  File \"../../../s2orc-doc2json/doc2json/grobid2json/process_pdf.py\", line 60, in process_pdf_file\n    raise FileNotFoundError(f\"{input_file} doesn't exist\")\nFileNotFoundError: ef927c7be3712883b49f61e8aec9747883a4fcc8.pdf doesn't exist\nTraceback (most recent call last):\n  File \"../../../s2orc-doc2json/doc2json/grobid2json/process_pdf.py\", line 100, in <module>\n    process_pdf_file(input_path, temp_path, output_path)\n  File \"../../../s2orc-doc2json/doc2json/grobid2json/process_pdf.py\", line 71, in process_pdf_file\n    assert os.path.exists(tei_file)\nAssertionError\n"
        }
      ],
      "execution_count": 4,
      "metadata": {
        "jupyter": {
          "source_hidden": false,
          "outputs_hidden": false
        },
        "nteract": {
          "transient": {
            "deleting": false
          }
        },
        "gather": {
          "logged": 1697206262424
        }
      }
    },
    {
      "cell_type": "code",
      "source": [
        "for i in id2pdfs:\n",
        "    if os.path.exists(\"paperJson/\"+i+\".json\"):\n",
        "        print(i)\n"
      ],
      "outputs": [],
      "execution_count": 4,
      "metadata": {
        "jupyter": {
          "source_hidden": false,
          "outputs_hidden": false
        },
        "nteract": {
          "transient": {
            "deleting": false
          }
        },
        "gather": {
          "logged": 1697278676591
        }
      }
    },
    {
      "cell_type": "code",
      "source": [
        "id2introduction = {}\n",
        "count = 0\n",
        "\n",
        "for i in id2pdfs:\n",
        "    if os.path.exists(\"../paperJson/\"+i+\".json\"):\n",
        "        # print(i)\n",
        "        if \"url\" in id2pdfs[i]:\n",
        "            with open('../paperJson/'+i+'.json', 'r',encoding='utf-8') as f:\n",
        "                paper = json.load(f)\n",
        "            SectionDict = {}\n",
        "            introductionSecName = \"\"\n",
        "            introductions = []\n",
        "            for j in paper[\"pdf_parse\"][\"body_text\"]:\n",
        "                sec = j[\"section\"].lower()\n",
        "                if \"introduction\" in sec:\n",
        "                    introductionSecName = j[\"section\"]\n",
        "                    break\n",
        "            if len(introductionSecName)> 0:\n",
        "                for j in paper[\"pdf_parse\"][\"body_text\"]:\n",
        "                    if j[\"section\"] == introductionSecName:\n",
        "                        introductions.append(j[\"text\"])\n",
        "                id2introduction[i] = \" \".join(introductions)\n",
        "                count = count + 1\n",
        "            # print(paper)\n",
        "            # break\n",
        "print(len(id2introduction),count)\n"
      ],
      "outputs": [
        {
          "output_type": "stream",
          "name": "stdout",
          "text": "130862d54894966552cb85d3ee6f739f885d4989\ne28bdc373de80d7ec0e64631a89e64fbdcdae230\nfb2bb5777f1b1bd745070c006265edf8feb5f29f\n51b502b9ce774a615474ed8629e74d0dfaa33ee3\n6f58d8b98c652897842afdd023c535f9724b4eb2\n8fe2f59ff3733f9ee50ffa295beda502f4e268e2\nf9a9f3f016fa3123c3059cca66314d26f2357155\n819f36c0ddae12132d60ebc5cc0a19f7db8668b1\n564614da76b5d9020c700b78e1fe154bd590c47d\nfac3a6f272428e9d6879227ef76c1fa9397b317f\n2f9a1286e7af4ab7706ad8cfcc8c8742a1964939\n188e778ae2b5c1dee1dd76ce9c786f566f7e7079\n717a8985cc3fcbd285efe50dbcb8fe5bb12921b1\n09402e20ca49842e1d1d967d3c5a530e8167b9b1\n22cf911f7111f46fd3eeb75d95c01ae10187ad8d\n1112e2422dbb90df87da2df6afc719e90f5e0af6\n0ed846e87ce0961d162e9115b4e9837537138e3a\ncf20d6130160843e5cd8ef8f5553d66a920bc6f3\nd48a7458182aeebf080d4bc2b0100e6d126c1b79\n35e06978cd069786ff7ab05ac29d6e2e28f1bad6\n05882b3376dddab5066015b46704bb7bfe3946cc\n87cc9fb5129781b74750d88f83472f2cd644ca60\n59d3ec40b4f17ed94dc5ae510c316ac511915031\n3713667bb3ce322c3bb078f4499017697a07282e\n761bf03e086ce887a44dc5e44aefb0de05b4a47f\n2ae398028f82555931c8c504886ec5857640c59e\n073c37ddc266657a9bc21ebad7abc97991237539\nafdfec4b9a0a65ac246b96f747b8aa07dda642c1\nc575eb25feb0f06d2702fcf7751f6b4f61b892ee\ndaebea219735324da56cb5c181aee67193c7ea55\nba94ea2cdadd4f6741f3af37d7ce96abff845baf\nbb83408e1e4116a37bb5b14a045b0bb49b02145d\ncd888f88f8227ceebe1a551de4fc9cdf6bee6e54\n4c6b43f5c68b82bdb814312b019af561eac5c6bc\n05acb25fccb689cb74b347929f425a6934e284bc\n7d543cf8af92580e398f60f5d1a924962ea68baa\n153da75d4661ff462bb65a841646e268c4536896\n6b9f883c89e0c350d4cc9c0d5aa39c75afe252ae\n522a6470e6b7ce8866ef8210c6c6fc34e0186c87\na75744a9b01cd107058ee33bbc24e6b4c438e293\n4550fcf64869132a1852fd421081520ae4341a33\n006660d48903b216bf5f04cf47347f442c159265\n072fd6273a089054fb279e456c57e5d82f5cc099\nd936f684b2819bd9cc9ae7a0184c73b4979a4589\n0fac912bbae1051bacd352e4495b587e78fdb0f3\n659e20a2fd027b76a0f1220355566dcad2ccfd80\nf4e64e27707d985b2bda5d0eea1d60fa66d78c48\n81f7ffc65443439b920b21310c5e43f986b22b3c\n5dfbf6d15c47637fa5d62e27f9b26c59fc249ab3\nb920e13052f67c965c54b8814d484d0064b775c9\n97a2728a93fb04cde7dff0ef24df1e238ade3f92\n964cf983df773bcf91584f4199298304dc8ecdb9\n98d6284286869d22e95d8461b8ab1d054956fc27\n52c55a2e59f407fb3d5236487512f5a17a5a3167\naeacd6f5b723be15d5835d4b5847932929f230c3\ncc8512ef12dbc37951a46ad8bdfa45921497c494\n8d972098b0e0530b526a234e7be1a4743ccc7cfb\na7a468018b32bf1fead18440224aea818ec5d997\n40f5cafb4033f952930bd05bff2559eae3f367da\nc1f4a4f7fd5698dc9222d2c24475792ce0fbc7e2\n775a9c722262c7b656876a5fef20f4577afd8981\nde760552279b241976676f4723a159060a433198\ncfccfd55242f5fc072e26f9c37e5c5733e16a28a\nb2723f0da6f6219a823f573ecb92868da3b40b20\n7ddbc19300ef58833a543d5f4fce4de008730a53\n04a7feffbd5c7aa54deadccce2f27fd60f70e5ac\n692fb55862eefcedd9abed331a7cd0aabdd2498d\n868250675efde930fdf8afb1599eec085f7ac24f\n15a8bc6e51ac59ee43cd802e2085dbf60bf468a8\n59ba4e0af2b5ae4a2f6c8b8028895c06717efeff\n732d43a6b4f3a2bb41aa3f7099d76642e80fc39a\n0d1d9f66602e68b144774cfb862a07f9bb948ad7\n73491acc9af95a6c6293466b348c835ef20ca409\nbab109d4a72bc56be7889e2e6d83556a285e60d7\n131e1227019217cf18006734218b2211380985f1\nc647cb2f737bd19ad73e555a939ea9b2e59671d0\nae7befa5d556421951c7ca70a43bc5ba561aa566\n870e7b24d0c379c1076baede45673c817a5f3079\n2c5598011762628df7d971c9b903984a93cfed30\n3ad467fe13ffa8ee705d62d8228a2c254a96f5bd\n4ed0260eef3a3a2f4c337e2f2a17eb4a5fab1704\n8021461c52a1d56285d9fe5e1b92ceb16b7a829b\n7dda00edbbbf06f9ae3791ce10cdd6a37224c98b\n23546122f8ca4e8cfb988563ee46cf4fce681140\n5bc613aab725f482b056f55e533cd4f2e7c516cc\n8f7ca1f0caadcefcca5d774b654d603bc75aa13e\nd2f5c2b2b3e51c041c073fd4bcae0e938b9aff73\n7bc66121b85df0788061f35ee2f0b67a54b2e55a\na8ad484a0930796487704f376bab7983f337ad0d\nde2aa1b58c49e78fd2b5758ccd67540d65947582\n73bb47d973d2c8aca4f697c83a99af0e9edba68f\neb30f5c4aa2ea502da74b446f0a160185e64bc07\n3c7d65be55c964f68bc4bb7858be93a18bf9f0ed\n2ad69f4ab0661f1efbcb3909ac9c7127e6f14628\ne6dbee9312d0890c23eacac11121edb3fdd60da0\ne41fcaa8fc09e4a538f0ffcb9ce96f33c9e9e809\ndd3b1ba809b1bd1f3ef803a188b5a93f807039ac\n442aebfd48a5cd0293071cf08f907f6726915ff4\nab191342bc7b42be6c07760f3dded05a6ae21292\neb0cb015adf8d450580c4a6e6fc6a678d748d8b1\n8158c079f1d2b71f615c7fd2078cbaacc3902340\n5692e63b4a2947f777cc1c3eb2a0369e774eac99\n42016163c616ceb8d412e4fcd2bb6815fdb598d4\n9a35ca4729f9eb94ee8fed79cb38718c3ea6dd29\n82bb3cab18bbe980275c9e04059ac8c8068d77bf\n3d67d4b8e9620ab6470b0190eedbec03fe6297ae\n45bae78163d6af3230d15eeb7642ac0074e008b6\nfa0c6bbc866332db226e4bcc7b0b6ca1fcd9a0d7\n7b5f909e1ab4d076116d11e1e7754b3c12471db8\nde1207e09d1df9e14b291a92a76cf997272a0529\n405dd454e81c9aa3d95ac805259cda79378470dc\nb98fa27217b6f905819ec071bf4f027597d8b3af\n1b0adcf3ad6532fc913fab4879fbbbaf5aaa0fb3\n3ffb087b6c88346a98e3f34d42915bc2bcc08b64\n960ba564e9e598d864dff38d2f3d0bad1b319ead\n35decd3753849cddca45c4b4c0f441b22e75f6bb\n868b5d2b5b4cca1a52e93219201a42016df5f21c\n2243a9d77d351f318ea93a6638879238ba2c8d21\ne2d55453c901bc5b26ae24b80d14a9a88c35f71f\n3970a1052925bcb1c2cfe893cac0dd227d322b7d\n8657184f73c4427a179876a03a80e4c12513308a\na1c2e859afeaed8d10a147ff1d0ccf1584f78db6\n11680e6c2dd126a833dd08063cd2f5c6dca70b48\n594d687eaa2fd7c6cde2c4353906aba3d37f2043\nd47bca3f9f8c86506ba842533990c2d6f2b91658\na76980883f586ec862288271a9d759558c574ab6\n3312c86b0b84260cfa14d7e611842ef44c705079\n20b61bd4e9227e8ad69c356d18ec9f877d486a92\n68c3dd34100f83be95b1aaa5290007938a5e1b70\nc7d18e102abdb267b231951b485894beec50d633\nfeabe0fbb48f740e2251f6173a0949caac81a0c0\nff89fbcde6bf3faf0b01c0e5c2a65a5c21db1153\n0935dd683f8d6c7b1fde4a245c862595672117a6\n5cc338054979c15fb6f66bf267f0fca8d70b0f04\n109 109\n"
        }
      ],
      "execution_count": 6,
      "metadata": {
        "jupyter": {
          "source_hidden": false,
          "outputs_hidden": false
        },
        "nteract": {
          "transient": {
            "deleting": false
          }
        },
        "gather": {
          "logged": 1697278697259
        }
      }
    },
    {
      "cell_type": "code",
      "source": [
        "paper_updated = {}\n",
        "author_updated = {}\n",
        "authorDict = {}\n",
        "\n",
        "for i in id2introduction:\n",
        "    if i in papers_sampled:\n",
        "        \n",
        "        paper = papers_sampled[i]\n",
        "        paper[\"introduction\"] = id2introduction[i]\n",
        "        paper_updated[i] = paper\n",
        "        for authorId in papers_sampled[i][\"authors\"]:\n",
        "            authorDict[authorId] = 1\n",
        "print(len(authorDict)) \n",
        "for i in authorDict:\n",
        "    if i not in authors_sampled:\n",
        "        author_updated[i] = authors_sampled[i]\n",
        "# paper\n",
        "\n",
        "# # id2introduction\n",
        "with open('../../data_set_v3.0/paper_json.json', 'w', encoding='utf-8') as f:\n",
        "    json.dump(paper_updated, f, indent=4)\n",
        "with open('../../data_set_v3.0/author_json.json', 'w', encoding='utf-8') as f:\n",
        "    json.dump(author_updated, f, indent=4)\n",
        "\n",
        "# papers_sampled[\"188e778ae2b5c1dee1dd76ce9c786f566f7e7079\"]"
      ],
      "outputs": [
        {
          "output_type": "stream",
          "name": "stdout",
          "text": "281\n"
        }
      ],
      "execution_count": 14,
      "metadata": {
        "jupyter": {
          "source_hidden": false,
          "outputs_hidden": false
        },
        "nteract": {
          "transient": {
            "deleting": false
          }
        },
        "gather": {
          "logged": 1697279998921
        }
      }
    },
    {
      "cell_type": "code",
      "source": [
        "input_history = pd.read_csv('../naive_method_v1.0/paper_to_author_cot_5_examples_.tsv', sep='\\t', header=None, names=[\"paper_index\",\"author_index\",\"example_index\",\"result\",\"abstract\",\"title\"])\n",
        "user_keywords_topics = pd.read_csv('../naive_method_v1.0/author_profiling_20_examples_.tsv', sep='\\t', header=None, names=[\"author_index\",\"keywords\",\"topics\"])\n",
        "user_interests = pd.read_csv('../task1/author_interests_gold.tsv', sep='\\t', header=None, names=[\"author_index\",\"interests\"])\n",
        "id2authorTopics = {}\n",
        "id2authorInterests = {}\n",
        "id2ICLexamples = {}\n",
        "for i in range(len(user_keywords_topics[\"author_index\"])):\n",
        "    id2authorTopics[user_keywords_topics[\"author_index\"][i]] = {\"keywords\":user_keywords_topics[\"keywords\"][i],\"topics\":user_keywords_topics[\"topics\"][i]}\n",
        "\n",
        "for i in range(len(user_interests[\"author_index\"])):\n",
        "    id2authorInterests[user_interests[\"author_index\"][i]] = {\"interests\":user_interests[\"interests\"][i]}\n",
        "\n",
        "for i in range(len(input_history[\"paper_index\"])):\n",
        "    paperId = input_history[\"paper_index\"][i]\n",
        "    authorId = input_history[\"author_index\"][i]\n",
        "    if paperId not in id2ICLexamples:\n",
        "        id2ICLexamples[paperId] = {}\n",
        "    if authorId not in id2ICLexamples[paperId]:\n",
        "        id2ICLexamples[paperId][authorId]=[]\n",
        "    id2ICLexamples[paperId][authorId].append({\"abstract\":input_history[\"abstract\"][i],\"title\":input_history[\"title\"][i],\"result\":input_history[\"result\"][i]})\n",
        "\n",
        "# id2ICLexamples"
      ],
      "outputs": [],
      "execution_count": 10,
      "metadata": {
        "jupyter": {
          "source_hidden": false,
          "outputs_hidden": false
        },
        "nteract": {
          "transient": {
            "deleting": false
          }
        },
        "gather": {
          "logged": 1696671471314
        }
      }
    },
    {
      "cell_type": "code",
      "source": [
        "# Task-2 Zero-shot\n",
        "error_list=[]\n",
        "i = 0\n",
        "openai.api_key = \"31b8638c9eea48709a596501490f9e88\"\n",
        "openai.api_base = \"https://gersteinbiocodeeval-eastus2.openai.azure.com/\"\n",
        "openai.api_type = 'azure'\n",
        "openai.api_version = '2023-05-15' # this may change in the future\n",
        "key_bundles = [\n",
        "    ('aaccba8e27374383beb397ecdc615ee5', \"https://biocodeeval-openai.openai.azure.com/\"),\n",
        "    ('31b8638c9eea48709a596501490f9e88', \"https://gersteinbiocodeeval-eastus2.openai.azure.com/\"),\n",
        "    ('aaccba8e27374383beb397ecdc615ee5', \"https://biocodeeval-openai.openai.azure.com/\")\n",
        "]\n",
        "\n",
        "    # prompt_construction v1.6\n",
        "def construct_prompt_zero_shot_1(reference_dict,paperId):\n",
        "    ref_example = []\n",
        "    for index,item in enumerate(reference_dict):\n",
        "        if index <50:\n",
        "            ref_example.append(\"Reference Paper #\"+str(index)+\"\\n\"+\"Title: \"+item[\"title\"])\n",
        "            \n",
        "    prompt_str = \"\"\n",
        "\n",
        "    prompt_str = prompt_str + \"You're a researcher working on a new paper.\\n\"\n",
        "    prompt_str = prompt_str + \"Now you have gathered some related science papers for reference, each of them contains a title.\\n\"\n",
        "    prompt_str = prompt_str + \"\\n\".join(ref_example) + \"\\n\"\n",
        "    prompt_str = prompt_str + \"Please fully consider the above reference papers and brainstorm one potential title for a new scientific work:\\n\"\n",
        "    prompt_str = prompt_str + \"Title: \"\n",
        "\n",
        "    return prompt_str\n",
        "\n",
        "def construct_prompt_few_shot(reference_dict,paperId,authorDicts):\n",
        "    prompt_str = \"\"\n",
        "    keywords = \"\"\n",
        "    interests = \"\"\n",
        "    authorId = \"\"\n",
        "    topics = \"\"\n",
        "    authorDict = []\n",
        "    ref_example = []\n",
        "    history_examples = []\n",
        "    for i in authorDicts:\n",
        "        authorId = i\n",
        "        authorDict = authorDicts[authorId]\n",
        "        break\n",
        "\n",
        "    for index,item in enumerate(reference_dict):\n",
        "        if index <50:\n",
        "            ref_example.append(\"Reference Paper #\"+str(index)+\"\\n\"+\"Title: \"+item[\"title\"])\n",
        "    if authorId in id2authorInterests:\n",
        "        if \"interests\" in id2authorInterests[authorId]:\n",
        "            interests =  id2authorInterests[authorId][\"interests\"]\n",
        "    if \"keywords\" in id2authorTopics[authorId]:\n",
        "        keywords = str(id2authorTopics[authorId][\"keywords\"])\n",
        "    if \"topics\" in id2authorTopics[authorId]:\n",
        "        topics = str(id2authorTopics[authorId][\"topics\"])\n",
        "    for index,item in enumerate(authorDict):\n",
        "        if index <5:\n",
        "            # history_examples.append(\"Example #\"+str(index)+\"\\nAbstract: \"+item[\"abstract\"]+\"\\nStyle: \"+item[\"result\"]+\"\\nTitle: \"+item[\"title\"])\n",
        "            history_examples.append(\"History Paper #\"+str(index)+\": \"+item[\"title\"])\n",
        "\n",
        "    \n",
        "    prompt_str = prompt_str + \"Assuming you are an expert researcher in these areas:\\n\"\n",
        "    prompt_str = prompt_str + \" \".join(interests)\n",
        "    prompt_str = prompt_str + \"Here're some titles and paper abstracts that you've written.\\n\"\n",
        "    prompt_str = prompt_str + \"\\n\".join(history_examples) + \"\\n\"\n",
        "\n",
        "\n",
        "    prompt_str = prompt_str + \"Now you're working on a new paper.\\n\"\n",
        "    prompt_str = prompt_str + \"You have gathered some related science papers for reference, each of them contains a title.\\n\"\n",
        "    prompt_str = prompt_str + \"\\n\".join(ref_example) + \"\\n\"\n",
        "\n",
        "    prompt_str = prompt_str + \"Please fully consider the above reference papers and your previous works and brainstorm one most promising title for a science work:\\n\"\n",
        "    prompt_str = prompt_str + \"Title: \"\n",
        "\n",
        "    return prompt_str\n",
        "\n",
        "\n",
        "def construct_prompt_few_shot_for_multi_agent_input(reference_dict,paperId,authorId,authorDict):\n",
        "    prompt_str = \"\"\n",
        "    keywords = \"\"\n",
        "    interests = \"\"\n",
        "    topics = \"\"\n",
        "    ref_example = []\n",
        "    history_examples = []\n",
        "\n",
        "    for index,item in enumerate(reference_dict):\n",
        "        if index <50:\n",
        "            ref_example.append(\"Reference Paper #\"+str(index)+\"\\n\"+\"Title: \"+item[\"title\"])\n",
        "    if authorId in id2authorInterests:\n",
        "        if \"interests\" in id2authorInterests[authorId]:\n",
        "            interests =  id2authorInterests[authorId][\"interests\"]\n",
        "    for index,item in enumerate(authorDict):\n",
        "        if index <5:\n",
        "            # history_examples.append(\"Example #\"+str(index)+\"\\nAbstract: \"+item[\"abstract\"]+\"\\nStyle: \"+item[\"result\"]+\"\\nTitle: \"+item[\"title\"])\n",
        "            history_examples.append(\"History Paper #\"+str(index)+\": \"+item[\"title\"])\n",
        "\n",
        "    \n",
        "    prompt_str = prompt_str + \"Assuming you are an expert researcher in these areas:\\n\"\n",
        "    prompt_str = prompt_str + \" \".join(interests)\n",
        "    prompt_str = prompt_str + \"Here're some titles and paper abstracts that you've written.\\n\"\n",
        "    prompt_str = prompt_str + \"\\n\".join(history_examples) + \"\\n\"\n",
        "\n",
        "\n",
        "    prompt_str = prompt_str + \"Now you're working on a new paper.\\n\"\n",
        "    prompt_str = prompt_str + \"You have gathered some related science papers for reference, each of them contains a title.\\n\"\n",
        "    prompt_str = prompt_str + \"\\n\".join(ref_example) + \"\\n\"\n",
        "\n",
        "    prompt_str = prompt_str + \"Please fully consider the above reference papers and your previous works and brainstorm one most promising title for a science work:\\n\"\n",
        "    prompt_str = prompt_str + \"Title: \"\n",
        "\n",
        "    return prompt_str\n",
        "\n",
        "def run_openai(prompt,key_bundles,i,indice):\n",
        "    my_dict = {}\n",
        "    my_dict[\"role\"] = \"user\"\n",
        "    my_dict[\"content\"] = prompt\n",
        "    l = []\n",
        "    l.append(my_dict)\n",
        "    result = \"\"\n",
        "    try:\n",
        "        key_bundle = key_bundles[i%3]\n",
        "        openai.api_key, openai.api_base = key_bundle\n",
        "        response = openai.ChatCompletion.create(engine=\"gpt-35-turbo\", messages=l, temperature=0.0,request_timeout=30)\n",
        "        result = response.choices[0].message[\"content\"].replace('\\n', ' ')\n",
        "        # print(indice+\"\\t\"+result+\"\\n\")\n",
        "        return result\n",
        "    except openai.error.Timeout:\n",
        "        i = i+1\n",
        "        print(\"Timeout\",indice)\n",
        "        key_bundle = key_bundles[i%3]\n",
        "        openai.api_key, openai.api_base = key_bundle\n",
        "        try:\n",
        "            response = openai.ChatCompletion.create(engine=\"gpt-35-turbo\", messages=l, temperature=0.0,request_timeout=30)\n",
        "            result = response.choices[0].message[\"content\"].replace('\\n', ' ')\n",
        "            # print(indice+\"\\t\"+result+\"\\n\")\n",
        "            return result\n",
        "        except openai.error.Timeout:\n",
        "            i = i+1\n",
        "            print(\"Timeout\",indice)\n",
        "            key_bundle = key_bundles[i%3]\n",
        "            openai.api_key, openai.api_base = key_bundle\n",
        "            try:\n",
        "                response = openai.ChatCompletion.create(engine=\"gpt-35-turbo\", messages=l, temperature=0.0,request_timeout=30)\n",
        "                result = response.choices[0].message[\"content\"].replace('\\n', ' ')\n",
        "                # print(indice+\"\\t\"+result+\"\\n\")\n",
        "                return result\n",
        "            except Exception as e:\n",
        "                print(f\"An error occurred: {str(e)}\")\n",
        "                error_list.append(i)\n",
        "        except Exception as e:\n",
        "            print(f\"An error occurred: {str(e)}\")\n",
        "            error_list.append(i)\n",
        "        #print(result)\n",
        "    except openai.error.InvalidRequestError:\n",
        "        print(\"InvalidRequestError\",indice)\n",
        "        error_list.append(i)\n",
        "        #print(result)\n",
        "    except Exception as e:\n",
        "        print(f\"An error occurred: {str(e)}\")\n",
        "        error_list.append(i)\n",
        "    return result\n",
        "\n",
        "id2result = {}\n",
        "with open(\"few_shot_1_title_single_author_for_multi_agents_input.tsv\", \"wb\", buffering=0) as out_file:\n",
        "    # for indice,paperId in enumerate(id2ICLexamples):\n",
        "    #     # prompt = construct_prompt_zero_shot_1(id2citations[paperId],paperId)\n",
        "    #     if paperId in id2citations:\n",
        "    #         prompt = construct_prompt_few_shot(id2citations[paperId],paperId,id2ICLexamples[paperId])\n",
        "    #         # print(prompt)\n",
        "    #         # break\n",
        "    #         result = run_openai(prompt,key_bundles,i,indice)\n",
        "    #         print(indice, result)\n",
        "    #         id2result[paperId] = result\n",
        "    #         write_str = bytes(str(paperId)+\"\\t\"+result+\"\\n\", 'utf-8')\n",
        "    #         out_file.write(write_str)\n",
        "    for indice,paperId in enumerate(id2ICLexamples):\n",
        "        # prompt = construct_prompt_zero_shot_1(id2citations[paperId],paperId)\n",
        "        if paperId in id2citations:\n",
        "            id2result[paperId] = []\n",
        "            for authorId in id2ICLexamples[paperId]:\n",
        "                prompt = construct_prompt_few_shot_for_multi_agent_input(id2citations[paperId],paperId,authorId,id2ICLexamples[paperId][authorId])\n",
        "                # print(prompt)\n",
        "                # break\n",
        "                result = run_openai(prompt,key_bundles,i,indice)\n",
        "                print(indice, result)\n",
        "                id2result[paperId].append({authorId:result})\n",
        "                write_str = bytes(str(paperId)+\"\\t\"+str(authorId)+\"\\t\"+result+\"\\n\", 'utf-8')\n",
        "                out_file.write(write_str)"
      ],
      "outputs": [],
      "execution_count": null,
      "metadata": {
        "jupyter": {
          "source_hidden": false,
          "outputs_hidden": false
        },
        "nteract": {
          "transient": {
            "deleting": false
          }
        },
        "gather": {
          "logged": 1696670406566
        }
      }
    },
    {
      "cell_type": "code",
      "source": [
        "author_roles = pd.read_csv('../naive_method_v1.0/paper_author_roles.tsv', sep='\\t', header=None, names=[\"paper_index\",\"author_index\",\"role\"])\n",
        "\n",
        "id2authorRole = {}\n",
        "for i in range(len(author_roles[\"paper_index\"])):\n",
        "    paperId = author_roles[\"paper_index\"][i]\n",
        "    authorId = author_roles[\"author_index\"][i]\n",
        "    if paperId not in id2authorRole:\n",
        "        id2authorRole[paperId] = {}\n",
        "    id2authorRole[paperId][authorId] = author_roles[\"role\"][i]\n",
        "id2authorRole\n",
        "error_list=[]\n",
        "i = 0\n",
        "openai.api_key = \"31b8638c9eea48709a596501490f9e88\"\n",
        "openai.api_base = \"https://gersteinbiocodeeval-eastus2.openai.azure.com/\"\n",
        "openai.api_type = 'azure'\n",
        "openai.api_version = '2023-05-15' # this may change in the future\n",
        "key_bundles = [\n",
        "    ('aaccba8e27374383beb397ecdc615ee5', \"https://biocodeeval-openai.openai.azure.com/\"),\n",
        "    ('31b8638c9eea48709a596501490f9e88', \"https://gersteinbiocodeeval-eastus2.openai.azure.com/\"),\n",
        "    ('aaccba8e27374383beb397ecdc615ee5', \"https://biocodeeval-openai.openai.azure.com/\")\n",
        "]\n",
        "\n",
        "    # prompt_construction v1.6\n",
        "def construct_prompt_cot_agg(reference_dict,paperId,authorTitleList):\n",
        "    prompt_str = \"\"\n",
        "    authors_list = []\n",
        "    \n",
        "    ref_example = []\n",
        "\n",
        "    for index,item in enumerate(reference_dict):\n",
        "        if index <50:\n",
        "            ref_example.append(\"Reference Paper #\"+str(index)+\"\\n\"+\"Title: \"+item[\"title\"])\n",
        "\n",
        "\n",
        "    for index,item in enumerate(authorTitleList):\n",
        "        authorId = next(iter(item))\n",
        "        # authors_list.append(\"Author #\"+str(index)+\"\\nTitle: \"+author_dict[item][\"title\"])\n",
        "        authors_list.append(\"Author #\"+str(index)+\"\\nTitle: \"+item[authorId]+\"\\nRole in research team: \"+id2authorRole[paperId][authorId])\n",
        "\n",
        "    question = papers_sampled[paperId][\"abstract\"]\n",
        "    prompt_str = \"\"\n",
        "    prompt_str = prompt_str + \"Assuming you’re the leading author of a research team and you’re working on a new paper:\\n\"\n",
        "    prompt_str = prompt_str + \"Now You have gathered some related science papers for reference, each of them contains a title.\\n\"\n",
        "    prompt_str = prompt_str + \"\\n\".join(ref_example) + \"\\n\"\n",
        "\n",
        "    prompt_str = prompt_str + \"Authors from your research team have proposed the following titles based on their expertises.\\n\"\n",
        "    prompt_str = prompt_str + \"\\n\".join(authors_list) + \"\\n\"\n",
        "\n",
        "    prompt_str = prompt_str + \"Please fully consider the above reference papers and the above proposed title comprehensively and brainstorm one most promising title for a science work, keeping it short and faithful:\\n\"\n",
        "    prompt_str = prompt_str + \"Title: \"\n",
        "    # prompt_str = prompt_str + \"Please consider the above proposed title comprehensively and write a title for the given abstract, keeping it short and faithful:\\n\"\n",
        "    # prompt_str = prompt_str + \"Title: \"\n",
        "\n",
        "    return prompt_str\n",
        "\n",
        "\n",
        "id2result_multi_agent = {}\n",
        "with open(\"multi_agent_result_method_3.tsv\", \"wb\", buffering=0) as out_file:\n",
        "# with open(\"naive_method_v1.0/zero_shot_results.tsv\", \"wb\", buffering=0) as out_file:\n",
        "    for indice,paperId in enumerate(id2result):\n",
        "        if paperId in id2citations:\n",
        "            prompt = construct_prompt_cot_agg(id2citations[paperId],paperId,id2result[paperId])\n",
        "            # print(prompt)\n",
        "            # break\n",
        "            result = run_openai(prompt,key_bundles,i,indice)\n",
        "            print(indice, result)\n",
        "            id2result_multi_agent[paperId] = result\n",
        "            write_str = bytes(str(paperId)+\"\\t\"+result+\"\\n\", 'utf-8')\n",
        "            out_file.write(write_str)\n"
      ],
      "outputs": [
        {
          "output_type": "stream",
          "name": "stdout",
          "text": "0 Model Transformation Evolution: Best Practices and Framework for Industry Adoption.\n1 Systematic Review of Software Engineering Research: Insights and Guidelines for Evidence-Based Decision Making and Experimental Design.\n2 Smart Contract Testing and Analysis: Challenges, Techniques, and Security Considerations\n3 Integrating Crowdsourcing and Agile Methods in Software Engineering: A Multi-Method Study on Process Theories and Taxonomies.\n4 Sentiment Analysis in Software Engineering: Challenges, Opportunities, and Future Directions\n5 \"Integrating Best Practices for Machine Learning and Software Engineering: A Comprehensive Study\"\n6 App Store Analysis for Software Engineering: A Comprehensive Study of Reviews, Ratings, and Updates.\n7 \"Grounded Theory in Software Engineering: Exploring Empirical Research Methods and Theoretical Frameworks\"\n8 Emotional States in Software Engineering: A Comprehensive Survey of Sentiment Analysis Techniques and Applications.\n9 Improving Bug Localization in Software Engineering through Semantic Word Embeddings and Domain Knowledge-Based Learning to Rank Techniques.\n10 Advancing Model-Driven Engineering for Web and Mobile Applications: Best Practices, Challenges, and Future Directions.\n11 Towards Secure and Scalable Middleware for Heterogeneous IoT Systems: A Model-Based Approach.\n12 Cognitive Biases in Software Development: A Comprehensive Review and Analysis.\n13 Exploring the Impact of Confirmation Bias on Software Engineering Research and Practices: An Empirical Study.\n14 Crowdsourcing in Software Engineering: Challenges, Best Practices, and Lessons Learned\n15 Exploring the Intersection of Team Roles, User Participation, and Ethnography in Sustainable Software Development.\n16 Integrating User Preferences and Search-Based Techniques for Effective Software Testing: A Systematic Review and Empirical Study\n17 Test-Driven Development: A Comprehensive Analysis of Adoption, Effectiveness, and Limitations in Software Engineering.\n18 Sentiment Analysis in Software Development: A Comprehensive Review and Future Directions\n19 \"Improving Software Development Processes through Empirical Evaluation and Integration of Product Management and Requirements Engineering Principles\"\n20 Empirical Evaluation of Confounding Parameters in Software Engineering Experiments: A Practical Guide for Rigorous and Relevant Research.\n21 Social Media and Software Development: Collaboration, Innovation, and Knowledge Work.\n22 \"Optimizing Software Product Lines with Genetic Programming and Search-Based Techniques: A Comprehensive Review and Future Directions\"\n23 The Impact of Affective States on Software Development: A Comprehensive Review and Empirical Study.\n24 Eye-tracking in Software Engineering: A Systematic Review and Empirical Study on Comprehension and Traceability.\n25 Integrating Field Devices and Distributed Control Systems for Efficient Industrial Automation: A Comprehensive Review and Future Directions.\n26 Revisiting Project Success in Software Engineering: A Multidimensional Framework for Sustainable Development.\n27 Behavioral Factors and Organizational Culture in Agile Software Development: A Comprehensive Review and Practical Guidelines.\n28 Multi-Objective Search-Based Software Product Line Engineering: A Comprehensive Review and Analysis\n29 Software Analytics for Healthcare: Bridging the Gap between Accessibility and Neurodiversity.\n30 Improving Query Performance and Specificity in Software Engineering: A Comprehensive Survey and Comparative Study of Techniques and Tools.\n31 \"Integrating Evidence-Based Action Research for Effective Software Development Risk Management: A Case Study in the Automotive Industry\"\n32 Enhancing Fault Prediction in Software Engineering through Temporal Analysis of API Usage and Bug Localization Techniques.\n33 Social Structures and Knowledge Sharing in Global Software Development: An Empirical Analysis\n34 Advancements in Search-Based Testing: A Comprehensive Review and Empirical Investigation.\n35 Managing Technical and Social Debt in Distributed Software Engineering Teams: A Socio-Technical Perspective\n36 Gamifying Programming Education: A Comprehensive Review of Automated Feedback and Test Generation Tools.\n37 Contextualizing Software Engineering: A Comprehensive Framework for Evaluating Methods and Technologies with Respect to Developers' Skill Level and Situational Factors.\n38 Agile Practices in Global and Distributed Software Engineering: A Comprehensive Systematic Review and Framework for Success.\n39 \"Unified Strategies for Cyber Security and Governance in Software Engineering\"\n40 Assurance and Control in Self-Adaptive Systems: A Model-Based Approach with Runtime Verification and Synthesis\n41 Advancements in Software Architecture Recovery: A Comparative Analysis of Clustering Algorithms.\n42 Thematic Synthesis of Qualitative Research in Software Engineering: A Systematic Review and Analysis.\n43 Agile Requirements Engineering: Best Practices and Challenges in Global Software Development - A Systematic Review and Empirical Study.\n44 Improving Defect Prediction Models in Global Software Development: A Comprehensive Study\n45 \"Adaptive Framework Evolution: Challenges and Potentials of Recommendation Systems and Software Analytics\"\n46 Integrating Cognitive Work Analysis and Design Elements for Efficient Software Maintenance and Comprehension.\n47 Agile Practices in Global Software Engineering: A Comprehensive Review and Framework for Success\n48 \"Integrating Search-Based Test Case Generation in Agile Software Development: A Systematic Review and Empirical Investigation\"\n49 Collaborative Global Software Engineering: Overcoming Distance and Improving Awareness with Visualization and Groupware Tools\n50 Systematic Review Strategies for Evidence-Based Software Engineering: Lessons Learned and Future Directions.\n51 Systematic Review of Software Engineering Best Practices for Security and Process Improvement in IoT Development.\n52 Mining Software Repositories for Improved Defect Prediction and Smart Contract Security: A Comprehensive Survey and Analysis\n53 \"Object-Oriented Analysis and Design: Integrating Agile Methods and Rationale-Based Analysis for Effective Software Engineering Education and Practice\"\n54 Evidence-Based Software Engineering: Best Practices and Guidelines for Education and Industry.\n55 \"Enhancing Coordination and Awareness in Software Development through Socio-Technical Analysis and Mining of Software Repositories\"\n56 Search-Based Techniques for Software Testing and Design Optimization: A Comprehensive Review and Future Directions\n57 Mining Discriminative Patterns for Efficient Software Maintenance and Bug Detection.\n58 Systematic Reviews in Software Engineering: A Comprehensive Analysis of Methodologies and Best Practices for Evidence-Based Research.\n59 Ontology-Driven High-Assurance Service-Oriented Architecture Design and Maintenance for Semantic Web Technologies in Software Engineering.\n60 \"Guidelines and Methods for Empirical Case Study Research in Software Engineering: An Evidence-Based Approach\"\n61 Model-Driven Fault Tree Analysis for Real-Time Embedded Systems with Hybrid Modeling and Functional Safety Assurance: A Comprehensive Approach\n62 \"Ontology-Based Context Modeling and Reasoning for Personalized Pervasive Computing Environments\"\n63 Effective Teaching Practices for Computer Science and Engineering Education: Exploring the Impact of Inverted Classroom, Pair Programming, and Podcasting.\n64 Agile Software Development: A Systematic Review of Best Practices and Scaling Methods.\n65 Best Practices for Systematic Reviews in Empirical Software Engineering\n66 Problem-Oriented Model-Driven Safety Engineering for Reliable and Safe Critical Systems\n67 The Role of Personality Traits in Software Engineering: A Comprehensive Review and Future Directions.\n68 \"Advancing Software Development through Integrated Conceptual Modelling and Metamodel-based Approaches\"\n69 Data Science and Software Engineering: Challenges and Opportunities in the Big Data Era.\n70 \"Integrating Experience Management and Knowledge Technology for Agile Software Development: Lessons from High Energy Physics Research\"\n71 Ontology-based Privacy Support for Service-Oriented Environments: A Comparative Study of Nuclear Weapons Programs in Russia and China.\n72 Improving Software Engineering Experimentation: A Comprehensive Review and Integration of Theory, Practice, and Collaboration.\n73 Model-Based Development and Testing of Safety-Critical Automotive Software: Challenges and Solutions\n74 Empirical Analysis of Team Roles and Cognitive Processes in Software Engineering Experimentation.\n75 Problem-Oriented Safety Engineering: A Comprehensive Framework for Deriving Specifications and Ensuring Safety in Software Development.\n76 Integrating Simulation and Collaborative Design Tools for Effective Software Engineering Education: A Multi-Site Evaluation of Pedagogical Approaches and Student Learning Outcomes.\n77 Integrating Service-Learning Projects and Simulation Games for Enhanced Communication and Collaboration in Software Engineering Education.\n78 Predictive Modeling of Software Defects Using Classification and Regression Trees: A Mining Approach\n79 Advancing Software Architecture: Challenges, Trends, and Integration with Knowledge Capture and Retrieval.\n80 Enhancing Software Quality Monitoring through Case Study Research and Change Classification: A Metrics-Driven Approach.\n81 Integrating Agile Usability Engineering and Human-Centered Design: Best Practices and Challenges for Collaborative Software Development.\n82 Model-Driven Middleware for Context-Aware and Interoperable Pervasive Computing Environments\n83 \"Towards Secure and Dependable Self-Adaptive Systems: Challenges and Opportunities for Future Research\"\n84 \"Revolutionizing Software Engineering with AI, VR, and Robotics: Challenges, Opportunities, and Case Studies\"\n85 Integrating Security Engineering for Ambient Intelligence: A Model-Driven Future Vision.\n86 Empirical Experimentation in Software Engineering: A Comprehensive Review and Roadmap for Future Research.\n87 Empirical Investigation and Guidelines for Software Cost Overruns: A Review of Existing Studies and Expert Estimation Methods.\n88 Sustainability in Software Engineering: A Systems Thinking Approach for Long-Living Systems\n89 Context-Aware Pervasive Computing for Personalized Health Management: A User-Centric Framework and Toolkit.\n90 \"Integrating Multi-Agent Systems with Self-Adaptive Techniques for Intelligent Decision Making in Pervasive Healthcare Environments\"\n91 Improving End-User Spreadsheet Programming through Automated Test Generation and Semantic Anomaly Detection\n92 Game Design Patterns: A Comprehensive Guide for Software Engineering and Networked Multiplayer Games\n93 Focus Group Experimentation for Effective Software Engineering Requirements Prioritization and Collaboration.\n94 Agile and Value-Based Software Development: A Comprehensive Guide for Effective Business Case Making and Cost Estimation.\n95 Towards a Collaborative Benchmarking Framework for C++ Extractors in Software Engineering: Lessons Learned and Future Directions.\n96 Exploring the Relationship between Computer Science and Software Engineering Programs: Balancing Abstraction and Formal Methods in Education.\n"
        }
      ],
      "execution_count": 68,
      "metadata": {
        "jupyter": {
          "source_hidden": false,
          "outputs_hidden": false
        },
        "nteract": {
          "transient": {
            "deleting": false
          }
        },
        "gather": {
          "logged": 1695478032002
        }
      }
    },
    {
      "cell_type": "code",
      "source": [
        "results = pd.read_csv('multi_agent_result_method_3.tsv', sep='\\t', header=None, names=[\"paper_index\",\"result\"])\n",
        "id2result_multi_agent = {}\n",
        "for i in range(len(results[\"result\"])):\n",
        "    id2result_multi_agent[results[\"paper_index\"][i]] = results[\"result\"][i]\n",
        "\n",
        "from rouge import Rouge\n",
        "import evaluate\n",
        "def postprocess_text_generation(preds, labels):\n",
        "    preds = [pred.replace(\"\\\"\",\"\").strip() for pred in preds]\n",
        "    labels = [[label.strip()] for label in labels]\n",
        "    return preds, labels\n",
        "\n",
        "def create_metric_rouge():\n",
        "    rouge_metric = evaluate.load('rouge')\n",
        "    def compute_metrics(decoded_preds, decoded_labels):\n",
        "        decoded_preds, decoded_labels = postprocess_text_generation(decoded_preds, decoded_labels)\n",
        "        result_rouge = rouge_metric.compute(predictions=decoded_preds, references=decoded_labels)\n",
        "        result = {\"rouge-1\" : result_rouge[\"rouge1\"], \"rouge-L\" : result_rouge[\"rougeL\"]}\n",
        "        return result\n",
        "    return compute_metrics\n",
        "pred = []\n",
        "gold = []\n",
        "for i in id2citations:\n",
        "    if i in papers_sampled and i in id2result_multi_agent:\n",
        "        pred.append(id2result_multi_agent[i])\n",
        "        gold.append(papers_sampled[i][\"title\"])\n",
        "# print(pred)\n",
        "metric = create_metric_rouge()\n",
        "print(metric(pred, gold))\n",
        "# results"
      ],
      "outputs": [
        {
          "output_type": "stream",
          "name": "stderr",
          "text": "2023-10-07 09:39:22.928451: I tensorflow/core/platform/cpu_feature_guard.cc:193] This TensorFlow binary is optimized with oneAPI Deep Neural Network Library (oneDNN) to use the following CPU instructions in performance-critical operations:  AVX2 FMA\nTo enable them in other operations, rebuild TensorFlow with the appropriate compiler flags.\n2023-10-07 09:39:43.802358: W tensorflow/compiler/xla/stream_executor/platform/default/dso_loader.cc:64] Could not load dynamic library 'libnvinfer.so.7'; dlerror: libnvinfer.so.7: cannot open shared object file: No such file or directory\n2023-10-07 09:39:43.802509: W tensorflow/compiler/xla/stream_executor/platform/default/dso_loader.cc:64] Could not load dynamic library 'libnvinfer_plugin.so.7'; dlerror: libnvinfer_plugin.so.7: cannot open shared object file: No such file or directory\n2023-10-07 09:39:43.802523: W tensorflow/compiler/tf2tensorrt/utils/py_utils.cc:38] TF-TRT Warning: Cannot dlopen some TensorRT libraries. If you would like to use Nvidia GPU with TensorRT, please make sure the missing libraries mentioned above are installed properly.\n"
        },
        {
          "output_type": "display_data",
          "data": {
            "text/plain": "Downloading builder script:   0%|          | 0.00/6.27k [00:00<?, ?B/s]",
            "application/vnd.jupyter.widget-view+json": {
              "version_major": 2,
              "version_minor": 0,
              "model_id": "43fe55b1317549238068ca643ae49dca"
            }
          },
          "metadata": {}
        },
        {
          "output_type": "stream",
          "name": "stdout",
          "text": "{'rouge-1': 0.3329395614080458, 'rouge-L': 0.27680985187196927}\n"
        }
      ],
      "execution_count": 13,
      "metadata": {
        "jupyter": {
          "source_hidden": false,
          "outputs_hidden": false
        },
        "nteract": {
          "transient": {
            "deleting": false
          }
        },
        "gather": {
          "logged": 1696671602428
        }
      }
    },
    {
      "cell_type": "code",
      "source": [
        "error_list=[]\n",
        "i = 0\n",
        "openai.api_key = \"0de53d4ada864cd18e3771d16551aee1\"\n",
        "openai.api_base = \"https://biocodeeval-openai.openai.azure.com/\"\n",
        "openai.api_type = 'azure'\n",
        "openai.api_version = '2023-05-15' # this may change in the future\n",
        "key_bundles = [\n",
        "    ('0de53d4ada864cd18e3771d16551aee1', \"https://biocodeeval-openai.openai.azure.com/\"),\n",
        "    ('0de53d4ada864cd18e3771d16551aee1', \"https://biocodeeval-openai.openai.azure.com/\"),\n",
        "    ('0de53d4ada864cd18e3771d16551aee1', \"https://biocodeeval-openai.openai.azure.com/\")\n",
        "]\n",
        "\n",
        "\n",
        "def run_openai(prompt,key_bundles,i,indice):\n",
        "    my_dict = {}\n",
        "    my_dict[\"role\"] = \"user\"\n",
        "    my_dict[\"content\"] = prompt\n",
        "    l = []\n",
        "    l.append(my_dict)\n",
        "    result = \"\"\n",
        "    try:\n",
        "        key_bundle = key_bundles[i%3]\n",
        "        openai.api_key, openai.api_base = key_bundle\n",
        "        response = openai.ChatCompletion.create(engine=\"gpt-35-turbo\", messages=l, temperature=0.0,request_timeout=30)\n",
        "        result = response.choices[0].message[\"content\"].replace('\\n', ' ')\n",
        "        # print(indice+\"\\t\"+result+\"\\n\")\n",
        "        return result\n",
        "    except openai.error.Timeout:\n",
        "        i = i+1\n",
        "        print(\"Timeout\",indice)\n",
        "        key_bundle = key_bundles[i%3]\n",
        "        openai.api_key, openai.api_base = key_bundle\n",
        "        try:\n",
        "            response = openai.ChatCompletion.create(engine=\"gpt-35-turbo\", messages=l, temperature=0.0,request_timeout=30)\n",
        "            result = response.choices[0].message[\"content\"].replace('\\n', ' ')\n",
        "            # print(indice+\"\\t\"+result+\"\\n\")\n",
        "            return result\n",
        "        except openai.error.Timeout:\n",
        "            i = i+1\n",
        "            print(\"Timeout\",indice)\n",
        "            key_bundle = key_bundles[i%3]\n",
        "            openai.api_key, openai.api_base = key_bundle\n",
        "            try:\n",
        "                response = openai.ChatCompletion.create(engine=\"gpt-35-turbo\", messages=l, temperature=0.0,request_timeout=30)\n",
        "                result = response.choices[0].message[\"content\"].replace('\\n', ' ')\n",
        "                # print(indice+\"\\t\"+result+\"\\n\")\n",
        "                return result\n",
        "            except Exception as e:\n",
        "                print(f\"An error occurred: {str(e)}\")\n",
        "                error_list.append(i)\n",
        "        except Exception as e:\n",
        "            print(f\"An error occurred: {str(e)}\")\n",
        "            error_list.append(i)\n",
        "        #print(result)\n",
        "    except openai.error.InvalidRequestError:\n",
        "        print(\"InvalidRequestError\",indice)\n",
        "        error_list.append(i)\n",
        "        #print(result)\n",
        "    except Exception as e:\n",
        "        print(f\"An error occurred: {str(e)}\")\n",
        "        error_list.append(i)\n",
        "    return result\n",
        "\n",
        "# G-EVAL \n",
        "def construct_prompt_g_eval(source,output,refs,dimension):\n",
        "\n",
        "    Name = \"\"\n",
        "    refs_texts = []\n",
        "    Description = \"\"\n",
        "    Instruction = \"Evaluation Steps:\\n\"\n",
        "    dimensions_single_inputs = [\"novelty\",\"informativeness\"]\n",
        "    ICL = \"Example #1: \\nReference:\\nRef #1: Focus Groups: Supporting Effective Product Development\\nRef #2: Basics of Software Engineering Experimentation\\nRef #3: Focus Groups: Supporting Effective Product Development\\nRef #4: The Focus Group Interview: A Method for Assessing Users' Evaluation of Library Service\\nRef #5: The role of experimentation in software engineering: past, current, and future\\nPredicted title: Using the focus group method in software engineering: obtaining practitioner and user experiences\\nNovelty score: 3\\n\\n\\nExample #2: \\nReference:\\nRef #1: Research in software engineering: an analysis of the literature\\nRef #2: An approach to optimizing software development team size\\nRef #3: A systematic review of Web engineering research\\nRef #4: Automatic generation of basic behavior schemas from UML class diagrams\\nRef #5: Model Transformation: The Heart and Soul of Model-Driven Software Development\\nPredicted title: Systematic Mapping Studies in Software Engineering\\nNovelty score: 2\\n\\nExample #3: \\nReference:\\nRef #1: Qualitative research methods in Software Engineering\\nRef #2: Theory-oriented software engineering\\nRef #3: Using a grounded theory approach for exploring software product management challenges\\nRef #4: Grounded Theory for Qualitative Research: A Practical Guide\\nRef #5: Grounded theory for geeks\\nPredicted title: Grounded Theory in Software Engineering Research\\nNovelty score: 1\\n\"\n",
        "    count = 0\n",
        "    for ref in refs:\n",
        "        if count<5:\n",
        "            ref_text = \"\"\n",
        "            ref_text = ref_text + \"Ref #\"+str(count) +\": \" + ref[\"title\"]\n",
        "            refs_texts.append(ref_text)\n",
        "            count = count + 1\n",
        "\n",
        "    if dimension == \"coherence\":\n",
        "        Name = \"Coherence\"\n",
        "        Description = \"Coherence (1-5) - the collective quality of all sentences. We align this dimension with the DUC quality question of structure and coherence whereby \\\"the title should be well-structured and well-organized. The title should not just be a heap of related information, but should build from sentence to a coherent body of information about a topic.\\\"\\n\"\n",
        "        Instruction = Instruction + \"1. Read the science paper abstract carefully and identify the main topic and key points.\" + \"\\n\"\n",
        "        Instruction = Instruction + \"2. Read the title and compare it to the science paper abstract. Check if the title covers the main topic and key points of the paper abstract, and if it presents them in a clear and logical order.\" + \"\\n\"\n",
        "        Instruction = Instruction + \"3. Assign a score for coherence on a scale of 1 to 5, where 1 is the lowest and 5 is the highest based on the Evaluation Criteria.\" + \"\\n\"\n",
        "    elif dimension == \"consistency\":\n",
        "        Name = \"Consistency\"\n",
        "        Description = \"Consistency (1-5) - the factual alignment between the title and the science paper abstract. A factually consistent title contains only statements that are entailed by the source document. Annotators were also asked to penalize titles that contained hallucinated facts. \\n\"\n",
        "        Instruction = Instruction + \"1. Read the science paper abstract carefully and identify the main facts and details it presents.\" + \"\\n\"\n",
        "        Instruction = Instruction + \"2. Read the title and compare it to the source abstract. Check if the title contains any factual errors that are not supported by the abstract.\" + \"\\n\"\n",
        "        Instruction = Instruction + \"3. Assign a score for consistency on a scale of 1 to 5, where 1 is the lowest and 5 is the highest based on the Evaluation Criteria.\" + \"\\n\"\n",
        "    elif dimension == \"fluency\":\n",
        "        Name = \"Fluency (1-3)\"\n",
        "        Description = \"Fluency (1-3): the quality of the title in terms of grammar, spelling, punctuation, word choice, and sentence structure.\\n\"\n",
        "        Description = Description + \"- 1: Poor. The title has many errors that make it hard to understand or sound unnatural.\\n\"\n",
        "        Description = Description + \"- 2: Fair. The title has some errors that affect the clarity or smoothness of the text, but the main points are still comprehensible.\\n\"\n",
        "        Description = Description + \"- 3: Good. The title has few or no errors and is easy to read and follow.\\n\"\n",
        "        Instruction = \"\"\n",
        "    elif dimension == \"relevance\":\n",
        "        Name = \"Relevance\"\n",
        "        Description = \"Relevance (1-5) - selection of important content from the source. The title should include only important information from the source document. Annotators were instructed to penalize titles which contained redundancies and excess information.\\n\"\n",
        "        Instruction = Instruction + \"1. Read the title and the source document carefully.\" + \"\\n\"\n",
        "        Instruction = Instruction + \"2. Compare the title to the source document and identify the main points of the science paper.\" + \"\\n\"\n",
        "        Instruction = Instruction + \"3. Assess how well the title covers the main points of the article, and how much irrelevant or redundant information it contains.\" + \"\\n\"\n",
        "        Instruction = Instruction + \"4. Assign a relevance score from 1 to 5.\" + \"\\n\"\n",
        "    \n",
        "    elif dimension == \"informativeness\":\n",
        "        Name = \"Informativeness\"\n",
        "        Description = \"Informativeness(1-5) - the amount of information, including concepts, key points and findings, from the title. Annotators were instructed to penalize titles which contained under-explored concepts or redundancies and excess information.\\n\"\n",
        "        Instruction = Instruction + \"1. Read the title and the source title carefully.\" + \"\\n\"\n",
        "        Instruction = Instruction + \"2. Check if the title effectively communicate the main topic, key points, and significant findings or conclusions. Assess if the information provided is comprehensive, accurate, and complete.\" + \"\\n\"\n",
        "        Instruction = Instruction + \"3. A good informative title (scored 4 or 5) should convey enough amount of conpcets and key points in a progressive manner, while the relatively poorer ones have vague descriptions and under-explored ideas(scored 1 or 2).\" + \"\\n\"\n",
        "        Instruction = Instruction + \"4. Assign a score for informativeness on a scale of 1 to 5, to make the reuslts more clearly distributed, please avoid giving score 4\" + \"\\n\"\n",
        "        \n",
        "    elif dimension == \"novelty\":\n",
        "        Name = \"Novelty (1-3)\"\n",
        "        Description = \"Novelty (1-3): compare the given title and previous reference studies, to measure the uniqueness and originality of the title in terms of concept, perspective, and creativity.  \\n\"\n",
        "        Description = Description + \"- 1: Poor. The title lacks originality and uniqueness, and it closely resembles existing or common titles. \\n\"\n",
        "        Description = Description + \"- 2: Fair. The title shows some degree of uniqueness and creativity, but it still has elements that are similar to references or predictable.\\n\"\n",
        "        Description = Description + \"- 3: Good. The title is highly original and unique, offering a fresh and creative perspective that stands out from common titles.\\n\"\n",
        "        Instruction = \"Assign a score for novelty on a scale of 1 to 3\"\n",
        "\n",
        "    prompt_str = \"\"\n",
        "    if ICL != \"\":\n",
        "        prompt_str = prompt_str + \"You will be given one title written for a science paper and several reference papers.\\nYour task is to rate the title on one metric.\\n\"\n",
        "    else:\n",
        "        prompt_str = prompt_str + \"You will be given one title written for a science paper.\\n\"\n",
        "        prompt_str = prompt_str + \"Your task is to rate the output on one metric.\\n\"\n",
        "    prompt_str = prompt_str + \"Please make sure you read and understand these instructions carefully. Please keep this document open while reviewing, and refer to it as needed.\\n\"\n",
        "    prompt_str = prompt_str + \"Evaluation Criteria:\\n\"\n",
        "    prompt_str = prompt_str + Description\n",
        "    prompt_str = prompt_str + Instruction\n",
        "    if dimension not in dimensions_single_inputs:\n",
        "        prompt_str = prompt_str + \"Main topic:\\n\"\n",
        "        prompt_str = prompt_str + source + \"\\n\"\n",
        "    if ICL != \"\":\n",
        "        prompt_str = prompt_str + \"Let's say there are some scientific paper novelty scores examples, each of which consists of a title, a group of references and a novelty score. \\n\"\n",
        "        prompt_str = prompt_str + ICL\n",
        "    if len(refs_texts)>0:\n",
        "        prompt_str = prompt_str + \"Please refer to the examples and assign a novelty score to the given title:\\n\"\n",
        "        prompt_str = prompt_str + \"\\n\".join(refs_texts) + \"\\n\"\n",
        "        \n",
        "    prompt_str = prompt_str + \"Predicted title:\\n\"\n",
        "    prompt_str = prompt_str + output + \"\\n\"\n",
        "    prompt_str = prompt_str + \"Evaluation Form (scores ONLY):\\n\"\n",
        "    prompt_str = prompt_str + \"- \"+Name+\":\"\n",
        "\n",
        "    return prompt_str\n",
        "\n",
        "dimensions = [\"novelty\"]\n",
        "geval_result = {}\n",
        "\n",
        "\n",
        "i = 0\n",
        "for j,id in enumerate(id2citations):\n",
        "    geval_result[id] = {}\n",
        "    if True:\n",
        "        if id in papers_sampled and id in id2result_multi_agent:\n",
        "            for dimension in dimensions:\n",
        "                prompt = construct_prompt_g_eval(papers_sampled[id][\"title\"],id2result_multi_agent[id],id2citations[id],dimension)\n",
        "                # print(prompt)\n",
        "                \n",
        "                # prompt = construct_prompt_g_eval(papers_sampled[id][\"title\"],papers_sampled[id][\"abstract\"],dimension)\n",
        "                # break\n",
        "                result = run_openai(prompt,key_bundles,i,i)\n",
        "                # print(result)\n",
        "                print(str(j),str(dimension),str(result))\n",
        "                geval_result[id][dimension] = result\n",
        "                i = i + 1\n",
        "        # break\n",
        "        \n",
        "geval_avg_scores = {\"informativeness\":0,\"novelty\":0}\n",
        "count = 0\n",
        "for paperId in geval_result:\n",
        "    if \"novelty\" in geval_result[paperId]:\n",
        "        count = count + 1\n",
        "        for dimension in dimensions:\n",
        "            if \"1. Fluency (1-3): \" in geval_result[paperId][dimension]:\n",
        "                geval_result[paperId][dimension].replace(\"geval_result[paperId][dimension]\",\"\")\n",
        "            score = int(geval_result[paperId][dimension][0])\n",
        "            geval_avg_scores[dimension] = geval_avg_scores[dimension] + score\n",
        "\n",
        "for d in geval_avg_scores:\n",
        "    print(d+ \"\\t\" + str(geval_avg_scores[d]/count))\n",
        "count"
      ],
      "outputs": [],
      "execution_count": null,
      "metadata": {
        "jupyter": {
          "source_hidden": false,
          "outputs_hidden": false
        },
        "nteract": {
          "transient": {
            "deleting": false
          }
        },
        "gather": {
          "logged": 1696681728715
        }
      }
    },
    {
      "cell_type": "code",
      "source": [
        "author_roles = pd.read_csv('../naive_method_v1.0/paper_author_roles.tsv', sep='\\t', header=None, names=[\"paper_index\",\"author_index\",\"role\"])\n",
        "\n",
        "id2authorRole = {}\n",
        "for i in range(len(author_roles[\"paper_index\"])):\n",
        "    paperId = author_roles[\"paper_index\"][i]\n",
        "    authorId = author_roles[\"author_index\"][i]\n",
        "    if paperId not in id2authorRole:\n",
        "        id2authorRole[paperId] = {}\n",
        "    id2authorRole[paperId][authorId] = author_roles[\"role\"][i]\n",
        "id2authorRole"
      ],
      "outputs": [
        {
          "output_type": "execute_result",
          "execution_count": 63,
          "data": {
            "text/plain": "{'130862d54894966552cb85d3ee6f739f885d4989': {40350773: 'Author',\n  1705375: 'Author and Leading Researcher',\n  1690158: 'Author and Leading Researcher'},\n 'e28bdc373de80d7ec0e64631a89e64fbdcdae230': {1737649: 'The role of this author in paper writing could be a literature search specialist or a researcher specializing in search strategies and methodologies.',\n  145278906: 'The role of this author in paper writing could be a co-author or contributor in the section discussing the importance of qualitative methods in software engineering research and providing guidelines for their use.',\n  6648358: 'The role of this author in paper writing could be focused on the strategy and processes of software product customization in large-scale industrial settings. They could contribute to the discussion and analysis of strategies and processes used in the development of customized software products in industrial settings, particularly in the context of telecom companies in Germany and Sweden. They could also provide insights and recommendations for improving product development strategies and development processes in these settings.',\n  2949836: 'The role of this author in paper writing could be a co-author or contributor. They have expertise in software architecture, evaluation methods, performance, maintainability, testability, and portability, which are relevant to the topics discussed in the paper. They could contribute to the literature review, analysis of existing systematic reviews, and the development of guidelines for conducting systematic maps in software engineering. Additionally, their representative work on software product line variability aligns with the objective of the paper, making them a valuable contributor to the research team.'},\n 'fb2bb5777f1b1bd745070c006265edf8feb5f29f': {2048851: 'The role of this author in paper writing could be a researcher or data analyst.',\n  144083401: \"The role of this author in paper writing could be focused on the design and implementation of the Smart Corpus, as well as the analysis of smart contracts' software metrics. They could also contribute to the discussion on the need for repositories in empirical software engineering studies and the challenges involved in retrieving specific information from Ethereum block explorer services.\",\n  3348154: 'The role of this author in paper writing could be focused on the analysis and study of software metrics related to smart contracts. They would be responsible for conducting the research, collecting data, and analyzing the metrics extracted from smart contracts on the Ethereum blockchain. They would also contribute to the discussion and interpretation of the results, comparing them to metrics from traditional software projects.',\n  2192634: 'The role of this author in paper writing could be focused on the topics of software quality, research trends, cognitive structure, science mapping, bibliographic databases, hot topics, trends and directions. They could contribute to the discussion and analysis of the existing literature, identify relevant concepts and trends, and provide insights into the current state of the art in the field of Ethereum smart contracts and software engineering. Additionally, they could contribute to the design and implementation of the Smart Corpus repository, ensuring that it meets the requirements for organizing and retrieving Ethereum smart contracts source code and metrics.',\n  2610983: 'The role of this author in paper writing could be a reviewer or contributor in the field of blockchain technologies and decentralized applications.',\n  2565362: 'The role of this author in paper writing could be focused on the topics of testing, partial finite state machines, quasi-reduction, quasi-equivalence, test generation techniques, complete test suite, non-deterministic FSM, reduced test suites, and minimal test suites. They could contribute to the discussion and analysis of these topics in relation to the case study of the bug discovered in the Smart Contract library and the Parity wallet application. They could also provide insights and recommendations on how recognized best practices in testing and software engineering could be applied to mitigate similar software misbehavior in the future.'},\n '51b502b9ce774a615474ed8629e74d0dfaa33ee3': {2931632: 'Author role: Open Source Software and Community Evolution Researcher',\n  145623071: 'Author and Research Methodologist'},\n '6f58d8b98c652897842afdd023c535f9724b4eb2': {1750021: 'SE-specific Sentiment Analysis Tool Evaluation and Reflection',\n  24071491: 'The role of the author in paper writing could be a researcher or a data analyst.',\n  1743022: 'Author'},\n 'cc3d1830b5220b68d8e785130e4b0d5ab7563d67': {1703493: 'AI Ethics and Responsible Design Patterns Expert',\n  143612725: 'Author',\n  2178714: 'Author',\n  3176851: 'The role of the author in paper writing could be a contributor or co-author.',\n  1692292: 'Software Development and Technical Video Expert'},\n 'a75965753906c24a6a5715a695757a0de8447f26': {2068105297: 'Author and Researcher',\n  2103653: 'The role of this author in paper writing could be a researcher or a software engineer specializing in app store analysis and its effects on software engineering practices.',\n  145401173: 'The role of this author in paper writing could be a researcher or a data analyst.',\n  2145793494: 'The role of this author in paper writing could be the lead researcher or the principal investigator.',\n  145836176: 'The role of this author in paper writing could be \"Lead Researcher\" or \"Principal Investigator\".'},\n '8fe2f59ff3733f9ee50ffa295beda502f4e268e2': {2931632: 'The role of this author in paper writing could be to contribute to the section on empirical research methods in software engineering, specifically focusing on the strengths and weaknesses of different research methods in relation to various research elements. They could also provide insights and analysis on the use of empirical studies in the software engineering research community and the emergence of evidence-based software engineering.',\n  144785030: 'The role of this author in paper writing could be a co-author or a contributing author. They have expertise in the area of software engineering research and have conducted a study on the use of social science theories in software engineering. Their representative work aligns with the topic of the paper and provides valuable insights that can contribute to the discussion on improving the quality of conducting and reporting grounded theory studies in software engineering.',\n  145623071: 'The role of this author in paper writing could be to provide expertise and insights on software engineering research strategies, specifically in the context of empirical studies. They can contribute to the discussion on the strengths and weaknesses of different research methods and help in analyzing the use of grounded theory in software engineering. Additionally, they can provide guidance on improving the quality of conducting and reporting GT studies in the software engineering field.'},\n '261043d80a2a66044e1ee0eaee46c7331687afa4': {2589314: 'The role of this author in paper writing could be focused on the development and evaluation of the sentiment analysis tool DEVA, as well as the creation and analysis of the ground-truth dataset. They may also contribute to the discussion and interpretation of the results, particularly in relation to the detection of emotional states in software engineering text.',\n  3258253: 'The role of this author in paper writing could be a co-author or a collaborator.'},\n '3041a9265afb2ebdb4915aa9572668bb7f32b0ef': {1836278643: 'The role of this author in paper writing could be a domain expert in bug localization and ranking techniques.',\n  2110826308: 'Author',\n  2115573502: 'Ontology Engineering Specialist',\n  3139133: 'Author 2',\n  2118483756: 'The role for this author in paper writing could be \"Bug Localization Expert\" or \"Bug Ranking Specialist\".'},\n 'f9a9f3f016fa3123c3059cca66314d26f2357155': {2112146631: 'Author and Researcher',\n  1705375: 'The assigned role for this author in paper writing could be a co-author or a contributing author.',\n  1690158: 'The role of this author in paper writing could be the lead author or the main contributor.'},\n 'c176cf31862a7c5b324556e8dc3fdbef2a108391': {1771452: 'The role for this author in paper writing could be a co-author or contributor.',\n  8752802: 'Author and Lead Researcher',\n  1752388: 'The role for this author in paper writing could be a co-author or a contributor.'},\n '819f36c0ddae12132d60ebc5cc0a19f7db8668b1': {2109443: 'The role of this author in paper writing could be the lead researcher or primary investigator.',\n  144160450: 'Author and Researcher',\n  145973228: \"The role of this author in paper writing could be focused on the topic of software testing and cognitive biases, specifically confirmation bias. They could contribute to the literature review, data analysis, and discussion sections of the paper, providing insights into the antecedents and effects of confirmation bias on software testers' behavior. Additionally, they could contribute to the discussion of potential mitigation techniques, such as dividing test suite design and execution among team members to incorporate different perspectives.\",\n  7881310: 'The role of this author in paper writing could be focused on the topics of value estimation, decision-making, and machine learning solutions in software project management and development.',\n  144785030: 'The role of this author in paper writing could be the lead author or the primary author.'},\n 'd1cc35e2a547ba79f1b07fdd81ee0da264c0d6b6': {1730296: 'The role of this author in paper writing could be a co-author or a contributing author.',\n  143609903: 'The role of this author in paper writing would be to contribute to the research and development of the theory of software developer job satisfaction and perceived productivity. They would be responsible for conducting surveys, analyzing data, and deriving constructs and relationships to support the theory. Additionally, they would contribute to the validation and extension of concepts through the survey instrument and analysis approach.',\n  145193818: 'The role of this author in paper writing could be a researcher or analyst in the field of Agile techniques and software development practices at Microsoft.'},\n '0e50bf23cb16ba66e738d88f0fffab75c338e02a': {1683595: 'Author',\n  1739859: 'The role of this author in paper writing could be the lead researcher or the primary investigator.'},\n '564614da76b5d9020c700b78e1fe154bd590c47d': {145574559: 'Author and Ethnography Expert',\n  2273436: 'The role for this author in paper writing could be the lead author or the primary author.',\n  4572461: \"The role for this author in paper writing could be to provide expertise and insights on the application of ethnographic methods in software engineering research. They can contribute to the discussion on how ethnography can be used to understand developers' work practices, inform the development of processes, methods, and tools, and evaluate the applicability of current practices. They can also provide practical advice on the selection and use of ethnographic methods by software engineers.\"},\n 'fac3a6f272428e9d6879227ef76c1fa9397b317f': {1803468: 'Statistical Analysis Expert',\n  1722904: 'The role of this author in paper writing could be a co-author or a contributor.'},\n 'a5a6eb69869d2a25a5915ebec8e0991ba78c4769': {144160450: 'Author and Researcher',\n  4458730: 'The assigned role for this author in paper writing could be a \"Software Engineering Researcher\" or \"Unit Testing Specialist\".',\n  1682367: 'The assigned role for this author in paper writing could be a software developer or a usability expert.'},\n '64fd3ee86c29633d439d02bbdc044b132e56ec7c': {2630193: 'Author',\n  34074917: 'The role of this author in paper writing could be a co-author or a contributor.',\n  1747171: 'The role for this author in paper writing could be \"Lead Researcher\" or \"Principal Investigator\".'},\n '5a4674e987c2d7c130c5303cbad3f4e4531f3259': {1785952: 'The role for this author in paper writing could be a co-author or contributor, specifically focusing on the development of the model-based framework for conducting case studies in software engineering.',\n  1686793: 'Reviewer and Contributor',\n  3102561: 'The role for this author in paper writing could be a researcher or expert in the field of using blogs as a source of evidence in software engineering research.',\n  1707872: 'Author'},\n '2f9a1286e7af4ab7706ad8cfcc8c8742a1964939': {2834481: 'The role of this author in paper writing could be a reviewer or a researcher in empirical software engineering.',\n  1708928: 'The role of this author in paper writing could be a reviewer or a researcher in the field of empirical software engineering.',\n  1721771: 'Reviewer or Co-author'},\n 'a652692b51c786bfa3ceb43f3ae9f6acb796921f': {1734938: 'Author: The author assigned to this role would be responsible for contributing to the sections of the paper related to computational notebooks, Jupyter, Colab, data analysis, debugging, programming, domain knowledge, statistical analysis, error identification, Python Jupyter notebooks, and data scientists. They would provide expertise and insights in these areas, contribute to the literature review, methodology, and analysis sections, and help synthesize the findings and propose future research directions related to these topics.',\n  18264995: 'Author and Researcher',\n  144850961: 'The role of this author in paper writing could be focused on conducting empirical investigations and analyzing data related to the mutual assessment in the social programmer ecosystem. They could also contribute to the discussion of how this assessment process is changing collaboration and skill advancement in software engineering.',\n  5011359: 'The role of this author in paper writing could be focused on conducting empirical studies, analyzing searching behavior, and providing insights into the information-seeking needs of novice users in software development. They could also contribute to the discussion on the availability and usage of technical information in web forums and social media platforms.',\n  1945021: 'The role of this author in paper writing could be a researcher or a data analyst.'},\n '9992f1d6978c1e9442bf519aa213f5ca4e2159f8': {145836176: 'The role of this author in paper writing could be \"Genetic Improvement of Software: A Comprehensive Survey\".',\n  145401173: 'The role of the author in paper writing could be \"Contributor and Co-author\".',\n  1824150: 'Reviewer',\n  3169349: 'Author',\n  1923360: 'The role of this author in paper writing could be \"Genetic Improvement Expert\" or \"Genetic Improvement Researcher\".',\n  2145793494: 'The role of this author in paper writing could be the lead author or the primary researcher.'},\n 'a639919277b2d0683d21b637bec2192fd475fa80': {1963315: 'The role of this author in paper writing could be the lead researcher or principal investigator.',\n  1524725680: 'The role of this author in paper writing could be a co-author or a contributing author.',\n  32130218: 'The role of this author in paper writing could be the lead researcher or the primary investigator.'},\n '7eb0399ae7e79449178d7fdaa86059fa0c856edd': {1808200: 'Author',\n  1766496: 'Author',\n  144538324: 'Author and Researcher'},\n '72c32a1672fad31ef32fadc4e119a5c5569e4cd0': {2369671: 'The role for this author in paper writing could be \"Contributor to the empirical study and eye-tracking experiment\".',\n  145937248: 'Author',\n  3263403: 'The role for this author in paper writing could be \"Eye Tracking in Software Traceability Specialist\" or \"Eye Tracking Metrics Researcher\".',\n  1718050: 'Author and researcher in software engineering, with expertise in multi-language systems and design anti-patterns.'},\n '717a8985cc3fcbd285efe50dbcb8fe5bb12921b1': {1388355040: 'Author',\n  2321228: 'Author and Lead Researcher',\n  145649766: 'Author and Lead Researcher',\n  2066035817: 'Lead Author',\n  1713709: 'Author and Researcher',\n  145896287: 'Author',\n  1785966: 'Author and Lead Researcher'},\n '09402e20ca49842e1d1d967d3c5a530e8167b9b1': {144785030: 'The role of this author in paper writing could be a researcher or a co-author.',\n  2106690357: 'Research and Evaluation Specialist'},\n '22cf911f7111f46fd3eeb75d95c01ae10187ad8d': {3007951: 'The role of the author in paper writing could be the lead researcher or the principal investigator.',\n  145278906: 'The role of this author in paper writing could be a co-author or a contributing author.',\n  3097992: 'The role of the author in paper writing could be an IT professional or an IS professional.'},\n 'fe1801c4647adc317ff09082dab8c655e64f3b36': {145836176: 'Author of the paper',\n  144180122: 'The role for this author in paper writing could be \"Lead Researcher and Reviewer\".',\n  2145793494: 'The role for this author in paper writing could be \"Lead Researcher and Reviewer\".'},\n 'e708fe09fcbcebba443db826c6f0d6c839137cb0': {1991698: 'The role for this author in paper writing could be \"Lead Researcher\" or \"Principal Investigator\".',\n  1703872: 'The role of the author in paper writing could be \"Contributor to the research methodology and experimental design\".',\n  34754787: 'The role of this author in paper writing could be a co-author or a contributing author.'},\n '0ed846e87ce0961d162e9115b4e9837537138e3a': {1776779: 'Author and Researcher',\n  143609903: 'Author'},\n '1e62a8afbe6018540c60d9dcce1ff6bd98f2e404': {1762499: 'The role of this author in paper writing could be a co-author or a contributing author.',\n  1801330: 'The role of this author in paper writing could be a co-author or a contributing author.',\n  40473936: 'The role of this author in paper writing could be a co-author or a contributing author.',\n  143764471: 'The role of this author in paper writing could be a co-author or a contributing author.',\n  145818752: 'The role of this author in paper writing could be a co-author or a contributing author. They have conducted research and presented their findings on predicting the quality of queries in text retrieval-based software engineering tasks. Their work aligns with the key areas of defect prediction, machine learning, classifiers, cross-project analysis, software systems, and empirical study. They have also conducted a statistical analysis and detection of defect-prone entities. Therefore, their expertise and contributions make them suitable for being a co-author or a contributing author in the paper.',\n  1703872: 'The role of this author in paper writing could be a co-author or contributor in the area of software analytics and code smell detection.'},\n '433f2ad582b75d593d12f47d717d0fea0bd824de': {1737649: 'The role of this author in paper writing could be a software engineering researcher or practitioner.',\n  2592868: 'The role of this author in paper writing could be a co-author or a contributing author.'},\n '0bfca74dd16aad83216742115231d400d60a9f0d': {7274019: 'Author and Researcher',\n  143609903: 'Author',\n  145193818: 'Author and Researcher'},\n 'e8f19d716d3d5391d1bb6254b11fa88e7f011f62': {144273542: 'The role of this author in paper writing could be focused on the topics of community smells, socio-technical issues, and open-source communities. They could contribute to the literature review, research roadmap, primary studies, thematic coding, and design decisions related to these topics. Additionally, they could provide insights and analysis on the impact of community smells and their relationship to socio-technical factors.',\n  144946385: 'Author and Program Designer',\n  144884703: 'The role of this author in paper writing could be focused on the analysis and discussion of the empirical evidence related to GSE organizational factors and their mapping onto OSS types. They would also contribute to the conclusions and recommendations for future research in GSE, particularly in terms of increasing support for process management and organizational efficiency, as well as the inclusion of factors related to awareness management.'},\n '92ca9f57ebb0cfdbfa07e5d5956e11509f902f0b': {1803468: 'The role for this author in paper writing could be \"Lead Author\" or \"Principal Investigator\".',\n  1722904: 'The role of this author in paper writing could be a \"Machine Learning Engineer\" or \"Data Scientist\" as they are involved in investigating the combination of log data embedding strategies and Deep Learning (DL) models for failure prediction.'},\n '7bcfe45fbdccbfc4667540b3c54b4aff398d140c': {144273542: 'The role of the author in paper writing could be a researcher or a software engineer specializing in socio-technical aspects of software development communities.',\n  144947570: 'The role of the author in paper writing could be the lead author or the primary researcher.',\n  144946385: 'The role of this author in paper writing could be the lead researcher or principal investigator.',\n  144884703: 'The role of the author in paper writing could be \"Lead Author\" or \"Principal Investigator\".'},\n '396eab2434bcfd369b472fa494b62cee8465a2f4': {145906750: 'The role of this author in paper writing could be the lead researcher or the main contributor in developing the metrics for measuring code behavioral similarity in programming and software engineering education.',\n  1975055: 'Author and Developer of Pex4Fun',\n  2537944: 'The role of this author in paper writing could be focused on the development and implementation of software tools, specifically in the area of interactive gaming for teaching and learning programming and software engineering. They could also contribute to the discussion on web technologies and human-tool interaction, as well as provide insights from their experience working at Microsoft Research and their involvement in the community use of the Pex4Fun platform.'},\n '1727443b1a5c14663f4b04e7c6f27c36ca1c1ba3': {1724774: 'Lead Author',\n  52099029: 'Author',\n  3174392: 'Ethnographic Research Methodology Expert'},\n 'cf20d6130160843e5cd8ef8f5553d66a920bc6f3': {39824517: 'Author and Researcher',\n  1714524: 'The role for this author in paper writing could be \"Software Evaluation and Verification Specialist\".'},\n '7093ea1420fca2a2cf679073ae14b77f07d5fbe5': {49368775: 'Author and Workshop Organizer',\n  1702983: 'Author responsible for the topics of security, mistakes, information systems, and deployment projects.',\n  34838618: 'Contributions'},\n 'd48a7458182aeebf080d4bc2b0100e6d126c1b79': {143665272: 'The role of the author in paper writing could be the lead author or the primary author.',\n  1680103: 'The role of the author in paper writing could be \"Contributor\" or \"Co-author\".',\n  2268198: 'The role for this author in paper writing could be \"Contributor to the development and evaluation of the ENTRUST methodology for architecting trustworthy self-adaptive systems.\"',\n  144633549: 'The role of this author in paper writing could be a co-author or contributor in the area of formal verification and decentralized self-adaptive systems.',\n  2512463: 'The role for this author in paper writing could be a co-author or contributor.',\n  143797250: 'The role of this author in paper writing could be focused on the following areas:  - Assurance cases: This author could contribute to the discussion and development of assurance cases, both at design time and runtime, and their importance in ensuring the dependability of CPS. - Formal methods: This author could contribute to the exploration and application of formal methods in the development and verification of assurance cases. - Isabelle system: This author could have expertise in using the Isabelle system, a popular tool for formal verification, and could contribute to the discussion and application of this tool in the context of model-based assurance cases. - Structured Assurance Case Meta-model (SACM): This author could contribute to the discussion and development of the SACM, a meta-model for structuring assurance cases, and its application in the transition from design time to runtime. - Formal analysis techniques: This author could contribute to the exploration and application of formal analysis techniques in the verification of assurance cases. - Verification framework: This author could contribute to the development and evaluation of a verification framework for runtime assurance cases. - Tokeneer security case: This author could have expertise in the Tokeneer security case, a well-known case study in the field of assurance, and could contribute to its application and evaluation in the context of model-based assurance cases.'},\n '35e06978cd069786ff7ab05ac29d6e2e28f1bad6': {2720412: 'The role of this author in paper writing could be \"Lead Author\" or \"Principal Investigator\".',\n  3113419: 'Author and Researcher'},\n 'ab2ec1a1b6fdb710b2782554086a4782d50fc2c8': {3174392: 'Author role: The author could be assigned the role of a software engineer or a researcher specializing in software engineering.',\n  1724774: 'Lead Author'},\n '7e5933ff05db0f1edf6d98992d1a3bd31813b4c0': {2560387: 'Scrum and Agile Release Planning Expert',\n  1741744: 'Author role: Collaborative software development, distributed teams, task management, planning, visual tools, real-time collaboration, Github integration.',\n  1846281: 'Author and Researcher',\n  1954646: 'The role for this author in paper writing could be \"Agile Scaling Frameworks Researcher\" or \"Survey Design and Analysis Expert\".'},\n 'bdfb23a874d6222d4a800b3379348d784ff4f43d': {49703359: 'The role of this author in paper writing could be a co-author or a contributing author.',\n  3179220: 'The role of this author in paper writing could be a co-author or a contributor. They have expertise in cybersecurity, Semantic Web, NVD, vulnerabilities, social media, NLP, and heterogeneous data sources, which are relevant to the topics discussed in the paper. They can contribute to the discussion and analysis of the data and findings related to these areas.',\n  1730296: 'The role of this author in paper writing could be a co-author or a contributing author.'},\n '05882b3376dddab5066015b46704bb7bfe3946cc': {1710587: 'The role of this author in paper writing could be focused on the topics of code examples, API learning, authoring techniques, presentation formats, annotated code examples, HTML documents, explanations, audience needs, streamlined authoring process, Java code examples, computer science education, user preferences, and navigation aids. They could contribute to the research and writing of these specific areas, providing expertise and insights in these topics.',\n  13476544: 'The role of this author in paper writing could be a co-author or contributor.',\n  143609903: 'Author specializing in software analytics and information overload in software development.'},\n '87cc9fb5129781b74750d88f83472f2cd644ca60': {39391305: 'The role of the author in paper writing could be the lead author or the principal investigator.',\n  145712621: 'The role of this author in paper writing could be a software engineer or a researcher.',\n  1781524: 'The role of this author in paper writing could be focused on the topics of Artificial Intelligence, Decision Making, Explanations, Transparency, and User Concerns. They could contribute to the discussion on how these topics relate to work practices in software engineering and the design of tools for software engineers. They may also provide insights into the principles, requirements, and mapping of these topics in the context of the research presented in the paper. Additionally, they could contribute to the discussion on the strengths and shortcomings of the tool developed as a result of the studies.',\n  2329984: 'The role of this author in paper writing could be a software engineer or a software engineering researcher.'},\n '1c5b80259a8b8b4d4f286a86ab2d5ea983ee0db5': {39824517: 'Author and Researcher',\n  1714524: 'Author role: Software testing and evaluation specialist'},\n 'bdc141c6bd4b9454c06d57744e43ca9eaa5c657a': {145278906: 'Author',\n  2745548: 'Author and reviewer'},\n '185b75fa4b4b0096cbb957a4d7a2aa4438618f10': {1743022: 'Author',\n  144993235: 'Author - Global Software Engineering, Evolution and Trends',\n  1782810: 'Author',\n  144540280: 'Author and Researcher'},\n '59d3ec40b4f17ed94dc5ae510c316ac511915031': {48212955: 'The role of this author in paper writing could be a co-author or a contributing author.',\n  145348760: 'Quality Assessment Researcher'},\n 'a3c99ea03a9d27f7f37ae7f3962e817b24abd3e1': {3174392: 'Author and Researcher',\n  1724774: 'Quality Assessment and Grading Methodologies'},\n 'e23e287baf50b5b9a19774de6d6fb356b6bac212': {144890499: 'The role of this author in paper writing could be a co-author or a contributor in the section related to defect prediction. They could provide insights, analysis, and recommendations based on their research findings and survey results.',\n  145906750: 'The role of this author in paper writing could be \"Lead Researcher\" or \"Principal Investigator\".'},\n '15daae4c253eaeb6b1194e1fe6230ac3e394ae5a': {51916153: 'Author and Researcher',\n  153064007: 'The role for this author in paper writing could be a software engineering educator or instructor.'},\n 'c9382574e6a868fe45aa9cc09d19c0f5fadbd652': {145968635: 'The role of this author in paper writing could be a researcher or investigator.',\n  1724774: 'The role of this author in paper writing could be \"Empirical Research Methods Expert\" or \"Educational Practices Specialist\".',\n  50518658: 'The role of this author in paper writing could be to provide insights and experiences on teaching evidence-based software engineering to university students. They can contribute to the discussion on the organization and lessons learned from their own course, as well as encourage other universities to develop their own EBSE courses and report their experiences.'},\n '3713667bb3ce322c3bb078f4499017697a07282e': {1776779: 'Author',\n  1710751: 'Author responsible for the development and implementation of the Codebook social networking web service.',\n  143609903: 'The role of this author in paper writing could be a researcher or data analyst.'},\n '6763a821d8f6f204256b57767f6d8350075c175b': {145836176: 'Author of the paper',\n  144180122: 'The role for this author in paper writing could be a reviewer or a co-author.',\n  2145793494: 'Improving Module Clustering and C/C++ Editor'},\n '90b8cfa993357cccd94d05a4317342892516731b': {145906750: \"The role of this author in paper writing could be a co-author or a contributor. They have conducted a large empirical analysis and provided findings that can contribute to the paper's topic of mining SE data.\",\n  2730602: 'Test Automation and Tool Development Expert',\n  143960553: 'Author responsible for conducting the systematic evaluation of existing SA4SE tools and variants of pre-trained Transformer-based models on SE datasets, fine-tuning the models for the SA4SE task, and comparing their performance with existing tools.',\n  40430624: 'The role of this author in paper writing could be focused on the topics of software failures, failure reporting, failure indexing, bug characteristics, semantic bugs, noncrashing failures, dynamic program slicing, and gzip. They could contribute to the discussion and analysis of these topics, provide insights and recommendations, and potentially propose new approaches or methodologies related to these areas.'},\n '761bf03e086ce887a44dc5e44aefb0de05b4a47f': {145348760: 'The role of this author in paper writing could be a reviewer or analyst. They would be responsible for conducting the tertiary study, analyzing the data, and drawing conclusions based on the results.',\n  48212955: 'The role of the author in paper writing could be the lead researcher or principal investigator of the empirical research program on systematic reviews in software engineering.'},\n '75917fc7a6959793abe36da6ec678bd9518207cd': {3043822: 'The role for this author in paper writing could be \"Contributor\" or \"Co-author\".',\n  143863957: 'The role for this author in paper writing could be \"Contributor\" or \"Co-author\".',\n  2333440: 'The role for this author in paper writing could be a \"Design Pattern Discovery Expert\" or \"Software Re-engineering Specialist\".'},\n 'eece42f4d4bb7143643baa66cf6132b1c9e4915d': {1737649: 'Author',\n  1714524: 'Author role: The author can be assigned the role of a reviewer or synthesizer of research evidence in empirical software engineering.'},\n 'fbcffae04423ea97cb5463cd9d0794d780708746': {1904579: 'Author and Expert in Fault Tree Analysis and Reliability Analysis',\n  1777815: 'The role of this author in paper writing could be a software safety analyst or a software safety manager.'},\n '2ae398028f82555931c8c504886ec5857640c59e': {153750193: 'Data Analytics and Machine Learning Expert',\n  9424331: 'The role of the author in paper writing could be the lead author or the primary author.',\n  2559246: \"The role of this author in paper writing could be focused on the design research aspect, specifically in the areas of product and service meanings, Peirce's triadic model of signs, MeaningMap methodology, design as communication, task clarification, voice of customer, user group, and the communicative potential of products and services. They could contribute to the discussion and analysis of these topics, provide insights and recommendations based on their expertise, and potentially conduct empirical studies or qualitative approaches to gather data and support their arguments.\"},\n 'a01c4fc02389cd3b8b442e124018fc2cabfedad9': {2509884: 'The role for this author in paper writing could be focused on the implementation and evaluation of the use of podcasting in an inverted classroom. They could contribute to the sections discussing the technologies being utilized, the characteristics of the pilot course, and the implications of using podcasting in the inverted classroom model.',\n  9460021: 'The role for this author in paper writing could be \"Student Engagement and Attitudes Specialist\".',\n  1948823: \"Author role: The author's role in paper writing would be to contribute to the discussion and analysis of the integrated online courseware system (CSCW) in the context of computer science courses. They would provide insights and findings related to the system's features, such as automated grading, programming assignments, Java programming language, interfaces, object-oriented programming, procedural abstraction, API, static code analysis, PMD, bugs, dead code, suboptimal code, overcomplicated code, and runtime reflection. They would also contribute to the discussion on the benefits and challenges of using CSCW in computer science education.\"},\n '073c37ddc266657a9bc21ebad7abc97991237539': {3259396: 'Author',\n  143942786: 'Author',\n  1687239: 'Author'},\n '4abd729f079a650b0ed14aa06f25b2f1f3611e32': {1724774: 'The role for this author in paper writing could be \"Lead Author\" or \"Principal Investigator\".',\n  1398385064: 'The role for this author in paper writing could be a co-author or a contributing author.'},\n 'afdfec4b9a0a65ac246b96f747b8aa07dda642c1': {34917705: 'The role of the author in paper writing could be a software engineer or a software development researcher.',\n  1741315: 'Author',\n  145387038: 'Author'},\n 'fe627947c9f0467e9e06fedb6b35ee8dc77c17c8': {145278906: 'Author and expert in psychometrics and behavioral software engineering.',\n  2148843: 'Statistical Analysis Expert',\n  1763735: 'Statistical Analysis Expert',\n  50249310: 'Author'},\n '2f9f3311be9d707bdcb0eb2d995d711f9138e614': {84528225: 'Author in charge of the topic \"ConML modelling language\"',\n  1398046152: 'Author and Methodologist'},\n 'c575eb25feb0f06d2702fcf7751f6b4f61b892ee': {35710133: 'The role of this author in paper writing could be a co-author or contributor.',\n  143609903: 'The role of this author in paper writing would be to contribute to the section on security in software teams, specifically focusing on the topics of malicious contributions, anomalous commits, and the detection of malicious commits in repositories. They would also contribute to the discussion on the use of rule-based decision models for security purposes.',\n  1710751: 'The role of this author in paper writing could be a co-author or a contributing author.',\n  1776779: 'The role of this author in paper writing could be a co-author or a contributing author.'},\n 'd300348e57198af44ede8f70e3eabe30eb013dac': {1772462: 'Experience Management and Knowledge Management Expert',\n  1736314: 'Author of the section on \"Success Factors for Software Experience Bases\"'},\n 'daebea219735324da56cb5c181aee67193c7ea55': {144306547: 'The role of the author in paper writing could be \"Contributor to the State of the Art of Community-Driven Software Engineering Ontology Evolution\".',\n  144556101: 'The role for this author in paper writing could be \"Software Engineering Ontology Expert\" or \"Ontology Management Specialist\".',\n  145036570: 'The role of the author in paper writing could be \"Lead Researcher\" or \"Principal Investigator\".'},\n '2d69014c0d601c202f0c33dde2f646e8f31183c5': {52099029: 'The role of this author in paper writing could be a literature reviewer or a theoretical framework developer.',\n  1724774: 'The role of this author in paper writing could be a reviewer or critic of the use of theory in software engineering experiments. They have conducted a systematic review of the explicit use of theory in a set of articles and have analyzed the role and necessity of theories in empirical software engineering. Their work provides insights into the current state of theory-driven research in the field and highlights the potential benefits of involving theory in software engineering experiments.',\n  50518658: 'Author'},\n '95a48bcb1e7c5c6875f7ce30b7bcbdf215c3df1a': {144658639: 'Author: Responsible for conducting the case study at the industry partner, designing and instantiating the severity-aware RTP assessment model, and comparing state-of-the-art RTP approaches.',\n  1746798: 'Author in charge of Requirements Engineering and Artefact-based Approach',\n  145448058: 'Author role: The author could be assigned the role of contributing to the research challenges in the domain of automotive software engineering, specifically focusing on service-oriented architecture, distributed systems, service specification, Quality-of-Service properties, interactions, components, and case study.',\n  1712958: 'Author and Researcher'},\n '421306786efd93f82a69f9acacc44a4863a86aba': {1769095: 'The role of this author in paper writing could be focused on the topics of technology in training, mixed-reality simulations, exercise management tools, skill building metrics, performance analysis, deliberate practice, and emerging technologies. They could contribute to the discussion on the use of emerging technologies in crisis training, the development and evaluation of mixed-reality simulations for skill building, the analysis of performance metrics in exercise management tools, and the exploration of deliberate practice techniques in software engineering. Additionally, they could provide insights on the potential benefits and challenges of incorporating artificial design elements in software engineering experiments.',\n  52099029: 'Author and Researcher',\n  1724774: 'The role for this author in paper writing could be \"Contextualization Specialist\" or \"Empirical Research Expert\".'},\n '576c3b0ca9f1df60ea95f430b4d2c5348abb2be3': {34917705: 'The role for this author in paper writing could be focused on the development and application of symbolic execution rules within the problem-oriented software engineering (POSE) framework. They could contribute to the discussion and analysis of how symbolic execution can be used to reconcile the formal and non-formal aspects of software development, particularly in the context of system models, component models, and interaction rules. Additionally, they could provide examples and case studies that demonstrate the effectiveness of symbolic execution in the POSE approach.',\n  1741315: 'Author and lead researcher',\n  145387038: 'Author'},\n 'ba94ea2cdadd4f6741f3af37d7ce96abff845baf': {2919368: 'The role for this author in paper writing could be the lead researcher or the primary investigator.',\n  1739859: 'Researcher or Evaluator'},\n 'f91d47bbd10afc8fff7bc73b0fa5ce63dc975e1c': {3304135: 'The role of this author in paper writing could be the primary researcher or developer of the SecondWATCH workspace awareness tool.',\n  2118483756: 'Author and Project Lead',\n  1399138173: 'The role of this author in paper writing could be \"Software Engineering Education Specialist\" or \"Course Design and Implementation Expert\".'},\n 'a8392509227625ce76425af04d61b9a65f283d09': {144890499: 'Author',\n  145906750: 'Author'},\n 'bb83408e1e4116a37bb5b14a045b0bb49b02145d': {1711409: 'The role of the author in paper writing could be focused on the topic of software architecture, specifically on the foundations, theory, and practice of software architecture.',\n  1739859: 'Author'},\n '8f38aa370c0a09f5f26d68a3ffe7a06eb1844809': {1686793: 'The role for this author in paper writing could be \"Contributor\" or \"Reviewer\".',\n  1785952: 'The role of this author in paper writing could be a co-author or contributor in the area of software quality monitoring, case study methodology, and metrics analysis.'},\n 'cd888f88f8227ceebe1a551de4fc9cdf6bee6e54': {1989484: 'The role of this author in paper writing could be focused on the topics of visual specification, interactive systems, and prototyping. They could contribute to the development and description of the Inspector method and tool for visual UI specification.',\n  70111682: 'Author and Researcher',\n  1696202: 'Author and Researcher'},\n '4c6b43f5c68b82bdb814312b019af561eac5c6bc': {1688880: 'The role of the author in paper writing could be \"Lead Researcher\" or \"Principal Investigator\".',\n  1678281: 'The role for this author in paper writing could be \"Lead Developer and Architect of P-REST and PRIME Middleware\".',\n  1708457: 'Author'},\n '5b5e66d34a1df332706f861724ff48894ad28040': {40322316: 'The assigned role for this author in paper writing could be \"Program Committee Member\" or \"Reviewer\".',\n  145307943: 'Author',\n  1750786: 'Author',\n  100514330: 'The assigned role for this author in paper writing could be a reviewer or a member of the Program Committee.',\n  1711409: 'Author',\n  144181288: 'The assigned role for this author in paper writing could be a reviewer.',\n  2151194858: 'Author'},\n '3fad976398c0aef498d064ff6428ec761cd3a1e9': {144058180: 'The role of this author in paper writing could be a co-author or a contributing author.',\n  2944611: 'The role of this author in paper writing could be a contributor or co-author.'},\n 'dacd22e7d9a77fc98fdd62a5b11b89993c972378': {1803324: 'Author with expertise in security requirements engineering and software product lines.',\n  2247594: 'Author in charge of security requirements specification and modeling using BPMN and UML.'},\n '44c03dc9b3b637e6aa45368733fc7bab8ef4189e': {2339906: 'Author of the section on \"Design decision making\" and \"Social factors in design decision making\"',\n  1702764: 'Author specializing in Executable Acceptance Test-Driven Development (EATDD) and its impact on software quality and team communication.',\n  144417588: 'Author'},\n '40f08c6412a287e6708496d8ae1a10c2f9e72a21': {1724774: 'The role for this author in paper writing could be \"Empirical Research Methods Expert\" or \"Evidence-based Software Engineering Specialist\".',\n  145968635: 'Author and Researcher',\n  50518658: 'The role of this author in paper writing would be to provide an overview and analysis of how software engineering can benefit from an evidence-based approach. They would discuss the potential difficulties and challenges associated with implementing evidence-based software engineering and highlight the need for infrastructure and addressing specific problems unique to the field.'},\n '05acb25fccb689cb74b347929f425a6934e284bc': {145782037: 'The role for this author in paper writing could be a researcher or expert in the field of sustainable software systems.',\n  1951201: 'The role for this author in paper writing could be a co-author or a contributing author.',\n  2589438: 'The role for this author in paper writing could be a co-author or contributor in the areas of sustainability, software systems, and bridging the research divide.',\n  1693900: 'Software Sustainability Researcher',\n  1746525: 'Author',\n  2735747: 'The role for this author in paper writing could be a co-author or a contributing author.',\n  1743948: 'The role for this author in paper writing could be \"Contributor to the analysis of the differences and potential synergies between safety and sustainability in software engineering design.\"'},\n 'f99c245f2a7c011c38360b051a3058ca539bcfd0': {1751457: 'The role for this author in paper writing could be \"Contributor to the development of a basic understanding of the notion of variability in software architecture beyond the idea of product lines.\"',\n  1680103: 'The role of this author in paper writing could be focused on the topics of deep learning, adaptation space, self-adaptive systems, and multiple types of goals. They could contribute to the discussion and analysis of these topics within the context of variability in software systems. Additionally, they could provide insights and recommendations on how deep learning and self-adaptive systems can be utilized to handle variability and optimize goals in software engineering.',\n  3218505: 'The role of this author in paper writing could be focused on the analysis of microblogs for dependability information in variability-intensive open source software systems. They could contribute to the investigation of the feasibility and suitability of utilizing microblogs to identify and analyze dependability information, as well as the challenges and potential solutions in extracting and analyzing this information. Additionally, they could provide insights on the relation between issues reported by user communities in microblogs and issues and actions documented by developer communities in change logs and release information.',\n  2233191: 'The role of this author in paper writing could be focused on the development and implementation of the Architecture Query Language Framework. They would be responsible for designing and describing the framework, explaining its components (architecture model, Dynamic Viewpoints, Architecture Query Language), and discussing its potential benefits and applications. They may also contribute to the evaluation of the framework through the case studies and empirical study mentioned in the abstract.',\n  1727328: 'The role of this author in paper writing could be a co-author or a contributing author. They have conducted a survey and analyzed the data to investigate the interplay between software engineering and systems engineering during the architecting of Systems of Systems (SoS). Their work contributes to understanding the challenges and problems in this interplay and suggests the need for tighter collaboration between the two disciplines.'},\n '286c57dd231dcac718f556f76ece89db7571d380': {2011117: 'The role for this author in paper writing could be \"Lead Author\" or \"Principal Investigator\".',\n  1717417: 'Lead Author'},\n '33725ed48b124e6897860dcb1eb5ac7e06fe0611': {2221293: 'Author or Co-author',\n  1732694: 'Author and Metrics Specialist',\n  1684412: 'The role of this author in paper writing could be focused on the engineering aspects of decentralized systems, autonomous service components, ensembles, feedback loops, and tool support for self-adaptive systems. They could also contribute to the modeling, simulating, and validating of self-adaptive systems, particularly using the SimSOTA Eclipse plug-in. Additionally, their expertise in cooperative electric vehicles could be valuable in discussing the application of agent-oriented software engineering in this domain.'},\n '2e122c81cdf362e34b84bc5286a87bbf82e6d7d0': {1737204: 'The role of this author in paper writing could be the lead researcher or principal investigator.',\n  2178536: 'The role of this author in paper writing could be focused on the development and implementation of the approach for supporting assertions in end-user software, specifically in the spreadsheet paradigm. They may have conducted the controlled experiment with end-user subjects and analyzed the results to determine the usefulness of this approach. Additionally, they may have contributed to the discussion on the implications of using assertions in end-user programming, such as increased correctness and efficiency.',\n  1722304: 'The role of this author in paper writing could be focused on the development and implementation of methodologies and techniques to help end-users create more dependable software. They would be responsible for adapting formal software engineering techniques to the realm of end-user programming, specifically in the context of safeguarding military software.'},\n '74ea36e76ae8a208336d3cf79ce1482245264363': {1814797: 'The role of the author in paper writing could be the lead author or the primary author.',\n  1905185: 'Author'},\n '49be9d3df3b1e40f3f01443c38e9f92a643eaa0d': {2459600: 'Author and Software Quality Expert',\n  1768861: 'Author role: User involvement researcher and advocate',\n  2898638: 'Author'},\n '33419d151b854d6268d5608cffdf25a8395d4967': {144082233: 'The role of this author in paper writing could be focused on software project tracking, team assessment methodologies, and developing the COnstructive Team Improvement Process MOdel (COTIPMO) framework.',\n  1482584966: 'Author'},\n '1f1e25367457f67d74ea2a3b497645898c5962a8': {1705823: 'Author',\n  1693900: 'The role of this author in paper writing could be a researcher or a social scientist.',\n  144345125: 'Author'},\n '7044cf26d6f6ffe4804e0aaf7c18d6c6da5e3766': {1716252: 'The role of this author in paper writing could be focused on the topics of software change, agile development methods, and DevOps. They could contribute to the discussion on the need for principled and rigorous foundations in handling software change, as well as the benefits and challenges of adopting agile and DevOps approaches.',\n  1799805: 'Author'}}"
          },
          "metadata": {}
        }
      ],
      "execution_count": 63,
      "metadata": {
        "jupyter": {
          "source_hidden": false,
          "outputs_hidden": false
        },
        "nteract": {
          "transient": {
            "deleting": false
          }
        },
        "gather": {
          "logged": 1695477756386
        }
      }
    },
    {
      "cell_type": "code",
      "source": [],
      "outputs": [],
      "execution_count": null,
      "metadata": {
        "jupyter": {
          "source_hidden": false,
          "outputs_hidden": false
        },
        "nteract": {
          "transient": {
            "deleting": false
          }
        }
      }
    }
  ],
  "metadata": {
    "kernelspec": {
      "name": "python38-azureml",
      "language": "python",
      "display_name": "Python 3.8 - AzureML"
    },
    "language_info": {
      "name": "python",
      "version": "3.8.5",
      "mimetype": "text/x-python",
      "codemirror_mode": {
        "name": "ipython",
        "version": 3
      },
      "pygments_lexer": "ipython3",
      "nbconvert_exporter": "python",
      "file_extension": ".py"
    },
    "microsoft": {
      "ms_spell_check": {
        "ms_spell_check_language": "en"
      },
      "host": {
        "AzureML": {
          "notebookHasBeenCompleted": true
        }
      }
    },
    "kernel_info": {
      "name": "python38-azureml"
    },
    "nteract": {
      "version": "nteract-front-end@1.0.0"
    }
  },
  "nbformat": 4,
  "nbformat_minor": 2
}